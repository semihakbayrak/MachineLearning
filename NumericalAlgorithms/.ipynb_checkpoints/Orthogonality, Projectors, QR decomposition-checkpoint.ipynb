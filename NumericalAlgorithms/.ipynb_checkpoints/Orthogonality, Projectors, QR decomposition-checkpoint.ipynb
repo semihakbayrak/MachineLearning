{
 "cells": [
  {
   "cell_type": "code",
   "execution_count": 1,
   "metadata": {},
   "outputs": [],
   "source": [
    "using LinearAlgebra"
   ]
  },
  {
   "cell_type": "markdown",
   "metadata": {},
   "source": [
    "Recall that least square solution to $Ax = b$ is $(A^* A)x = A^* b$. Although it works quite consistently in many cases, $cond(A^* A)$ is approximately $cond(A)^2$. So $A^* A$ can be ill-conditioned which means that its columns may not be as independent as we desire and may cause significant errors."
   ]
  },
  {
   "cell_type": "markdown",
   "metadata": {},
   "source": [
    "# Orthogonality"
   ]
  },
  {
   "cell_type": "markdown",
   "metadata": {},
   "source": [
    "Two vectors $q_1$ and $q_2$ are orthonormal if $q_1^* q_2 = 0$ and $||q1||_2 = ||q2||_2 = 1$. Square matrices that have orthonormal columns are called univariate (orthogonal if entities are real) matrices: $Q = \\begin{bmatrix}\n",
    "    \\vert & \\vert & & \\vert \\\\\n",
    "    q_1   & q_2 & ... & q_n   \\\\\n",
    "    \\vert & \\vert & & \\vert\n",
    "\\end{bmatrix}$"
   ]
  },
  {
   "cell_type": "markdown",
   "metadata": {},
   "source": [
    "Note that $Q^* Q = Q Q^* = I$ which also implies that $Q^{-1} = Q^*$"
   ]
  },
  {
   "cell_type": "markdown",
   "metadata": {},
   "source": [
    "# Projector"
   ]
  },
  {
   "cell_type": "markdown",
   "metadata": {},
   "source": [
    "- A projector $P$ is a square matrix that satisfies $P^2 = P$.\n",
    "\n",
    "- A projector is orthogonal if it is hermitian (symmetric if entities are real): $P = P^*$.\n",
    "\n",
    "- If $P$ is a projector, $I-P$ is also a projector. If $P$ is an orthogonal projector then $I-P$ is also an orthogonal projector.\n",
    "\n",
    "__Rank one orthogonal projector:__ Given a unit vector $q$, $q q^*$ is an orthogonal projector.\n",
    "\n",
    "__Proof:__ It is a projector since $q q^* q q^* = q I q^* = q q^*$. It is orthogonal since $(q q^*)^* = q q^*$.\n",
    "\n",
    "__Note:__ $I-q q^*$ is rank $n-1$ orthogonal projector.\n",
    "\n",
    "__Note:__ For any vector $a$ except $a=0$, $\\frac{a a^*}{a^* a}$ is also an orthogonal projector since it is equal to $\\frac{a}{|a|_2} \\frac{a^*}{|a|_2}$.\n",
    "\n",
    "__Projection with an arbitrary basis:__ Above rule for vectors can be generalized to matrices: $P = A (A^* A)^{-1} A^*$ is an orthogonal projector for any $A$ in $\\mathbb{R}^{m \\times n}$ but matrix of zeros."
   ]
  },
  {
   "cell_type": "code",
   "execution_count": 8,
   "metadata": {},
   "outputs": [
    {
     "data": {
      "text/plain": [
       "4×4 Array{Float64,2}:\n",
       "  0.848858   -0.0964794   0.285151   0.19411 \n",
       " -0.0964794   0.938414    0.182022   0.123908\n",
       "  0.285151    0.182022    0.462022  -0.366217\n",
       "  0.19411     0.123908   -0.366217   0.750706"
      ]
     },
     "execution_count": 8,
     "metadata": {},
     "output_type": "execute_result"
    }
   ],
   "source": [
    "A = randn(4,3)\n",
    "P = A*inv(transpose(A)*A)*transpose(A)"
   ]
  },
  {
   "cell_type": "code",
   "execution_count": 9,
   "metadata": {},
   "outputs": [
    {
     "data": {
      "text/plain": [
       "4×4 Array{Float64,2}:\n",
       "  0.848858   -0.0964794   0.285151   0.19411 \n",
       " -0.0964794   0.938414    0.182022   0.123908\n",
       "  0.285151    0.182022    0.462022  -0.366217\n",
       "  0.19411     0.123908   -0.366217   0.750706"
      ]
     },
     "execution_count": 9,
     "metadata": {},
     "output_type": "execute_result"
    }
   ],
   "source": [
    "P*P"
   ]
  },
  {
   "cell_type": "markdown",
   "metadata": {},
   "source": [
    "Consider an $m \\times n$ dimensional matrix $S$ where $m>n$ with orthonormal columns. Then $S^* S = I_{n \\times n}$ and $S S^*$ is an orthogonal projector. Below a simple example with standard bases is given below: "
   ]
  },
  {
   "cell_type": "code",
   "execution_count": 10,
   "metadata": {},
   "outputs": [
    {
     "data": {
      "text/plain": [
       "3×2 Array{Int64,2}:\n",
       " 1  0\n",
       " 0  1\n",
       " 0  0"
      ]
     },
     "execution_count": 10,
     "metadata": {},
     "output_type": "execute_result"
    }
   ],
   "source": [
    "S = [1 0; 0 1; 0 0]"
   ]
  },
  {
   "cell_type": "code",
   "execution_count": 11,
   "metadata": {},
   "outputs": [
    {
     "data": {
      "text/plain": [
       "2×2 Array{Int64,2}:\n",
       " 1  0\n",
       " 0  1"
      ]
     },
     "execution_count": 11,
     "metadata": {},
     "output_type": "execute_result"
    }
   ],
   "source": [
    "transpose(S)*S"
   ]
  },
  {
   "cell_type": "code",
   "execution_count": 12,
   "metadata": {},
   "outputs": [
    {
     "data": {
      "text/plain": [
       "3×3 Array{Int64,2}:\n",
       " 1  0  0\n",
       " 0  1  0\n",
       " 0  0  0"
      ]
     },
     "execution_count": 12,
     "metadata": {},
     "output_type": "execute_result"
    }
   ],
   "source": [
    "P = S*transpose(S)"
   ]
  },
  {
   "cell_type": "code",
   "execution_count": 13,
   "metadata": {},
   "outputs": [
    {
     "data": {
      "text/plain": [
       "3×3 Array{Int64,2}:\n",
       " 1  0  0\n",
       " 0  1  0\n",
       " 0  0  0"
      ]
     },
     "execution_count": 13,
     "metadata": {},
     "output_type": "execute_result"
    }
   ],
   "source": [
    "P*P"
   ]
  },
  {
   "cell_type": "markdown",
   "metadata": {},
   "source": [
    "# Pseudoinverse"
   ]
  },
  {
   "cell_type": "code",
   "execution_count": null,
   "metadata": {},
   "outputs": [],
   "source": []
  }
 ],
 "metadata": {
  "kernelspec": {
   "display_name": "Julia 1.2.0-rc1",
   "language": "julia",
   "name": "julia-1.2"
  },
  "language_info": {
   "file_extension": ".jl",
   "mimetype": "application/julia",
   "name": "julia",
   "version": "1.2.0"
  }
 },
 "nbformat": 4,
 "nbformat_minor": 2
}
