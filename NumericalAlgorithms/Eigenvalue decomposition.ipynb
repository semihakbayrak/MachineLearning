{
 "cells": [
  {
   "cell_type": "code",
   "execution_count": 1,
   "metadata": {},
   "outputs": [],
   "source": [
    "using LinearAlgebra"
   ]
  },
  {
   "cell_type": "markdown",
   "metadata": {},
   "source": [
    "For symmetric $A$, the critical points of $x^T A x$ subject to $||x||_2 = 1$ are eigenvectors of $A$:\n",
    "\n",
    "$C(x) = x^T A x - \\lambda (1-x^Tx)$\n",
    "\n",
    "$\\nabla_x C(x) = 0 => 2Ax - 2\\lambda x = 0 => Ax = \\lambda x$"
   ]
  },
  {
   "cell_type": "markdown",
   "metadata": {},
   "source": [
    "$A$ must be symmetric (or hermitian) for eigenvectors to be critical points, otherwise $\\nabla_x x^TAx = (A^T+A)x \\neq 2Ax$."
   ]
  },
  {
   "cell_type": "markdown",
   "metadata": {},
   "source": [
    "Constraint $||x||_2=1$ is also required since it prevents critical point to be $x=0$."
   ]
  },
  {
   "cell_type": "markdown",
   "metadata": {},
   "source": [
    "This type of objectives are ubiquitous. Some examples are given below."
   ]
  },
  {
   "cell_type": "markdown",
   "metadata": {},
   "source": [
    "__Example 1 (PCA):__ Consider $N$ instances $x^{1:N}$ where each instance $x^i$ has $d$ features. All these data points are represented with $N \\times d$ dimensional matrix $X$ and the mean of the feautures and covariance between the features are $d$ and $d \\times d$ dimensional $\\mu$ and $\\Sigma$, respectively. Sometimes some of the features are highly correlated so not all the features are informative. We may then find a new lower dimensional ($k$ s.t. $k<d$) space where the data instances are scattered well and easily seperable. Let's get started with the first new dimension. Suppose a unit vector $q_1$ lies on this one-dimensional space. Then the projection of an instance $x^i$ on this space is $z_1^i = q_1^T x^i q_1$. Doing this projection to all instances we get $z_1^{i:N}$ with mean $m_1 = q_1^T \\mu q_1$ and variance $v_1 = q_1^T \\Sigma q_1$. In order for these new instances to be scattered as much as possible, we want variance $v_1$ to be maximum. Therefore our task becomes: $\\underset{q_1}{\\text{max }} q_1^T \\Sigma q_1$ subject to $q_1^T q_1 = 1$. This objective is maximized with the largest eigenvalue of $\\Sigma$:\n",
    "\n",
    "$\\underset{q_1}{\\text{max }} q_1^T \\Sigma q_1 - \\lambda(1 - q_1^T q_1) => \\Sigma q_1 = \\lambda q_1$.\n",
    "\n",
    "We want second one-dimensional new space to maximize the variance, as well. We introduce unit variance $q_2$ which is supposed to be orthogonal to $q_1$: \n",
    "\n",
    "$\\underset{q_2}{\\text{max }} q_2^T \\Sigma q_2 - \\lambda_1(1 - q_2^T q_2) - \\lambda_2(0-q_2^T q_1) => \\Sigma q_2 - \\lambda_1 q_2 - 0.5 \\lambda_2 q_1 = 0$\n",
    "\n",
    "Multiplying with $q_1^T$, the above equation turns into $\\underbrace{q_1^T \\Sigma q_2}_{\\lambda q_1^T q_2 = 0} - \\underbrace{\\lambda_1 q_1^T q_2}_{0} - 0.5 \\lambda_2 q_1^T q_1 = 0$\n",
    "\n",
    "So $\\lambda_2 = 0$ => $\\Sigma q_2 = \\lambda_1 q_2$ => $q_2$ is the second largest eigenvector. In a similar fashion, we can extend it to $k$ dimension."
   ]
  },
  {
   "cell_type": "markdown",
   "metadata": {},
   "source": [
    "__Example 2 (Differential equations):__ Many dynamical systems can be formulated in the form of $y' = B y$. Assume we know the $k$ eigenvectors of $B$ which are $y_1, y_2, ..., y_k$. Writing the initial condition by using these eigenvectors, we can make the analysis of the state of this dynamical system at time t:\n",
    "\n",
    "$\n",
    "y(0) = c_1 y_1 + c_2 y_2 + ... + c_k y_k \\\\\n",
    "y(t) = c_1 e^{\\lambda_1 t}y_1 + c_2 e^{\\lambda_2 t}y_2 + ... + c_k e^{\\lambda_k t}y_k\n",
    "$\n",
    "\n",
    "In many situations, it is expensive to find the eigenvectors and $B$ may change over time."
   ]
  },
  {
   "cell_type": "markdown",
   "metadata": {},
   "source": [
    "__Example 3 (Spectral Embedding):__ For a given collection of data instances (such as photos, documents, twitter acounts), we may want to locate them in a lower dimensional space such that similar instances will be close to each other. In one dimensional space, this task refers to locating the instances on numerical axis. Similiarity between instances $i$ and $j$ is scored with $w_{ij} = w_{ji} \\geq 0$. This score can be based on any reasonable similiarity metric (such as sth based on pixel values, frequency of words appear in documents, or a graph structure that indicates the connections between the accounts). Instances $i$ and $j$ takes the values $x_i$ and $x_j$ on the numerical axis and all the values are stored in the vector $x = [x_1, x_2, ... ]$. We introduce an energy function to minimize to achieve this setting: $E(x) = \\sum\\limits_{ij}w_{ij}(x_i-x_j)^2$. Note that this would be minimized by setting all numbers to zero or equal to each other. We avoid these circumstances by additional two constraints that are $||x||_2^2 = 1$ and $1_d^T x = 0$ where $1_d^T$ is $d$ dimensional vector of ones. So the overall objective is:\n",
    "\n",
    "$\n",
    "\\underset{x}{\\text{min }} E(x) \\text{ subject to } ||x||_2^2 = 1 \\text{ and } 1_d^T x = 0. \\\\\n",
    "E(x) = \\sum\\limits_{ij}w_{ij}(x_i-x_j)^2 = \\sum\\limits_{ij} w_{ij}(x_i^2-2x_ix_j+x_j^2)\n",
    "= \\sum\\limits_{i} a_i x_i^2 -2 \\sum\\limits_{ij}w_{ij}x_ix_j + \\sum\\limits_{j} a_j x_j^2\n",
    "= 2 x^T (A-W) x\n",
    "$\n",
    "\n",
    "where $W$ is the matrix of similarity scores, $a = W 1_d = W^T 1_d$ and $A=diag(a)$.\n",
    "\n",
    "So the task is minimizing $x^T (A-W) x$ subject to $||x||_2^2 = 1$ and $1_d^T x = 0$. Note that $A-W$ is a symmetric matrix. Indeed it is also positive semi-definite since it is diagonally dominant matrix (https://en.wikipedia.org/wiki/Diagonally_dominant_matrix#Applications_and_properties) (A Hermitian diagonally dominant matrix with real non-negative diagonal entries is positive semidefinite.). Since it is a symmetric positive semi-definite matrix, its all eigenvalues are real and nonnegative. Indeed $0$ is the smallest eigenvalue of $A-W$ with eigenvector $1_d$:\n",
    "\n",
    "$\n",
    "(A-W) 1_d = A 1_d - W 1_d = a - a = 0_d = 0 \\cdot 1_d\n",
    "$\n",
    "\n",
    "However, this eigenvector violates the constraints. So we choose the eigenvector with the second smallest eigenvalue as the solution to the problem. The dimensionality of the manifold can be increased by simply going to the other small eigenvectors in order.\n",
    "\n",
    "__Proof:__ $C(x) = 2 x^T (A-W) x - \\lambda_1 (1-x^Tx) - \\lambda_2(1_d^T x)\n",
    "\\\\ \\nabla_x C(x) = 4(A-W)x + 2 \\lambda_1 x - \\lambda_2 1_d = 0\n",
    "$\n",
    "\n",
    "Multiplying both sides of equality with $1_d^T$ from left, we reach\n",
    "\n",
    "$\n",
    "4 \\cdot \\underbrace{1_d^T(A-W)}_{0}x + 2 \\lambda_1 \\underbrace{1_d^Tx}_{0} - d \\cdot \\lambda_2 = 0 \\text{ so, } \\lambda_2 = 0\n",
    "$\n",
    "\n",
    "Therefore $2(W-A)x = \\lambda_1 x$. We don't accept $\\lambda_1 = 0$ which and corresponding eigenvector $1_d$. Instead, we take the second smallest eigenvalue's corresponding eigenvector as the solution."
   ]
  },
  {
   "cell_type": "markdown",
   "metadata": {},
   "source": [
    "__Spectrum:__ Spectrum of a matrix $A$ is the set of all its eigenvalues. The eigenvalue with the maximum length $|\\lambda|$ is the spectral radius $\\rho(A)$ of the matrix."
   ]
  },
  {
   "cell_type": "markdown",
   "metadata": {},
   "source": [
    "__Note:__ Eigenvectors that corresponds to an eigenvalue $\\lambda$ are not unique because if $x$ is an eigenvector of $A$ with eigenvalue $\\lambda$, $cx$ with constant $c$ has also same eigenvalue: $Acx = c Ax = \\lambda cx$. Often we constraint the eigenvectors with those with unite lengths $||x||_2 = 1$. This constraints the eigenvecctors to $\\pm x$."
   ]
  },
  {
   "cell_type": "code",
   "execution_count": 2,
   "metadata": {},
   "outputs": [
    {
     "data": {
      "text/plain": [
       "3×3 Array{Float64,2}:\n",
       " 1.0  0.0   2.1\n",
       " 0.0  3.0   4.5\n",
       " 0.4  0.0  18.0"
      ]
     },
     "execution_count": 2,
     "metadata": {},
     "output_type": "execute_result"
    }
   ],
   "source": [
    "A = [1.0 0.0 2.1; 0.0 3.0 4.5; 0.4 0.0 18.0]"
   ]
  },
  {
   "cell_type": "code",
   "execution_count": 3,
   "metadata": {},
   "outputs": [
    {
     "data": {
      "text/plain": [
       "Eigen{Float64,Float64,Array{Float64,2},Array{Float64,1}}\n",
       "eigenvalues:\n",
       "3-element Array{Float64,1}:\n",
       "  0.9507310254033996\n",
       "  3.0               \n",
       " 18.0492689745966   \n",
       "eigenvectors:\n",
       "3×3 Array{Float64,2}:\n",
       " -0.998402   0.0  -0.117196\n",
       " -0.0514367  1.0  -0.28451 \n",
       "  0.0234239  0.0  -0.951482"
      ]
     },
     "execution_count": 3,
     "metadata": {},
     "output_type": "execute_result"
    }
   ],
   "source": [
    "vals, vecs = eigen(A)"
   ]
  },
  {
   "cell_type": "code",
   "execution_count": 4,
   "metadata": {},
   "outputs": [
    {
     "name": "stdout",
     "output_type": "stream",
     "text": [
      "norm(vecs[:, 1]) = 1.0\n",
      "norm(vecs[:, 2]) = 1.0\n",
      "norm(vecs[:, 3]) = 0.9999999999999999\n"
     ]
    }
   ],
   "source": [
    "@show norm(vecs[:,1])\n",
    "@show norm(vecs[:,2])\n",
    "@show norm(vecs[:,3])\n",
    ";"
   ]
  },
  {
   "cell_type": "code",
   "execution_count": 5,
   "metadata": {},
   "outputs": [
    {
     "name": "stdout",
     "output_type": "stream",
     "text": [
      "[-11.390535565327312, -0.5868294788810013, 0.2672380987665619]\n",
      "[-11.390535565327307, -0.5868294788810017, 0.26723809876656174]\n"
     ]
    }
   ],
   "source": [
    "println(A*(12 .* vecs[:,1]))\n",
    "println(vals[1].*(12 .* vecs[:,1]))\n",
    ";"
   ]
  },
  {
   "cell_type": "markdown",
   "metadata": {},
   "source": [
    "__Remark:__ Eigenvalue decomposition is defined only for square ($n \\times n$ dimensional) matrices. Considering the definition $Ax = \\lambda x$, we can write it as $(A- \\lambda \\cdot I_{n \\times n})x = 0$. Since $x \\neq 0$, $\\lambda$ is the value that makes $A- \\lambda \\cdot I_{n \\times n}$ singular."
   ]
  },
  {
   "cell_type": "markdown",
   "metadata": {},
   "source": [
    "__Remark:__ All square matrices has at least one eigen vector. Many of them have complex valued elements."
   ]
  },
  {
   "cell_type": "code",
   "execution_count": 6,
   "metadata": {},
   "outputs": [
    {
     "data": {
      "text/plain": [
       "Eigen{Complex{Float64},Complex{Float64},Array{Complex{Float64},2},Array{Complex{Float64},1}}\n",
       "eigenvalues:\n",
       "5-element Array{Complex{Float64},1}:\n",
       " -1.5687304540066158 + 0.0im               \n",
       "  0.1490412199564453 - 1.8809981394362802im\n",
       "  0.1490412199564453 + 1.8809981394362802im\n",
       "  0.8578458766563556 + 0.0im               \n",
       "  3.1679070232157316 + 0.0im               \n",
       "eigenvectors:\n",
       "5×5 Array{Complex{Float64},2}:\n",
       "  0.862696+0.0im   0.261904+0.377095im  …  0.0124041+0.0im   -0.14116+0.0im\n",
       " -0.377699+0.0im   0.259214+0.180224im     -0.735071+0.0im  -0.647594+0.0im\n",
       "  0.271237+0.0im  -0.237841-0.28467im       0.592201+0.0im   -0.71113+0.0im\n",
       " -0.197485+0.0im  -0.134427+0.315556im       0.31926+0.0im   -0.21193+0.0im\n",
       "  0.023007+0.0im      0.659-0.0im          0.0829934+0.0im   0.100375+0.0im"
      ]
     },
     "execution_count": 6,
     "metadata": {},
     "output_type": "execute_result"
    }
   ],
   "source": [
    "A = randn(5,5)\n",
    "eigen(A)"
   ]
  },
  {
   "cell_type": "markdown",
   "metadata": {},
   "source": [
    "__Remark:__ Eigenvectors that corresponds to different eigenvalues are linearly independent. So $n \\times n$ matrix can have n distinct eigenvalues at most."
   ]
  },
  {
   "cell_type": "markdown",
   "metadata": {},
   "source": [
    "__Geometric multiplicity:__ Geometric multiplicity of an eigenvalue $\\lambda$ is the maximum number of linearly independent eigenctors that correspond to this eigenvalue."
   ]
  },
  {
   "cell_type": "markdown",
   "metadata": {},
   "source": [
    "__Nondefective (Digonalizable) Matrix:__ Matrix $A \\in \\mathbb{R}^{n \\times n}$ is diagonalizable if a diagonal matrix $\\Lambda = X^{-1}AX$ exists. In other words, if eigenvectors of $A$ span $\\mathbb{R}^{n}$, then $A$ is nondefective."
   ]
  },
  {
   "cell_type": "code",
   "execution_count": 7,
   "metadata": {},
   "outputs": [
    {
     "data": {
      "text/plain": [
       "3×3 Array{Int64,2}:\n",
       " 1  0  0\n",
       " 0  2  0\n",
       " 0  0  2"
      ]
     },
     "execution_count": 7,
     "metadata": {},
     "output_type": "execute_result"
    }
   ],
   "source": [
    "A = [1 0 0; 0 2 0; 0 0 2]"
   ]
  },
  {
   "cell_type": "code",
   "execution_count": 8,
   "metadata": {},
   "outputs": [
    {
     "data": {
      "text/plain": [
       "Eigen{Float64,Float64,Array{Float64,2},Array{Float64,1}}\n",
       "eigenvalues:\n",
       "3-element Array{Float64,1}:\n",
       " 1.0\n",
       " 2.0\n",
       " 2.0\n",
       "eigenvectors:\n",
       "3×3 Array{Float64,2}:\n",
       " 1.0  0.0  0.0\n",
       " 0.0  1.0  0.0\n",
       " 0.0  0.0  1.0"
      ]
     },
     "execution_count": 8,
     "metadata": {},
     "output_type": "execute_result"
    }
   ],
   "source": [
    "eigen(A)"
   ]
  },
  {
   "cell_type": "markdown",
   "metadata": {},
   "source": [
    "Above example, A is nondefective since it has 3 independent vectors. Note that 2 of them has the same eigenvalue."
   ]
  },
  {
   "cell_type": "code",
   "execution_count": 9,
   "metadata": {},
   "outputs": [
    {
     "data": {
      "text/plain": [
       "2×2 Array{Int64,2}:\n",
       " 2  1\n",
       " 0  2"
      ]
     },
     "execution_count": 9,
     "metadata": {},
     "output_type": "execute_result"
    }
   ],
   "source": [
    "A = [2 1; 0 2]"
   ]
  },
  {
   "cell_type": "code",
   "execution_count": 10,
   "metadata": {},
   "outputs": [
    {
     "data": {
      "text/plain": [
       "Eigen{Float64,Float64,Array{Float64,2},Array{Float64,1}}\n",
       "eigenvalues:\n",
       "2-element Array{Float64,1}:\n",
       " 2.0\n",
       " 2.0\n",
       "eigenvectors:\n",
       "2×2 Array{Float64,2}:\n",
       " 1.0  -1.0        \n",
       " 0.0   4.44089e-16"
      ]
     },
     "execution_count": 10,
     "metadata": {},
     "output_type": "execute_result"
    }
   ],
   "source": [
    "eigen(A)"
   ]
  },
  {
   "cell_type": "markdown",
   "metadata": {},
   "source": [
    "In this example $A$ is defective since it has only one independent eigenvector! It is not diagonalizable since $X$ is not invertable. "
   ]
  },
  {
   "cell_type": "markdown",
   "metadata": {},
   "source": [
    "__Similar matrices:__ Matrices $A$ and $B$ are similar, if we can write $B = T^{-1} A T$. Similar matrices has same eigenvalues. To see that, assume $Bx = \\lambda x$. Then $\\lambda x = T^{-1} A T x$ which implies $\\lambda (Tx) = A (Tx)$. Therefore $A$ has an eigenvector $Tx$ with eigenvalue $\\lambda$. This is an important observation becuase it shows that similiarity transformations applied on $A$ does not change its eigenvalues but its eigenvectors."
   ]
  },
  {
   "cell_type": "markdown",
   "metadata": {},
   "source": [
    "## Hermitian and Positive Definite Matrices"
   ]
  },
  {
   "cell_type": "markdown",
   "metadata": {},
   "source": [
    "- All eigenvalues of hermitian matrices are real.\n",
    "\n",
    "- Eigenvectors corresponding to distinct eigenvalues of Hermitian matrices are orthogonal."
   ]
  },
  {
   "cell_type": "markdown",
   "metadata": {},
   "source": [
    "__Spectral Theorem:__ All hermitian metrices are non-defective so all of its eigenvectors are linearly independent (orthogonal). Having the constraint that eigenvectors are unit vectors, all of its eigenvectors are orthonormal. This means that eigenvalue decomposition of a hermitian matrix A is $A = Q \\Lambda Q^{*}$. \n",
    "\n",
    "__Proof:__ Assume $x$ and $y$ are eigenvectors of hermitian $A$ with distinct eigenvalues $\\lambda_1$ and $\\lambda_2$. We know that $<Ax,y> = <x,A^*y>$ where $<a,b>$ is the inner product $a^* b$.\n",
    "\n",
    "$\\lambda_1<x,y> = <\\lambda_1 x,y> = <Ax,y> = <x,A^*y> = <x,Ay> = <x,\\lambda_2 y> = \\lambda_2<x,y>$.\n",
    "\n",
    "Since $\\lambda_1 \\neq \\lambda_2$, $<x,y>$ must be equal to 0. So they are orthogonal. Because they have unit length, they are orthonormal."
   ]
  },
  {
   "cell_type": "markdown",
   "metadata": {},
   "source": [
    "__Ex:__ Suppose we want to solve $Ay=b$ for $y$ given symmetric $A$ with eigenvectors $x_1, x_2, ..., x_n$ and corresponding eigenvalues $\\lambda_1, \\lambda_2, ..., \\lambda_n$. Because these eigenvectors span the $\\mathbb{R}^n$, we can write $b$ as $b = \\sum \\limits_{i=1}^{n}c_i \\cdot x_i$. Solving the $y$: $y = A^{-1} \\sum \\limits_{i=1}^{n}c_i \\cdot x_i = \\sum \\limits_{i=1}^{n}\\frac{c_i}{\\lambda_i} \\cdot x_i$."
   ]
  },
  {
   "cell_type": "markdown",
   "metadata": {},
   "source": [
    "__Remark:__ Although its eigenvectors are orthonormal to each other, which makes hermitian metrices nondefective, eigenvectors does not have to be distinct. For example identity matrix $I_{n \\times n}$ has $n$ independent eigenvectors, they all have the same eigenvalue which is 1."
   ]
  },
  {
   "cell_type": "markdown",
   "metadata": {},
   "source": [
    "__Note:__ All eigenvalues of positive definite matrices are positive."
   ]
  },
  {
   "cell_type": "markdown",
   "metadata": {},
   "source": [
    "## Power Iteration"
   ]
  },
  {
   "cell_type": "markdown",
   "metadata": {},
   "source": [
    "Power iteration is an algorithm to find the eigenvalue with the largest magnitude and corresponding eigenvector of a matrix $A$.\n",
    "\n",
    "__Rayleigh Quotient:__ Rayleigh quotient of a vector $x$ is a scalar value. If $x$ is eigenvector of $A$, then it is the corresponding eigenvalue. $r(x) = \\frac{x^T A x}{x^T x}$."
   ]
  },
  {
   "cell_type": "markdown",
   "metadata": {},
   "source": [
    "__Power iteration:__ Suppose $A \\in \\mathbb{R}^{n \\times n}$ is a symmetric matrix eigenvalues of which are ordered as $\\lambda_1 \\geq \\lambda_2 \\geq ... \\geq \\lambda_n$. Therefore its eigenvectors $\\{x_1, x_2, ..., x_n\\}$ span $\\mathbb{R}^{n}$ and we can write any vector $v \\in \\mathbb{R}^{n}$ as linear combination of eigenvectors of $A$: $v = c_1 \\cdot x_1 + c_2 \\cdot x_2 + ... + c_n \\cdot x_n$. Multiplying both sides of equality with $A$ over and over again yields:\n",
    "\n",
    "$$\n",
    "Av = c_1 \\cdot \\lambda_1 \\cdot x_1 + c_2 \\cdot \\lambda_2 \\cdot x_2 + ... + c_n \\cdot \\lambda_n \\cdot x_n = \\lambda_1 \\left(c_1 \\cdot x_1 + c_2 \\cdot \\frac{\\lambda_2}{\\lambda_1} \\cdot x_2 + ... + c_n \\cdot \\frac{\\lambda_n}{\\lambda_1} \\cdot x_n \\right) \\\\\n",
    "A^k v = \\lambda_1^k \\left(c_1 \\cdot x_1 + c_2 \\cdot \\left(\\frac{\\lambda_2}{\\lambda_1}\\right)^k \\cdot x_2 + ... + c_n \\cdot \\left(\\frac{\\lambda_n}{\\lambda_1}\\right)^k \\cdot x_n \\right) \\\\\n",
    "A^k v \\approx c_1 \\lambda_1^k \\cdot x_1\n",
    "$$"
   ]
  },
  {
   "cell_type": "code",
   "execution_count": 11,
   "metadata": {},
   "outputs": [
    {
     "data": {
      "text/plain": [
       "3×3 Array{Float64,2}:\n",
       "  2.1   4.6  -0.3\n",
       "  4.6  -2.5  -0.6\n",
       " -0.3  -0.6   1.3"
      ]
     },
     "execution_count": 11,
     "metadata": {},
     "output_type": "execute_result"
    }
   ],
   "source": [
    "A = [2.1 4.6 -0.3; 4.6 -2.5 -0.6; -0.3 -0.6 1.3]"
   ]
  },
  {
   "cell_type": "code",
   "execution_count": 27,
   "metadata": {},
   "outputs": [
    {
     "name": "stdout",
     "output_type": "stream",
     "text": [
      "l_old = -5.3617156690377366\n",
      "v = [-0.5225533611237002, 0.8509496152525667, 0.05312943703665849]\n"
     ]
    }
   ],
   "source": [
    "w = randn(3)\n",
    "v = w ./ norm(w)\n",
    "l_old = v' * A * v\n",
    "diff = Inf\n",
    "while diff>1e-8\n",
    "    w = A*v\n",
    "    v = w ./ norm(w)\n",
    "    l = v' * A * v #Rayleigh\n",
    "    diff = abs(l-l_old)\n",
    "    l_old = l\n",
    "end\n",
    "@show l_old\n",
    "@show v;"
   ]
  },
  {
   "cell_type": "code",
   "execution_count": 28,
   "metadata": {},
   "outputs": [
    {
     "data": {
      "text/plain": [
       "Eigen{Float64,Float64,Array{Float64,2},Array{Float64,1}}\n",
       "eigenvalues:\n",
       "3-element Array{Float64,1}:\n",
       " -5.36171573912149  \n",
       "  1.2311918023168267\n",
       "  5.030523936804669 \n",
       "eigenvectors:\n",
       "3×3 Array{Float64,2}:\n",
       "  0.522485  0.156913   -0.838086\n",
       " -0.850993  0.0347334  -0.524028\n",
       " -0.053117  0.987002    0.151679"
      ]
     },
     "execution_count": 28,
     "metadata": {},
     "output_type": "execute_result"
    }
   ],
   "source": [
    "eigen(A)"
   ]
  },
  {
   "cell_type": "markdown",
   "metadata": {},
   "source": [
    "### Finding other eigen components"
   ]
  },
  {
   "cell_type": "markdown",
   "metadata": {},
   "source": [
    "Simply, apply power iteration to a randomly initialized vector by first subtracting its component on the eigenvector with the largest eigenvalue so that $v = c_2 \\cdot x_2 + ... + c_n \\cdot x_n$."
   ]
  },
  {
   "cell_type": "code",
   "execution_count": 34,
   "metadata": {},
   "outputs": [
    {
     "name": "stdout",
     "output_type": "stream",
     "text": [
      "l_old2 = 5.030523763836778\n",
      "v2 = [0.8381496958644985, 0.5239177960692799, -0.1517077133311189]\n"
     ]
    }
   ],
   "source": [
    "p(w) = v' * w * v #projection of w onto the eigenvector with the largest eigenvalue\n",
    "\n",
    "w2 = randn(3)\n",
    "w2 -= p(w2)\n",
    "v2 = w2 ./ norm(w2)\n",
    "l_old2 = v2' * A * v2\n",
    "diff = Inf\n",
    "while diff>1e-8\n",
    "    w2 = A*v2\n",
    "    v2 = w2 ./ norm(w2)\n",
    "    l2 = v2' * A * v2 #Rayleigh\n",
    "    diff = abs(l2-l_old2)\n",
    "    l_old2 = l2\n",
    "end\n",
    "@show l_old2\n",
    "@show v2;"
   ]
  },
  {
   "cell_type": "code",
   "execution_count": null,
   "metadata": {},
   "outputs": [],
   "source": []
  }
 ],
 "metadata": {
  "kernelspec": {
   "display_name": "Julia 1.2.0-rc1",
   "language": "julia",
   "name": "julia-1.2"
  },
  "language_info": {
   "file_extension": ".jl",
   "mimetype": "application/julia",
   "name": "julia",
   "version": "1.2.0"
  }
 },
 "nbformat": 4,
 "nbformat_minor": 2
}
