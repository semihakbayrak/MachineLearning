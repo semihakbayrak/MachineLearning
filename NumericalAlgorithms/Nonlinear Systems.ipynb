{
 "cells": [
  {
   "cell_type": "code",
   "execution_count": 18,
   "metadata": {},
   "outputs": [],
   "source": [
    "using LinearAlgebra, Plots, ForwardDiff"
   ]
  },
  {
   "cell_type": "markdown",
   "metadata": {},
   "source": [
    "# Root Finding in a Single Variable"
   ]
  },
  {
   "cell_type": "markdown",
   "metadata": {},
   "source": [
    "Given a function $f(x): \\mathbb{R} \\rightarrow \\mathbb{R}$ find $x^*$ such that $f(x^*) = 0$."
   ]
  },
  {
   "cell_type": "markdown",
   "metadata": {},
   "source": [
    "Assumptions we make on f(.):\n",
    "\n",
    "- Continuity\n",
    "\n",
    "- Lipschitz continuity: A function $f$ is Lipschitz continuous if there exists a constant c such that $|f(x)-f(y)| \\leq c|x-y|$. This limits the rate of change of the function.\n",
    "\n",
    "- Differntiability\n",
    "\n",
    "- $C^k$: A function is $C^k$ if it is $k$ times differentiable and each of those $k$ derivatives are continuous.\n",
    "\n",
    "__Examples:__ $cos(x)$ is $C^{\\infty}$ and Lipschitz on $\\mathbb{R}$. $x^2$ is $C^{\\infty}$ on $\\mathbb{R}$ but not Lipschitz since its derivative is not limited and goes to $\\infty$ in the limit. However it is Lipschitz in a specified interval such as $[0,1]$ since derivative is limited by $c=2$. $|x|$ is continuous and Lipschitz but not differentiable because the function is not smooth at $x=0$ and singular there. "
   ]
  },
  {
   "cell_type": "markdown",
   "metadata": {},
   "source": [
    "## Bisection"
   ]
  },
  {
   "cell_type": "markdown",
   "metadata": {},
   "source": [
    "The simplest algorithm to find a root of a single variable function. Continuity of a function implies that if $f(a)<u<f(b)$ then there is a $a<z<b$ such that $f(z)=u$. Therefore given that $f(l) \\cdot f(r) < 0$. There must be a value $x^*$ in the interval $(l,r)$ that satisfies $f(x^*) = 0$. "
   ]
  },
  {
   "cell_type": "code",
   "execution_count": 2,
   "metadata": {},
   "outputs": [
    {
     "data": {
      "text/plain": [
       "Bisection (generic function with 1 method)"
      ]
     },
     "execution_count": 2,
     "metadata": {},
     "output_type": "execute_result"
    }
   ],
   "source": [
    "function Bisection(f,l,r,eps1,eps2)\n",
    "    cond = false\n",
    "    x_star = NaN\n",
    "    while cond == false\n",
    "        c = (l+r)/2\n",
    "        x_star = c\n",
    "        if abs(f(c))<eps1 || abs(l-r)<eps2\n",
    "            cond = true\n",
    "        elseif f(l)*f(c) < 0\n",
    "            r = c\n",
    "        else\n",
    "            l = c\n",
    "        end\n",
    "    end\n",
    "    return x_star\n",
    "end"
   ]
  },
  {
   "cell_type": "code",
   "execution_count": 3,
   "metadata": {},
   "outputs": [
    {
     "data": {
      "image/svg+xml": [
       "<?xml version=\"1.0\" encoding=\"utf-8\"?>\n",
       "<svg xmlns=\"http://www.w3.org/2000/svg\" xmlns:xlink=\"http://www.w3.org/1999/xlink\" width=\"600\" height=\"400\" viewBox=\"0 0 2400 1600\">\n",
       "<defs>\n",
       "  <clipPath id=\"clip7700\">\n",
       "    <rect x=\"0\" y=\"0\" width=\"2400\" height=\"1600\"/>\n",
       "  </clipPath>\n",
       "</defs>\n",
       "<path clip-path=\"url(#clip7700)\" d=\"\n",
       "M0 1600 L2400 1600 L2400 0 L0 0  Z\n",
       "  \" fill=\"#ffffff\" fill-rule=\"evenodd\" fill-opacity=\"1\"/>\n",
       "<defs>\n",
       "  <clipPath id=\"clip7701\">\n",
       "    <rect x=\"480\" y=\"0\" width=\"1681\" height=\"1600\"/>\n",
       "  </clipPath>\n",
       "</defs>\n",
       "<path clip-path=\"url(#clip7700)\" d=\"\n",
       "M168.627 1487.47 L2352.76 1487.47 L2352.76 47.2441 L168.627 47.2441  Z\n",
       "  \" fill=\"#ffffff\" fill-rule=\"evenodd\" fill-opacity=\"1\"/>\n",
       "<defs>\n",
       "  <clipPath id=\"clip7702\">\n",
       "    <rect x=\"168\" y=\"47\" width=\"2185\" height=\"1441\"/>\n",
       "  </clipPath>\n",
       "</defs>\n",
       "<polyline clip-path=\"url(#clip7702)\" style=\"stroke:#000000; stroke-width:2; stroke-opacity:0.1; fill:none\" points=\"\n",
       "  230.442,1487.47 230.442,47.2441 \n",
       "  \"/>\n",
       "<polyline clip-path=\"url(#clip7702)\" style=\"stroke:#000000; stroke-width:2; stroke-opacity:0.1; fill:none\" points=\"\n",
       "  745.567,1487.47 745.567,47.2441 \n",
       "  \"/>\n",
       "<polyline clip-path=\"url(#clip7702)\" style=\"stroke:#000000; stroke-width:2; stroke-opacity:0.1; fill:none\" points=\"\n",
       "  1260.69,1487.47 1260.69,47.2441 \n",
       "  \"/>\n",
       "<polyline clip-path=\"url(#clip7702)\" style=\"stroke:#000000; stroke-width:2; stroke-opacity:0.1; fill:none\" points=\"\n",
       "  1775.82,1487.47 1775.82,47.2441 \n",
       "  \"/>\n",
       "<polyline clip-path=\"url(#clip7702)\" style=\"stroke:#000000; stroke-width:2; stroke-opacity:0.1; fill:none\" points=\"\n",
       "  2290.94,1487.47 2290.94,47.2441 \n",
       "  \"/>\n",
       "<polyline clip-path=\"url(#clip7702)\" style=\"stroke:#000000; stroke-width:2; stroke-opacity:0.1; fill:none\" points=\"\n",
       "  168.627,1246.9 2352.76,1246.9 \n",
       "  \"/>\n",
       "<polyline clip-path=\"url(#clip7702)\" style=\"stroke:#000000; stroke-width:2; stroke-opacity:0.1; fill:none\" points=\"\n",
       "  168.627,847.283 2352.76,847.283 \n",
       "  \"/>\n",
       "<polyline clip-path=\"url(#clip7702)\" style=\"stroke:#000000; stroke-width:2; stroke-opacity:0.1; fill:none\" points=\"\n",
       "  168.627,447.663 2352.76,447.663 \n",
       "  \"/>\n",
       "<polyline clip-path=\"url(#clip7702)\" style=\"stroke:#000000; stroke-width:2; stroke-opacity:0.1; fill:none\" points=\"\n",
       "  168.627,48.0433 2352.76,48.0433 \n",
       "  \"/>\n",
       "<polyline clip-path=\"url(#clip7700)\" style=\"stroke:#000000; stroke-width:4; stroke-opacity:1; fill:none\" points=\"\n",
       "  168.627,1487.47 2352.76,1487.47 \n",
       "  \"/>\n",
       "<polyline clip-path=\"url(#clip7700)\" style=\"stroke:#000000; stroke-width:4; stroke-opacity:1; fill:none\" points=\"\n",
       "  168.627,1487.47 168.627,47.2441 \n",
       "  \"/>\n",
       "<polyline clip-path=\"url(#clip7700)\" style=\"stroke:#000000; stroke-width:4; stroke-opacity:1; fill:none\" points=\"\n",
       "  230.442,1487.47 230.442,1470.19 \n",
       "  \"/>\n",
       "<polyline clip-path=\"url(#clip7700)\" style=\"stroke:#000000; stroke-width:4; stroke-opacity:1; fill:none\" points=\"\n",
       "  745.567,1487.47 745.567,1470.19 \n",
       "  \"/>\n",
       "<polyline clip-path=\"url(#clip7700)\" style=\"stroke:#000000; stroke-width:4; stroke-opacity:1; fill:none\" points=\"\n",
       "  1260.69,1487.47 1260.69,1470.19 \n",
       "  \"/>\n",
       "<polyline clip-path=\"url(#clip7700)\" style=\"stroke:#000000; stroke-width:4; stroke-opacity:1; fill:none\" points=\"\n",
       "  1775.82,1487.47 1775.82,1470.19 \n",
       "  \"/>\n",
       "<polyline clip-path=\"url(#clip7700)\" style=\"stroke:#000000; stroke-width:4; stroke-opacity:1; fill:none\" points=\"\n",
       "  2290.94,1487.47 2290.94,1470.19 \n",
       "  \"/>\n",
       "<polyline clip-path=\"url(#clip7700)\" style=\"stroke:#000000; stroke-width:4; stroke-opacity:1; fill:none\" points=\"\n",
       "  168.627,1246.9 194.836,1246.9 \n",
       "  \"/>\n",
       "<polyline clip-path=\"url(#clip7700)\" style=\"stroke:#000000; stroke-width:4; stroke-opacity:1; fill:none\" points=\"\n",
       "  168.627,847.283 194.836,847.283 \n",
       "  \"/>\n",
       "<polyline clip-path=\"url(#clip7700)\" style=\"stroke:#000000; stroke-width:4; stroke-opacity:1; fill:none\" points=\"\n",
       "  168.627,447.663 194.836,447.663 \n",
       "  \"/>\n",
       "<polyline clip-path=\"url(#clip7700)\" style=\"stroke:#000000; stroke-width:4; stroke-opacity:1; fill:none\" points=\"\n",
       "  168.627,48.0433 194.836,48.0433 \n",
       "  \"/>\n",
       "<g clip-path=\"url(#clip7700)\">\n",
       "<text style=\"fill:#000000; fill-opacity:1; font-family:Arial,Helvetica Neue,Helvetica,sans-serif; font-size:48px; text-anchor:middle;\" transform=\"rotate(0, 230.442, 1541.47)\" x=\"230.442\" y=\"1541.47\">-2</text>\n",
       "</g>\n",
       "<g clip-path=\"url(#clip7700)\">\n",
       "<text style=\"fill:#000000; fill-opacity:1; font-family:Arial,Helvetica Neue,Helvetica,sans-serif; font-size:48px; text-anchor:middle;\" transform=\"rotate(0, 745.567, 1541.47)\" x=\"745.567\" y=\"1541.47\">-1</text>\n",
       "</g>\n",
       "<g clip-path=\"url(#clip7700)\">\n",
       "<text style=\"fill:#000000; fill-opacity:1; font-family:Arial,Helvetica Neue,Helvetica,sans-serif; font-size:48px; text-anchor:middle;\" transform=\"rotate(0, 1260.69, 1541.47)\" x=\"1260.69\" y=\"1541.47\">0</text>\n",
       "</g>\n",
       "<g clip-path=\"url(#clip7700)\">\n",
       "<text style=\"fill:#000000; fill-opacity:1; font-family:Arial,Helvetica Neue,Helvetica,sans-serif; font-size:48px; text-anchor:middle;\" transform=\"rotate(0, 1775.82, 1541.47)\" x=\"1775.82\" y=\"1541.47\">1</text>\n",
       "</g>\n",
       "<g clip-path=\"url(#clip7700)\">\n",
       "<text style=\"fill:#000000; fill-opacity:1; font-family:Arial,Helvetica Neue,Helvetica,sans-serif; font-size:48px; text-anchor:middle;\" transform=\"rotate(0, 2290.94, 1541.47)\" x=\"2290.94\" y=\"1541.47\">2</text>\n",
       "</g>\n",
       "<g clip-path=\"url(#clip7700)\">\n",
       "<text style=\"fill:#000000; fill-opacity:1; font-family:Arial,Helvetica Neue,Helvetica,sans-serif; font-size:48px; text-anchor:end;\" transform=\"rotate(0, 144.627, 1264.4)\" x=\"144.627\" y=\"1264.4\">-40</text>\n",
       "</g>\n",
       "<g clip-path=\"url(#clip7700)\">\n",
       "<text style=\"fill:#000000; fill-opacity:1; font-family:Arial,Helvetica Neue,Helvetica,sans-serif; font-size:48px; text-anchor:end;\" transform=\"rotate(0, 144.627, 864.783)\" x=\"144.627\" y=\"864.783\">-20</text>\n",
       "</g>\n",
       "<g clip-path=\"url(#clip7700)\">\n",
       "<text style=\"fill:#000000; fill-opacity:1; font-family:Arial,Helvetica Neue,Helvetica,sans-serif; font-size:48px; text-anchor:end;\" transform=\"rotate(0, 144.627, 465.163)\" x=\"144.627\" y=\"465.163\">0</text>\n",
       "</g>\n",
       "<g clip-path=\"url(#clip7700)\">\n",
       "<text style=\"fill:#000000; fill-opacity:1; font-family:Arial,Helvetica Neue,Helvetica,sans-serif; font-size:48px; text-anchor:end;\" transform=\"rotate(0, 144.627, 65.5433)\" x=\"144.627\" y=\"65.5433\">20</text>\n",
       "</g>\n",
       "<polyline clip-path=\"url(#clip7702)\" style=\"stroke:#009af9; stroke-width:4; stroke-opacity:1; fill:none\" points=\"\n",
       "  230.442,1446.71 281.954,1276.69 333.467,1135.32 384.979,1018.49 436.492,922.527 488.004,844.161 539.517,780.512 591.029,729.054 642.542,687.602 694.054,654.277 \n",
       "  745.567,627.492 797.079,605.923 848.592,588.483 900.104,574.304 951.617,562.709 1003.13,553.188 1054.64,545.375 1106.15,539.025 1157.67,533.988 1209.18,530.185 \n",
       "  1260.69,527.587 1312.2,526.189 1363.72,525.983 1415.23,526.939 1466.74,528.981 1518.25,531.958 1569.77,535.625 1621.28,539.615 1672.79,543.419 1724.3,546.36 \n",
       "  1775.82,547.568 1827.33,545.96 1878.84,540.209 1930.35,528.728 1981.87,509.64 2033.38,480.757 2084.89,439.556 2136.4,383.153 2187.92,308.282 2239.43,211.268 \n",
       "  2290.94,88.0053 \n",
       "  \"/>\n",
       "<path clip-path=\"url(#clip7700)\" d=\"\n",
       "M1989.93 251.724 L2280.76 251.724 L2280.76 130.764 L1989.93 130.764  Z\n",
       "  \" fill=\"#ffffff\" fill-rule=\"evenodd\" fill-opacity=\"1\"/>\n",
       "<polyline clip-path=\"url(#clip7700)\" style=\"stroke:#000000; stroke-width:4; stroke-opacity:1; fill:none\" points=\"\n",
       "  1989.93,251.724 2280.76,251.724 2280.76,130.764 1989.93,130.764 1989.93,251.724 \n",
       "  \"/>\n",
       "<polyline clip-path=\"url(#clip7700)\" style=\"stroke:#009af9; stroke-width:4; stroke-opacity:1; fill:none\" points=\"\n",
       "  2013.93,191.244 2157.93,191.244 \n",
       "  \"/>\n",
       "<g clip-path=\"url(#clip7700)\">\n",
       "<text style=\"fill:#000000; fill-opacity:1; font-family:Arial,Helvetica Neue,Helvetica,sans-serif; font-size:48px; text-anchor:start;\" transform=\"rotate(0, 2181.93, 208.744)\" x=\"2181.93\" y=\"208.744\">y1</text>\n",
       "</g>\n",
       "</svg>\n"
      ]
     },
     "execution_count": 3,
     "metadata": {},
     "output_type": "execute_result"
    }
   ],
   "source": [
    "f(x) = x^5 - 3*x^2 + x - 4\n",
    "x_vals = collect(-2:0.1:2)\n",
    "f_vals = f.(x_vals)\n",
    "plot(x_vals,f_vals)"
   ]
  },
  {
   "cell_type": "code",
   "execution_count": 4,
   "metadata": {},
   "outputs": [
    {
     "data": {
      "text/plain": [
       "1.58203125"
      ]
     },
     "execution_count": 4,
     "metadata": {},
     "output_type": "execute_result"
    }
   ],
   "source": [
    "Bisection(f,2,-2,0.01,0.01)"
   ]
  },
  {
   "cell_type": "markdown",
   "metadata": {},
   "source": [
    "__Convergence analysis:__ Conditions (continuity, and $f(l_1) \\cdot f(r_1)<0$) are satisfied, bisection algorithm converges in $k$ steps: $E_k \\rightarrow 0$ for $E_k = |r_k - l_k|$. The rate of convergence is linear: $E_{k+1} = \\frac{1}{2} E_k$. This is because the interval is diveded by two at each iteration. \n",
    "\n",
    "__Note:__ Finding $r_1$ and $l_1$ such that $x^* \\in (r_1,l_1)$, in other words $f(l_1) \\cdot f(r_1)<0$, is also a hard problem."
   ]
  },
  {
   "cell_type": "markdown",
   "metadata": {},
   "source": [
    "## Fixed Point Iteration"
   ]
  },
  {
   "cell_type": "markdown",
   "metadata": {},
   "source": [
    "Suppose that we want to find $x^*$ such that $g(x^*) = x^*$. This is equivalent to finding the roots of $g(x^*) - x^*$. Assuming that $g(.)$ is Lipschitz continuous with constant $0 \\leq c < 1$, $|g(x)-g(y)|<|x-y|$ and the following algorithm converges:\n",
    "\n",
    "- Initilalize $x_0$\n",
    "\n",
    "- Iterate $x_k \\leftarrow g(x_{k-1})$"
   ]
  },
  {
   "cell_type": "code",
   "execution_count": 5,
   "metadata": {},
   "outputs": [
    {
     "data": {
      "text/plain": [
       "FixedPointIteration (generic function with 1 method)"
      ]
     },
     "execution_count": 5,
     "metadata": {},
     "output_type": "execute_result"
    }
   ],
   "source": [
    "function FixedPointIteration(g,x_init,eps)\n",
    "    x_old = x_init\n",
    "    cond = false\n",
    "    count = 1\n",
    "    while cond == false\n",
    "        x = g(x_old)\n",
    "        error = abs(x-x_old)\n",
    "        if error<eps\n",
    "            cond = true\n",
    "        else\n",
    "            count += 1\n",
    "        end\n",
    "        x_old = x\n",
    "        if count > 1000\n",
    "            cond = true\n",
    "        end\n",
    "    end\n",
    "    return x_old\n",
    "end"
   ]
  },
  {
   "cell_type": "code",
   "execution_count": 6,
   "metadata": {},
   "outputs": [
    {
     "data": {
      "image/svg+xml": [
       "<?xml version=\"1.0\" encoding=\"utf-8\"?>\n",
       "<svg xmlns=\"http://www.w3.org/2000/svg\" xmlns:xlink=\"http://www.w3.org/1999/xlink\" width=\"600\" height=\"400\" viewBox=\"0 0 2400 1600\">\n",
       "<defs>\n",
       "  <clipPath id=\"clip8100\">\n",
       "    <rect x=\"0\" y=\"0\" width=\"2400\" height=\"1600\"/>\n",
       "  </clipPath>\n",
       "</defs>\n",
       "<path clip-path=\"url(#clip8100)\" d=\"\n",
       "M0 1600 L2400 1600 L2400 0 L0 0  Z\n",
       "  \" fill=\"#ffffff\" fill-rule=\"evenodd\" fill-opacity=\"1\"/>\n",
       "<defs>\n",
       "  <clipPath id=\"clip8101\">\n",
       "    <rect x=\"480\" y=\"0\" width=\"1681\" height=\"1600\"/>\n",
       "  </clipPath>\n",
       "</defs>\n",
       "<path clip-path=\"url(#clip8100)\" d=\"\n",
       "M182.008 1487.47 L2352.76 1487.47 L2352.76 47.2441 L182.008 47.2441  Z\n",
       "  \" fill=\"#ffffff\" fill-rule=\"evenodd\" fill-opacity=\"1\"/>\n",
       "<defs>\n",
       "  <clipPath id=\"clip8102\">\n",
       "    <rect x=\"182\" y=\"47\" width=\"2172\" height=\"1441\"/>\n",
       "  </clipPath>\n",
       "</defs>\n",
       "<polyline clip-path=\"url(#clip8102)\" style=\"stroke:#000000; stroke-width:2; stroke-opacity:0.1; fill:none\" points=\"\n",
       "  290.213,1487.47 290.213,47.2441 \n",
       "  \"/>\n",
       "<polyline clip-path=\"url(#clip8102)\" style=\"stroke:#000000; stroke-width:2; stroke-opacity:0.1; fill:none\" points=\"\n",
       "  620.515,1487.47 620.515,47.2441 \n",
       "  \"/>\n",
       "<polyline clip-path=\"url(#clip8102)\" style=\"stroke:#000000; stroke-width:2; stroke-opacity:0.1; fill:none\" points=\"\n",
       "  950.818,1487.47 950.818,47.2441 \n",
       "  \"/>\n",
       "<polyline clip-path=\"url(#clip8102)\" style=\"stroke:#000000; stroke-width:2; stroke-opacity:0.1; fill:none\" points=\"\n",
       "  1281.12,1487.47 1281.12,47.2441 \n",
       "  \"/>\n",
       "<polyline clip-path=\"url(#clip8102)\" style=\"stroke:#000000; stroke-width:2; stroke-opacity:0.1; fill:none\" points=\"\n",
       "  1611.42,1487.47 1611.42,47.2441 \n",
       "  \"/>\n",
       "<polyline clip-path=\"url(#clip8102)\" style=\"stroke:#000000; stroke-width:2; stroke-opacity:0.1; fill:none\" points=\"\n",
       "  1941.73,1487.47 1941.73,47.2441 \n",
       "  \"/>\n",
       "<polyline clip-path=\"url(#clip8102)\" style=\"stroke:#000000; stroke-width:2; stroke-opacity:0.1; fill:none\" points=\"\n",
       "  2272.03,1487.47 2272.03,47.2441 \n",
       "  \"/>\n",
       "<polyline clip-path=\"url(#clip8102)\" style=\"stroke:#000000; stroke-width:2; stroke-opacity:0.1; fill:none\" points=\"\n",
       "  182.008,1446.71 2352.76,1446.71 \n",
       "  \"/>\n",
       "<polyline clip-path=\"url(#clip8102)\" style=\"stroke:#000000; stroke-width:2; stroke-opacity:0.1; fill:none\" points=\"\n",
       "  182.008,1106.89 2352.76,1106.89 \n",
       "  \"/>\n",
       "<polyline clip-path=\"url(#clip8102)\" style=\"stroke:#000000; stroke-width:2; stroke-opacity:0.1; fill:none\" points=\"\n",
       "  182.008,767.066 2352.76,767.066 \n",
       "  \"/>\n",
       "<polyline clip-path=\"url(#clip8102)\" style=\"stroke:#000000; stroke-width:2; stroke-opacity:0.1; fill:none\" points=\"\n",
       "  182.008,427.242 2352.76,427.242 \n",
       "  \"/>\n",
       "<polyline clip-path=\"url(#clip8102)\" style=\"stroke:#000000; stroke-width:2; stroke-opacity:0.1; fill:none\" points=\"\n",
       "  182.008,87.4175 2352.76,87.4175 \n",
       "  \"/>\n",
       "<polyline clip-path=\"url(#clip8100)\" style=\"stroke:#000000; stroke-width:4; stroke-opacity:1; fill:none\" points=\"\n",
       "  182.008,1487.47 2352.76,1487.47 \n",
       "  \"/>\n",
       "<polyline clip-path=\"url(#clip8100)\" style=\"stroke:#000000; stroke-width:4; stroke-opacity:1; fill:none\" points=\"\n",
       "  182.008,1487.47 182.008,47.2441 \n",
       "  \"/>\n",
       "<polyline clip-path=\"url(#clip8100)\" style=\"stroke:#000000; stroke-width:4; stroke-opacity:1; fill:none\" points=\"\n",
       "  290.213,1487.47 290.213,1470.19 \n",
       "  \"/>\n",
       "<polyline clip-path=\"url(#clip8100)\" style=\"stroke:#000000; stroke-width:4; stroke-opacity:1; fill:none\" points=\"\n",
       "  620.515,1487.47 620.515,1470.19 \n",
       "  \"/>\n",
       "<polyline clip-path=\"url(#clip8100)\" style=\"stroke:#000000; stroke-width:4; stroke-opacity:1; fill:none\" points=\"\n",
       "  950.818,1487.47 950.818,1470.19 \n",
       "  \"/>\n",
       "<polyline clip-path=\"url(#clip8100)\" style=\"stroke:#000000; stroke-width:4; stroke-opacity:1; fill:none\" points=\"\n",
       "  1281.12,1487.47 1281.12,1470.19 \n",
       "  \"/>\n",
       "<polyline clip-path=\"url(#clip8100)\" style=\"stroke:#000000; stroke-width:4; stroke-opacity:1; fill:none\" points=\"\n",
       "  1611.42,1487.47 1611.42,1470.19 \n",
       "  \"/>\n",
       "<polyline clip-path=\"url(#clip8100)\" style=\"stroke:#000000; stroke-width:4; stroke-opacity:1; fill:none\" points=\"\n",
       "  1941.73,1487.47 1941.73,1470.19 \n",
       "  \"/>\n",
       "<polyline clip-path=\"url(#clip8100)\" style=\"stroke:#000000; stroke-width:4; stroke-opacity:1; fill:none\" points=\"\n",
       "  2272.03,1487.47 2272.03,1470.19 \n",
       "  \"/>\n",
       "<polyline clip-path=\"url(#clip8100)\" style=\"stroke:#000000; stroke-width:4; stroke-opacity:1; fill:none\" points=\"\n",
       "  182.008,1446.71 208.057,1446.71 \n",
       "  \"/>\n",
       "<polyline clip-path=\"url(#clip8100)\" style=\"stroke:#000000; stroke-width:4; stroke-opacity:1; fill:none\" points=\"\n",
       "  182.008,1106.89 208.057,1106.89 \n",
       "  \"/>\n",
       "<polyline clip-path=\"url(#clip8100)\" style=\"stroke:#000000; stroke-width:4; stroke-opacity:1; fill:none\" points=\"\n",
       "  182.008,767.066 208.057,767.066 \n",
       "  \"/>\n",
       "<polyline clip-path=\"url(#clip8100)\" style=\"stroke:#000000; stroke-width:4; stroke-opacity:1; fill:none\" points=\"\n",
       "  182.008,427.242 208.057,427.242 \n",
       "  \"/>\n",
       "<polyline clip-path=\"url(#clip8100)\" style=\"stroke:#000000; stroke-width:4; stroke-opacity:1; fill:none\" points=\"\n",
       "  182.008,87.4175 208.057,87.4175 \n",
       "  \"/>\n",
       "<g clip-path=\"url(#clip8100)\">\n",
       "<text style=\"fill:#000000; fill-opacity:1; font-family:Arial,Helvetica Neue,Helvetica,sans-serif; font-size:48px; text-anchor:middle;\" transform=\"rotate(0, 290.213, 1541.47)\" x=\"290.213\" y=\"1541.47\">-3</text>\n",
       "</g>\n",
       "<g clip-path=\"url(#clip8100)\">\n",
       "<text style=\"fill:#000000; fill-opacity:1; font-family:Arial,Helvetica Neue,Helvetica,sans-serif; font-size:48px; text-anchor:middle;\" transform=\"rotate(0, 620.515, 1541.47)\" x=\"620.515\" y=\"1541.47\">-2</text>\n",
       "</g>\n",
       "<g clip-path=\"url(#clip8100)\">\n",
       "<text style=\"fill:#000000; fill-opacity:1; font-family:Arial,Helvetica Neue,Helvetica,sans-serif; font-size:48px; text-anchor:middle;\" transform=\"rotate(0, 950.818, 1541.47)\" x=\"950.818\" y=\"1541.47\">-1</text>\n",
       "</g>\n",
       "<g clip-path=\"url(#clip8100)\">\n",
       "<text style=\"fill:#000000; fill-opacity:1; font-family:Arial,Helvetica Neue,Helvetica,sans-serif; font-size:48px; text-anchor:middle;\" transform=\"rotate(0, 1281.12, 1541.47)\" x=\"1281.12\" y=\"1541.47\">0</text>\n",
       "</g>\n",
       "<g clip-path=\"url(#clip8100)\">\n",
       "<text style=\"fill:#000000; fill-opacity:1; font-family:Arial,Helvetica Neue,Helvetica,sans-serif; font-size:48px; text-anchor:middle;\" transform=\"rotate(0, 1611.42, 1541.47)\" x=\"1611.42\" y=\"1541.47\">1</text>\n",
       "</g>\n",
       "<g clip-path=\"url(#clip8100)\">\n",
       "<text style=\"fill:#000000; fill-opacity:1; font-family:Arial,Helvetica Neue,Helvetica,sans-serif; font-size:48px; text-anchor:middle;\" transform=\"rotate(0, 1941.73, 1541.47)\" x=\"1941.73\" y=\"1541.47\">2</text>\n",
       "</g>\n",
       "<g clip-path=\"url(#clip8100)\">\n",
       "<text style=\"fill:#000000; fill-opacity:1; font-family:Arial,Helvetica Neue,Helvetica,sans-serif; font-size:48px; text-anchor:middle;\" transform=\"rotate(0, 2272.03, 1541.47)\" x=\"2272.03\" y=\"1541.47\">3</text>\n",
       "</g>\n",
       "<g clip-path=\"url(#clip8100)\">\n",
       "<text style=\"fill:#000000; fill-opacity:1; font-family:Arial,Helvetica Neue,Helvetica,sans-serif; font-size:48px; text-anchor:end;\" transform=\"rotate(0, 158.008, 1464.21)\" x=\"158.008\" y=\"1464.21\">-1.0</text>\n",
       "</g>\n",
       "<g clip-path=\"url(#clip8100)\">\n",
       "<text style=\"fill:#000000; fill-opacity:1; font-family:Arial,Helvetica Neue,Helvetica,sans-serif; font-size:48px; text-anchor:end;\" transform=\"rotate(0, 158.008, 1124.39)\" x=\"158.008\" y=\"1124.39\">-0.5</text>\n",
       "</g>\n",
       "<g clip-path=\"url(#clip8100)\">\n",
       "<text style=\"fill:#000000; fill-opacity:1; font-family:Arial,Helvetica Neue,Helvetica,sans-serif; font-size:48px; text-anchor:end;\" transform=\"rotate(0, 158.008, 784.566)\" x=\"158.008\" y=\"784.566\">0.0</text>\n",
       "</g>\n",
       "<g clip-path=\"url(#clip8100)\">\n",
       "<text style=\"fill:#000000; fill-opacity:1; font-family:Arial,Helvetica Neue,Helvetica,sans-serif; font-size:48px; text-anchor:end;\" transform=\"rotate(0, 158.008, 444.742)\" x=\"158.008\" y=\"444.742\">0.5</text>\n",
       "</g>\n",
       "<g clip-path=\"url(#clip8100)\">\n",
       "<text style=\"fill:#000000; fill-opacity:1; font-family:Arial,Helvetica Neue,Helvetica,sans-serif; font-size:48px; text-anchor:end;\" transform=\"rotate(0, 158.008, 104.918)\" x=\"158.008\" y=\"104.918\">1.0</text>\n",
       "</g>\n",
       "<polyline clip-path=\"url(#clip8102)\" style=\"stroke:#009af9; stroke-width:4; stroke-opacity:1; fill:none\" points=\"\n",
       "  243.444,1446.71 276.475,1443.32 309.505,1433.17 342.535,1416.36 375.565,1393.06 408.596,1363.51 441.626,1328 474.656,1286.89 507.686,1240.58 540.717,1189.54 \n",
       "  573.747,1134.28 606.777,1075.35 639.807,1013.34 672.838,948.871 705.868,882.583 738.898,815.142 771.928,747.22 804.959,679.497 837.989,612.648 871.019,547.342 \n",
       "  904.049,484.232 937.08,423.948 970.11,367.092 1003.14,314.232 1036.17,265.897 1069.2,222.57 1102.23,184.683 1135.26,152.615 1168.29,126.686 1201.32,107.156 \n",
       "  1234.35,94.2191 1267.38,88.0053 1300.41,88.5765 1333.44,95.9269 1366.47,109.983 1399.5,130.605 1432.53,157.585 1465.56,190.656 1498.59,229.486 1531.62,273.687 \n",
       "  1564.65,322.818 1597.68,376.388 1630.71,433.861 1663.74,494.663 1696.78,558.187 1729.81,623.799 1762.84,690.841 1795.87,758.646 1828.9,826.534 1861.93,893.828 \n",
       "  1894.96,959.856 1927.99,1023.96 1961.02,1085.49 1994.05,1143.84 2027.08,1198.43 2060.11,1248.71 2093.14,1294.18 2126.17,1334.38 2159.2,1368.91 2192.23,1397.42 \n",
       "  2225.26,1419.64 2258.29,1435.34 2291.32,1444.36 \n",
       "  \"/>\n",
       "<path clip-path=\"url(#clip8100)\" d=\"\n",
       "M1989.93 251.724 L2280.76 251.724 L2280.76 130.764 L1989.93 130.764  Z\n",
       "  \" fill=\"#ffffff\" fill-rule=\"evenodd\" fill-opacity=\"1\"/>\n",
       "<polyline clip-path=\"url(#clip8100)\" style=\"stroke:#000000; stroke-width:4; stroke-opacity:1; fill:none\" points=\"\n",
       "  1989.93,251.724 2280.76,251.724 2280.76,130.764 1989.93,130.764 1989.93,251.724 \n",
       "  \"/>\n",
       "<polyline clip-path=\"url(#clip8100)\" style=\"stroke:#009af9; stroke-width:4; stroke-opacity:1; fill:none\" points=\"\n",
       "  2013.93,191.244 2157.93,191.244 \n",
       "  \"/>\n",
       "<g clip-path=\"url(#clip8100)\">\n",
       "<text style=\"fill:#000000; fill-opacity:1; font-family:Arial,Helvetica Neue,Helvetica,sans-serif; font-size:48px; text-anchor:start;\" transform=\"rotate(0, 2181.93, 208.744)\" x=\"2181.93\" y=\"208.744\">y1</text>\n",
       "</g>\n",
       "</svg>\n"
      ]
     },
     "execution_count": 6,
     "metadata": {},
     "output_type": "execute_result"
    }
   ],
   "source": [
    "f(x) = cos(x)\n",
    "x_vals = collect(-pi:0.1:pi)\n",
    "f_vals = f.(x_vals)\n",
    "plot(x_vals,f_vals)"
   ]
  },
  {
   "cell_type": "code",
   "execution_count": 7,
   "metadata": {},
   "outputs": [
    {
     "data": {
      "text/plain": [
       "0.7387603198742114"
      ]
     },
     "execution_count": 7,
     "metadata": {},
     "output_type": "execute_result"
    }
   ],
   "source": [
    "FixedPointIteration(f,0,0.001)"
   ]
  },
  {
   "cell_type": "markdown",
   "metadata": {},
   "source": [
    "__Convergence analysis:__ $E_k = |x_k - x^*| = |g(x_{k-1}-g(x^*))|$\n",
    "\n",
    "If $|g(x)-g(y)|<|x-y|$,\n",
    "\n",
    "$|g(x_{k-1}-g(x^*))| \\leq c |x_k - x^*| = c E_{k-1}$. Therefore $E_k \\leq c^{k}E_0 \\rightarrow 0$ as $k \\rightarrow \\infty$. Otherwise it diverges."
   ]
  },
  {
   "cell_type": "code",
   "execution_count": 8,
   "metadata": {},
   "outputs": [
    {
     "data": {
      "text/plain": [
       "-8093997620220668896"
      ]
     },
     "execution_count": 8,
     "metadata": {},
     "output_type": "execute_result"
    }
   ],
   "source": [
    "#Divergence example\n",
    "f(x) = x^5 - 3*x^2 + x - 4\n",
    "FixedPointIteration(f,0,0.001) #result after 1000 iterations"
   ]
  },
  {
   "cell_type": "code",
   "execution_count": 9,
   "metadata": {},
   "outputs": [
    {
     "data": {
      "text/plain": [
       "-8615648534452713444"
      ]
     },
     "execution_count": 9,
     "metadata": {},
     "output_type": "execute_result"
    }
   ],
   "source": [
    "f(-8093997620220668896)"
   ]
  },
  {
   "cell_type": "markdown",
   "metadata": {},
   "source": [
    "The algorithm converges if the $x_0$ is chosen in an interval where $g(.)$ is locally Lipschitz continuous with constant $0 \\leq c < 1$ although it is not globally the case."
   ]
  },
  {
   "cell_type": "code",
   "execution_count": 10,
   "metadata": {},
   "outputs": [
    {
     "data": {
      "image/png": "[encoded data removed]"
     },
     "metadata": {},
     "output_type": "display_data"
    }
   ],
   "source": [
    "#Fixed point iteration for sin(.) with x_0 = 2\n",
    "# Image is taken from Wikipedia\n",
    "display(\"image/png\", read(\"fixedpoint.png\"))"
   ]
  },
  {
   "cell_type": "code",
   "execution_count": 11,
   "metadata": {},
   "outputs": [
    {
     "data": {
      "text/plain": [
       "0.3803757974172909"
      ]
     },
     "execution_count": 11,
     "metadata": {},
     "output_type": "execute_result"
    }
   ],
   "source": [
    "f(x) = sin(x)\n",
    "FixedPointIteration(f,2,0.01)"
   ]
  },
  {
   "cell_type": "code",
   "execution_count": 12,
   "metadata": {},
   "outputs": [
    {
     "data": {
      "text/plain": [
       "0.17995254959145557"
      ]
     },
     "execution_count": 12,
     "metadata": {},
     "output_type": "execute_result"
    }
   ],
   "source": [
    "f(x) = sin(x)\n",
    "FixedPointIteration(f,2,0.001)"
   ]
  },
  {
   "cell_type": "code",
   "execution_count": 13,
   "metadata": {},
   "outputs": [
    {
     "data": {
      "text/plain": [
       "0.08415996781732862"
      ]
     },
     "execution_count": 13,
     "metadata": {},
     "output_type": "execute_result"
    }
   ],
   "source": [
    "f(x) = sin(x)\n",
    "FixedPointIteration(f,2,0.0001)"
   ]
  },
  {
   "cell_type": "code",
   "execution_count": 14,
   "metadata": {},
   "outputs": [
    {
     "data": {
      "text/plain": [
       "0.05460664743047168"
      ]
     },
     "execution_count": 14,
     "metadata": {},
     "output_type": "execute_result"
    }
   ],
   "source": [
    "f(x) = sin(x)\n",
    "FixedPointIteration(f,2,0.000001)"
   ]
  },
  {
   "cell_type": "code",
   "execution_count": 15,
   "metadata": {},
   "outputs": [
    {
     "data": {
      "text/plain": [
       "0.0"
      ]
     },
     "execution_count": 15,
     "metadata": {},
     "output_type": "execute_result"
    }
   ],
   "source": [
    "sin(0)"
   ]
  },
  {
   "cell_type": "markdown",
   "metadata": {},
   "source": [
    "## Newton's Method"
   ]
  },
  {
   "cell_type": "markdown",
   "metadata": {},
   "source": [
    "Consider a function $f(x)$ satisfies $C^1$. We want to find $x^*$ s.t. $f(x^*)=0$. First order Taylor series expansion of this function around $x_k$ is $f(x) \\approx f(x_k) + f^{'}(x_k)(x-x_k)$. Then $f(x_k) + f^{'}(x_k)(x_{k+1} - x_k) = 0 => x_{k+1} = x_{k} - \\frac{f(x_k)}{f^{'}(x_k)}$. Many of the functions can not be approximated well with first order Taylor series expansion. However, it is reasonable to hope that $x_{k+1}$ is closer to $x^*$ than $x_{k}$ is. Thus applying this formula iteratively may converge to a root of the function."
   ]
  },
  {
   "cell_type": "code",
   "execution_count": 17,
   "metadata": {},
   "outputs": [
    {
     "data": {
      "image/gif": "[encoded data removed]"
     },
     "metadata": {},
     "output_type": "display_data"
    }
   ],
   "source": [
    "# Image is taken from Wikipedia\n",
    "display(\"image/gif\", read(\"NewtonRootFind.gif\"))"
   ]
  },
  {
   "cell_type": "code",
   "execution_count": 19,
   "metadata": {},
   "outputs": [
    {
     "data": {
      "text/plain": [
       "Newton (generic function with 1 method)"
      ]
     },
     "execution_count": 19,
     "metadata": {},
     "output_type": "execute_result"
    }
   ],
   "source": [
    "function Newton(f,x_init,eps)\n",
    "    df(x) = ForwardDiff.derivative(f,x)\n",
    "    x = x_init\n",
    "    x_old = x\n",
    "    cond = false\n",
    "    while cond == false\n",
    "        x = x - f(x)/df(x)\n",
    "        if abs(x-x_old)<eps\n",
    "            cond = true\n",
    "        else\n",
    "            x_old = x\n",
    "        end\n",
    "    end\n",
    "    return x\n",
    "end"
   ]
  },
  {
   "cell_type": "code",
   "execution_count": 20,
   "metadata": {},
   "outputs": [
    {
     "data": {
      "text/plain": [
       "1.5827492055596306"
      ]
     },
     "execution_count": 20,
     "metadata": {},
     "output_type": "execute_result"
    }
   ],
   "source": [
    "f(x) = x^5 - 3*x^2 + x - 4\n",
    "Newton(f,-2,0.001)"
   ]
  },
  {
   "cell_type": "markdown",
   "metadata": {},
   "source": [
    "__Convergence Analysis:__ Stating the iterative update rule $x_{k+1} = x_{k} - \\frac{f(x_k)}{f^{'}(x_k)}$ as a function $g(x) = x - \\frac{f(x)}{f^{'}(x)}$ we want algortihm to converge to $x^*$ s.t. $f(x^*)=0$. The convergence is satisfied if $g^{'}(x^*)=0$ where\n",
    "$$\n",
    "g^{'}(x) = 1 - \\frac{f^{'}(x)^2 - f(x)f^{''}(x)}{f^{'}(x)^2} = \\frac{f(x)f^{''}(x)}{f^{'}(x)^2}.\n",
    "$$\n",
    "Therefore Newton's method converges quadratically if the initialization is made close to a simple root ($f(x^*)=0, f^{'}(x^*) \\neq 0$). When $x^*$ is not simple, convergence is linear or worse."
   ]
  },
  {
   "cell_type": "markdown",
   "metadata": {},
   "source": [
    "## Secant Method"
   ]
  },
  {
   "cell_type": "markdown",
   "metadata": {},
   "source": [
    "It can be costly to compute the derivative of a function in certain applications. Instead we can approximately compute derivative by $f^{'}(x_k) \\approx \\frac{f(x_k)-f(x_{k-1})}{x_k-x_{k-1}}$ and plug it into Newton's method iterative update rule. This requires two initial points or this can be achieved by taking derivative at first step."
   ]
  },
  {
   "cell_type": "code",
   "execution_count": 22,
   "metadata": {},
   "outputs": [
    {
     "data": {
      "text/plain": [
       "Secant (generic function with 1 method)"
      ]
     },
     "execution_count": 22,
     "metadata": {},
     "output_type": "execute_result"
    }
   ],
   "source": [
    "function Secant(f,x_init0,x_init1,eps)\n",
    "    df(x_1,x_0) = (f(x_1)-f(x_0))/(x_1-x_0)\n",
    "    x_recent = x_init1\n",
    "    x = x_init1\n",
    "    x_old = x_init0\n",
    "    cond = false\n",
    "    while cond == false\n",
    "        x = x - f(x)/df(x,x_old)\n",
    "        if abs(x-x_old)<eps\n",
    "            cond = true\n",
    "        else\n",
    "            x_old = x_recent\n",
    "            x_recent = x\n",
    "        end\n",
    "    end\n",
    "    return x\n",
    "end"
   ]
  },
  {
   "cell_type": "code",
   "execution_count": 24,
   "metadata": {},
   "outputs": [
    {
     "data": {
      "text/plain": [
       "1.5827488502110827"
      ]
     },
     "execution_count": 24,
     "metadata": {},
     "output_type": "execute_result"
    }
   ],
   "source": [
    "f(x) = x^5 - 3*x^2 + x - 4\n",
    "Secant(f,-2,2,0.001)"
   ]
  },
  {
   "cell_type": "markdown",
   "metadata": {},
   "source": [
    "__Convergence Analysis:__ Convergence rate of Secant method is \"Golden ration\" $\\frac{1+\\sqrt{5}}{2}$ which is better than linear but worse that quadratic. Full analysis can be found at https://www.math.drexel.edu/~tolya/300_secant.pdf."
   ]
  },
  {
   "cell_type": "markdown",
   "metadata": {},
   "source": [
    "# Multivariable Problems"
   ]
  },
  {
   "cell_type": "markdown",
   "metadata": {},
   "source": [
    "Given a function $\\mathbb{R}^n \\rightarrow \\mathbb{R}^m$, find $\\mathbf{x}^*$ s.t. $f(\\mathbf{x}^*) = \\mathbf{0}$."
   ]
  },
  {
   "cell_type": "markdown",
   "metadata": {},
   "source": [
    "## Newton's Method"
   ]
  },
  {
   "cell_type": "markdown",
   "metadata": {},
   "source": [
    "$f(\\mathbf{x}) \\approx f(\\mathbf{x}_k) + \\mathcal{J}_{f}(\\mathbf{x}_k)(\\mathbf{x} - \\mathbf{x}_k)$, where $\\mathcal{J}_{f}(\\mathbf{x}_k)$ is Jacobian of $f(.)$ evaluated at $\\mathbf{x}_k$. Setting this first order Taylor series approximation of the function to zero, we find:\n",
    "$$\n",
    "\\mathcal{J}_{f}(\\mathbf{x}_k)(\\mathbf{x}_{k+1}-\\mathbf{x}_k) = -f(\\mathbf{x}_k)\n",
    "$$\n",
    "In case $m=n$, this reduces to:\n",
    "$$\n",
    "\\mathbf{x}_{k+1} = \\mathbf{x}_k - \\mathcal{J}^{-1}_{f}(\\mathbf{x}_k) f(\\mathbf{x}_k)\n",
    "$$\n",
    "Handling the iterative process as fixed point iteration by setting $\\mathbf{x}_{k+1} = g(\\mathbf{x}_k)$, the algorithm converges if the maximum of absolute values of eigenvalues for $\\mathcal{J}_{g}$ is less then 1. The reason can be better understood if we associate $\\mathcal{J}_{g}$ with the term $(\\mathbf{x}_{k+1}-\\mathbf{x}_k)$. $(\\mathbf{x}_{k+1}-\\mathbf{x}_k)$ is multiplied by matrices over nad over again and for this multiplication to be not to explode (diverge), we need the maximum of absolute values of eigenvalues for $\\mathcal{J}_{g}$ to be less then 1."
   ]
  },
  {
   "cell_type": "markdown",
   "metadata": {},
   "source": [
    "## Quasi Newton and Broyden Method"
   ]
  },
  {
   "cell_type": "markdown",
   "metadata": {},
   "source": [
    "For large $m$ and $n$, it becomes costly to calculate the Jacobian and its inverse at each iteration step. Instead of exact values of Jacobian and its inverse, we can approximate them throughout the optimization procedure. This is similar to secant method for single random variables: $\\mathcal{J}_{f_k}\\cdot(\\mathbf{x}_k-\\mathbf{x}_{k-1}) = f(\\mathbf{x}_k) -f(\\mathbf{x}_{k-1})$ where $\\mathcal{J}_{f_k}$ is the Jacobian approximation. This approximation is based on the ideas that we start with an initial Jacobian estimation and we want to converge to such $\\mathbf{x}$ values that the Jacobian estimation will not change so much. We expect such a behaviour, because as the Newton's method converge to a root, $\\mathbf{x}_k$ does not change too much in the next iterations, so does the Jacobian estimation. This can be expressed with the following constrained optimization problem:\n",
    "\n",
    "$$\n",
    "\\underset{\\mathcal{J}_{f_k}}{\\text{min }} ||\\mathcal{J}_{f_k} - \\mathcal{J}_{f_{k-1}}||^2_{\\text{Fro}} \\\\\n",
    "\\text{subject to } \\mathcal{J}_{f_k}\\cdot(\\mathbf{x}_k-\\mathbf{x}_{k-1}) = f(\\mathbf{x}_k) -f(\\mathbf{x}_{k-1})\n",
    "$$\n",
    "\n",
    "Definining the followings: $\\Delta\\mathcal{J} := \\mathcal{J}_{f_k} - \\mathcal{J}_{f_{k-1}}$, $\\Delta\\mathbf{x} := \\mathbf{x}_k-\\mathbf{x}_{k-1}$ and $\\mathbf{d}:=f(\\mathbf{x}_k) -f(\\mathbf{x}_{k-1})-\\mathcal{J}_{f_{k-1}}\\cdot\\Delta\\mathbf{x}$, we can rewrite the objective as\n",
    "\n",
    "$$\n",
    "\\underset{\\Delta\\mathcal{J}}{\\text{min }} ||\\Delta\\mathcal{J}||^2_{\\text{Fro}} \\\\\n",
    "\\text{subject to } \\Delta\\mathcal{J} \\cdot \\Delta\\mathbf{x} = \\mathbf{d}\n",
    "$$"
   ]
  },
  {
   "cell_type": "markdown",
   "metadata": {},
   "source": [
    "Lagrangian turns out to be: $\\Lambda = ||\\Delta\\mathcal{J}||^2_{\\text{Fro}} + \\mathbf{\\lambda}^T(\\Delta\\mathcal{J} \\cdot \\Delta\\mathbf{x}-\\mathbf{d})$"
   ]
  },
  {
   "cell_type": "markdown",
   "metadata": {},
   "source": [
    "Details of the solution is given at \"Numerical Algorithms\" by Justin Solomon."
   ]
  },
  {
   "cell_type": "markdown",
   "metadata": {},
   "source": [
    "Broyden-Inverted method is a better approach compared to Broyden since it directly estimates the inverse of the Jacobian and use it inside Newton's method. Broyden method can easily be transformed to Broyden-Inverted method by using Sherman Morrison's formula https://en.wikipedia.org/wiki/Sherman–Morrison_formula."
   ]
  },
  {
   "cell_type": "code",
   "execution_count": null,
   "metadata": {},
   "outputs": [],
   "source": []
  }
 ],
 "metadata": {
  "kernelspec": {
   "display_name": "Julia 1.2.0-rc1",
   "language": "julia",
   "name": "julia-1.2"
  },
  "language_info": {
   "file_extension": ".jl",
   "mimetype": "application/julia",
   "name": "julia",
   "version": "1.2.0"
  }
 },
 "nbformat": 4,
 "nbformat_minor": 2
}
