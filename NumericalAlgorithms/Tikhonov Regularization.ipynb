{
 "cells": [
  {
   "cell_type": "code",
   "execution_count": 1,
   "metadata": {},
   "outputs": [],
   "source": [
    "using LinearAlgebra"
   ]
  },
  {
   "cell_type": "markdown",
   "metadata": {},
   "source": [
    "Consider a regular linear regression task with $m \\times n$ dimensional features matrix $A$ and outputs $b$ where we want to learn weights $w$. The least squares solution ($\\text{min}||b-Aw||^2$) for this task is: $w = (A^T A)^{-1} A^T b$. Note that $A^T A$ should be invertible so that the solution exists. In order for this $n \\times n$ dimensional matrix to be invertible, rank($A$) must be $n$. Examples with $m>n$ case given below. "
   ]
  },
  {
   "cell_type": "code",
   "execution_count": 10,
   "metadata": {},
   "outputs": [
    {
     "data": {
      "text/plain": [
       "4×3 Array{Float64,2}:\n",
       " 1.0  0.0  1.0\n",
       " 0.0  1.0  1.0\n",
       " 1.0  0.0  1.0\n",
       " 2.0  1.5  3.0"
      ]
     },
     "execution_count": 10,
     "metadata": {},
     "output_type": "execute_result"
    }
   ],
   "source": [
    "A = [1 0 1; 0 1 1; 1 0 1; 2 1.5 3]"
   ]
  },
  {
   "cell_type": "code",
   "execution_count": 11,
   "metadata": {},
   "outputs": [
    {
     "data": {
      "text/plain": [
       "3×3 Array{Float64,2}:\n",
       "  17.5   16.0  -19.0\n",
       "  16.0   16.0  -18.0\n",
       " -19.0  -18.0   21.0"
      ]
     },
     "execution_count": 11,
     "metadata": {},
     "output_type": "execute_result"
    }
   ],
   "source": [
    "inv(transpose(A)*A)"
   ]
  },
  {
   "cell_type": "code",
   "execution_count": 12,
   "metadata": {},
   "outputs": [
    {
     "data": {
      "text/plain": [
       "4×3 Array{Float64,2}:\n",
       " 1.0  0.0  1.0\n",
       " 0.0  1.0  1.0\n",
       " 1.0  0.0  1.0\n",
       " 2.0  1.5  3.5"
      ]
     },
     "execution_count": 12,
     "metadata": {},
     "output_type": "execute_result"
    }
   ],
   "source": [
    "A = [1 0 1; 0 1 1; 1 0 1; 2 1.5 3.5]"
   ]
  },
  {
   "cell_type": "code",
   "execution_count": 13,
   "metadata": {},
   "outputs": [
    {
     "ename": "SingularException",
     "evalue": "SingularException(3)",
     "output_type": "error",
     "traceback": [
      "SingularException(3)",
      "",
      "Stacktrace:",
      " [1] checknonsingular at /Users/julia/buildbot/worker/package_macos64/build/usr/share/julia/stdlib/v1.2/LinearAlgebra/src/factorization.jl:12 [inlined]",
      " [2] #lu!#118(::Bool, ::typeof(lu!), ::Array{Float64,2}, ::Val{true}) at /Users/julia/buildbot/worker/package_macos64/build/usr/share/julia/stdlib/v1.2/LinearAlgebra/src/lu.jl:41",
      " [3] #lu! at ./none:0 [inlined]",
      " [4] #lu#122 at /Users/julia/buildbot/worker/package_macos64/build/usr/share/julia/stdlib/v1.2/LinearAlgebra/src/lu.jl:142 [inlined]",
      " [5] lu at /Users/julia/buildbot/worker/package_macos64/build/usr/share/julia/stdlib/v1.2/LinearAlgebra/src/lu.jl:142 [inlined] (repeats 2 times)",
      " [6] inv(::Array{Float64,2}) at /Users/julia/buildbot/worker/package_macos64/build/usr/share/julia/stdlib/v1.2/LinearAlgebra/src/dense.jl:730",
      " [7] top-level scope at In[13]:1"
     ]
    }
   ],
   "source": [
    "inv(transpose(A)*A)"
   ]
  },
  {
   "cell_type": "markdown",
   "metadata": {},
   "source": [
    "In case $m<n$, rank(A) can be $m$ at most which is less then $n$ and do not satisfy the condition. Intuitively, this means that there are more than one way to determine $w$ such that the objective is minimized. Therefore, there should be a goodness criteria for $w$ to favor some solutions to others. This is achieved by an additional regularization term and this criteria differs from application to application."
   ]
  },
  {
   "cell_type": "markdown",
   "metadata": {},
   "source": [
    "A simple example is with a constraint on 2-norm of $w$: $\\underset{w}{\\text{min}}||Aw-b||^2 + \\alpha ||w||^2$ for $\\alpha > 0$. Taking the graident of objective w.r.t $w$ and equalizing to vector of 0s: $0 = 2 A^T A w - 2 A^T b + 2 \\alpha w$, leads to $w = (A^T A + \\alpha I)^{-1} A^T b$. So we forces Gram matrix to be positive definite. Examples below:"
   ]
  },
  {
   "cell_type": "code",
   "execution_count": 41,
   "metadata": {},
   "outputs": [
    {
     "data": {
      "text/plain": [
       "6-element Array{Float64,1}:\n",
       "  2.0936845085708597\n",
       " -1.9215995697441337\n",
       " -0.5548507046716599\n",
       " -2.215379891904948 \n",
       "  0.8435287188611905\n",
       "  3.4535147912784514"
      ]
     },
     "execution_count": 41,
     "metadata": {},
     "output_type": "execute_result"
    }
   ],
   "source": [
    "A = randn(4,6)\n",
    "b = randn(4)\n",
    "alfa = 0.1\n",
    "w = inv(transpose(A)*A + diagm(alfa*zeros(6)))*transpose(A)*b"
   ]
  },
  {
   "cell_type": "code",
   "execution_count": null,
   "metadata": {},
   "outputs": [],
   "source": []
  }
 ],
 "metadata": {
  "kernelspec": {
   "display_name": "Julia 1.2.0-rc1",
   "language": "julia",
   "name": "julia-1.2"
  },
  "language_info": {
   "file_extension": ".jl",
   "mimetype": "application/julia",
   "name": "julia",
   "version": "1.2.0"
  }
 },
 "nbformat": 4,
 "nbformat_minor": 2
}
