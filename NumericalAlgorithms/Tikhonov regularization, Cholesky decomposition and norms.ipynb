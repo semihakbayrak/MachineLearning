{
 "cells": [
  {
   "cell_type": "code",
   "execution_count": 1,
   "metadata": {},
   "outputs": [],
   "source": [
    "using LinearAlgebra"
   ]
  },
  {
   "cell_type": "markdown",
   "metadata": {},
   "source": [
    "Consider a regular linear regression task with $m \\times n$ dimensional features matrix $A$ and outputs $b$ where we want to learn weights $w$. The least squares solution ($\\text{min}||b-Aw||_2^2$) for this task is: $w = (A^T A)^{-1} A^T b$. Note that $A^T A$ should be invertible so that the solution exists. In order for this $n \\times n$ dimensional matrix to be invertible, rank($A$) must be $n$. Examples with $m>n$ case given below. "
   ]
  },
  {
   "cell_type": "code",
   "execution_count": 2,
   "metadata": {},
   "outputs": [
    {
     "data": {
      "text/plain": [
       "4×3 Array{Float64,2}:\n",
       " 1.0  0.0  1.0\n",
       " 0.0  1.0  1.0\n",
       " 1.0  0.0  1.0\n",
       " 2.0  1.5  3.0"
      ]
     },
     "execution_count": 2,
     "metadata": {},
     "output_type": "execute_result"
    }
   ],
   "source": [
    "A = [1 0 1; 0 1 1; 1 0 1; 2 1.5 3]"
   ]
  },
  {
   "cell_type": "code",
   "execution_count": 3,
   "metadata": {},
   "outputs": [
    {
     "data": {
      "text/plain": [
       "3×3 Array{Float64,2}:\n",
       "  17.5   16.0  -19.0\n",
       "  16.0   16.0  -18.0\n",
       " -19.0  -18.0   21.0"
      ]
     },
     "execution_count": 3,
     "metadata": {},
     "output_type": "execute_result"
    }
   ],
   "source": [
    "inv(transpose(A)*A)"
   ]
  },
  {
   "cell_type": "code",
   "execution_count": 4,
   "metadata": {},
   "outputs": [
    {
     "data": {
      "text/plain": [
       "4×3 Array{Float64,2}:\n",
       " 1.0  0.0  1.0\n",
       " 0.0  1.0  1.0\n",
       " 1.0  0.0  1.0\n",
       " 2.0  1.5  3.5"
      ]
     },
     "execution_count": 4,
     "metadata": {},
     "output_type": "execute_result"
    }
   ],
   "source": [
    "A = [1 0 1; 0 1 1; 1 0 1; 2 1.5 3.5]"
   ]
  },
  {
   "cell_type": "code",
   "execution_count": 5,
   "metadata": {},
   "outputs": [
    {
     "ename": "SingularException",
     "evalue": "SingularException(3)",
     "output_type": "error",
     "traceback": [
      "SingularException(3)",
      "",
      "Stacktrace:",
      " [1] checknonsingular at /Users/julia/buildbot/worker/package_macos64/build/usr/share/julia/stdlib/v1.2/LinearAlgebra/src/factorization.jl:12 [inlined]",
      " [2] #lu!#118(::Bool, ::typeof(lu!), ::Array{Float64,2}, ::Val{true}) at /Users/julia/buildbot/worker/package_macos64/build/usr/share/julia/stdlib/v1.2/LinearAlgebra/src/lu.jl:41",
      " [3] #lu! at ./none:0 [inlined]",
      " [4] #lu#122 at /Users/julia/buildbot/worker/package_macos64/build/usr/share/julia/stdlib/v1.2/LinearAlgebra/src/lu.jl:142 [inlined]",
      " [5] lu at /Users/julia/buildbot/worker/package_macos64/build/usr/share/julia/stdlib/v1.2/LinearAlgebra/src/lu.jl:142 [inlined] (repeats 2 times)",
      " [6] inv(::Array{Float64,2}) at /Users/julia/buildbot/worker/package_macos64/build/usr/share/julia/stdlib/v1.2/LinearAlgebra/src/dense.jl:730",
      " [7] top-level scope at In[5]:1"
     ]
    }
   ],
   "source": [
    "inv(transpose(A)*A)"
   ]
  },
  {
   "cell_type": "markdown",
   "metadata": {},
   "source": [
    "But $A^T A$ is a positive semi-definite symmetric matrix.\n",
    "\n",
    "__Proof__: It is symmetric => $(A^T A)^T = A^T A$\n",
    "\n",
    "__Proof__: It is positive semi-definite => $x^T A^T A x = (Ax)^T \\cdot Ax = ||Ax||_2^2 \\geq 0$"
   ]
  },
  {
   "cell_type": "code",
   "execution_count": 6,
   "metadata": {},
   "outputs": [
    {
     "data": {
      "text/plain": [
       "0.0"
      ]
     },
     "execution_count": 6,
     "metadata": {},
     "output_type": "execute_result"
    }
   ],
   "source": [
    "det(transpose(A)*A)"
   ]
  },
  {
   "cell_type": "markdown",
   "metadata": {},
   "source": [
    "In case $m<n$, Aw = b is underdetermined. Rank($A^T A$) is less than $n$ which makes it positive semi-definite and not-invertable. Intuitively, this means that there are more than one way to determine $w$ such that the objective is minimized. Therefore, there should be a goodness criteria for $w$ to favor some solutions to others. This is achieved by an additional regularization term and this criteria differs from application to application.\n",
    "\n",
    "__Note__: Sometimes Julia finds the inverse matrix of this Gram matrix. When I look at the determinant it is not zero but very close to it sth like e-32 or so. I guess this is due to rounding errors."
   ]
  },
  {
   "cell_type": "markdown",
   "metadata": {},
   "source": [
    "A simple example is with a constraint on 2-norm of $w$: $\\underset{w}{\\text{min}}||Aw-b||_2^2 + \\alpha ||w||_2^2$ for $\\alpha > 0$. Taking the graident of objective w.r.t $w$ and equalizing to vector of 0s: $0 = 2 A^T A w - 2 A^T b + 2 \\alpha w$, leads to $w = (A^T A + \\alpha I)^{-1} A^T b$. So we forces Gram matrix to be positive definite. Examples below:"
   ]
  },
  {
   "cell_type": "code",
   "execution_count": 7,
   "metadata": {},
   "outputs": [
    {
     "data": {
      "text/plain": [
       "6-element Array{Float64,1}:\n",
       " -2.217902809422099 \n",
       " -1.8062025379735815\n",
       " -7.070149716559727 \n",
       "  7.720234364571382 \n",
       "  1.5987689611311164\n",
       " -0.6134783709600078"
      ]
     },
     "execution_count": 7,
     "metadata": {},
     "output_type": "execute_result"
    }
   ],
   "source": [
    "A = randn(4,6)\n",
    "b = randn(4)\n",
    "w = inv(transpose(A)*A)*transpose(A)*b"
   ]
  },
  {
   "cell_type": "code",
   "execution_count": 8,
   "metadata": {},
   "outputs": [
    {
     "data": {
      "text/plain": [
       "6-element Array{Float64,1}:\n",
       "  0.11896570884487312 \n",
       " -0.8139126871190561  \n",
       "  0.32613597075569833 \n",
       "  0.2484387832138445  \n",
       "  0.03687189052174089 \n",
       " -0.026097154804737253"
      ]
     },
     "execution_count": 8,
     "metadata": {},
     "output_type": "execute_result"
    }
   ],
   "source": [
    "alfa = 0.1\n",
    "w = inv(transpose(A)*A + diagm(alfa*ones(6)))*transpose(A)*b"
   ]
  },
  {
   "cell_type": "code",
   "execution_count": 9,
   "metadata": {},
   "outputs": [
    {
     "data": {
      "text/plain": [
       "-1.4210231693913534e-29"
      ]
     },
     "execution_count": 9,
     "metadata": {},
     "output_type": "execute_result"
    }
   ],
   "source": [
    "det(transpose(A)*A)"
   ]
  },
  {
   "cell_type": "code",
   "execution_count": 10,
   "metadata": {},
   "outputs": [
    {
     "data": {
      "text/plain": [
       "8.179088135143022"
      ]
     },
     "execution_count": 10,
     "metadata": {},
     "output_type": "execute_result"
    }
   ],
   "source": [
    "det(transpose(A)*A + diagm(alfa*ones(6)))"
   ]
  },
  {
   "cell_type": "markdown",
   "metadata": {},
   "source": [
    "# Cholesky Decomposition"
   ]
  },
  {
   "cell_type": "markdown",
   "metadata": {},
   "source": [
    "Similar to LU decomposition, we can decompose a positive definite symmetric matrix $C$ as $L L^T$ where L is a lower triangular matrix with all positive entries in the diagonal. "
   ]
  },
  {
   "cell_type": "markdown",
   "metadata": {},
   "source": [
    "Cholesky decomposition is useful becuase of several reasons: 1) for large matrices it is enough to keep L in the memory which is memory eficient since many elements are zero and doesn't require to be stored. 2) it allows fast matrix multiplications. 3) it is more robust to rounding errors than LU decomposition. Consider a rounding error in L. In LU decomposition we loose positive definiteness while in Cholesky decomposition LL^T is still positive definite."
   ]
  },
  {
   "cell_type": "code",
   "execution_count": 11,
   "metadata": {},
   "outputs": [],
   "source": [
    "D = cholesky(transpose(A)*A + diagm(alfa*ones(6)));"
   ]
  },
  {
   "cell_type": "code",
   "execution_count": 12,
   "metadata": {},
   "outputs": [
    {
     "data": {
      "text/plain": [
       "6×6 LowerTriangular{Float64,Array{Float64,2}}:\n",
       "  2.90278     ⋅          ⋅          ⋅           ⋅         ⋅      \n",
       "  1.74984    2.41515     ⋅          ⋅           ⋅         ⋅      \n",
       " -1.17075    0.113871   1.04073     ⋅           ⋅         ⋅      \n",
       " -0.206813   0.801088   0.576802   0.513688     ⋅         ⋅      \n",
       "  1.78938   -1.92721    1.25173   -0.969181    1.45942    ⋅      \n",
       "  1.07489   -0.862432  -1.73335    0.0800226  -0.571193  0.522848"
      ]
     },
     "execution_count": 12,
     "metadata": {},
     "output_type": "execute_result"
    }
   ],
   "source": [
    "D.L"
   ]
  },
  {
   "cell_type": "code",
   "execution_count": 13,
   "metadata": {},
   "outputs": [
    {
     "data": {
      "text/plain": [
       "6×6 UpperTriangular{Float64,Array{Float64,2}}:\n",
       " 2.90278  1.74984  -1.17075   -0.206813   1.78938    1.07489  \n",
       "  ⋅       2.41515   0.113871   0.801088  -1.92721   -0.862432 \n",
       "  ⋅        ⋅        1.04073    0.576802   1.25173   -1.73335  \n",
       "  ⋅        ⋅         ⋅         0.513688  -0.969181   0.0800226\n",
       "  ⋅        ⋅         ⋅          ⋅         1.45942   -0.571193 \n",
       "  ⋅        ⋅         ⋅          ⋅          ⋅         0.522848 "
      ]
     },
     "execution_count": 13,
     "metadata": {},
     "output_type": "execute_result"
    }
   ],
   "source": [
    "D.U"
   ]
  },
  {
   "cell_type": "markdown",
   "metadata": {},
   "source": [
    "# Matrix Norm"
   ]
  },
  {
   "cell_type": "markdown",
   "metadata": {},
   "source": [
    "__Induced matrix norm:__ $||A|| = \\text{max} \\frac{||Ax||}{||x||}$ which is how much a vector is stretched at most. Searching among the vectors with ||x|| = 1, which refers to the points on a unit circle for 2-dimensional vectors, A makes this unit circle an ellipse and we seek for its major axis. "
   ]
  },
  {
   "cell_type": "code",
   "execution_count": 14,
   "metadata": {},
   "outputs": [
    {
     "data": {
      "image/png": "[encoded data removed]"
     },
     "metadata": {},
     "output_type": "display_data"
    }
   ],
   "source": [
    "display(\"image/png\", read(\"matrixNorm.png\"))"
   ]
  },
  {
   "cell_type": "markdown",
   "metadata": {},
   "source": [
    "The indiced two norm or __spectral norm__ of $A$ is the square root of the largest eigenvalue of $A^T A$: \n",
    "\n",
    "$||A||_2 = \\text{max} \\{ \\sqrt{\\lambda}: \\text{there exists x s.t. } A^T A x = \\lambda A^T A \\}$"
   ]
  },
  {
   "cell_type": "markdown",
   "metadata": {},
   "source": [
    "__Matrix Condition Number:__ Matrix condition number defines the sensitivity in a linear system $Ax = b$ which is how much $x$ changes when $A$ and $b$ are perturbated with a small amount $A+\\epsilon$, $b+\\epsilon$. We desire condition number to be small to have more stable systems.\n",
    "\n",
    "It is defined by $\\big(\\text{max} \\frac{||Ax||}{||x||}\\big) \\cdot \\big(\\text{min} \\frac{||Ay||}{||y||}\\big)^{-1}$ for a matrix norm $||\\cdot||$ or equivalently $||A|| ||A^{-1}||$. Returning back to the 2-diemnsional case, this equations imply that condition number is the ratio of the large major axis to small major axis. So, we prefer round like transformations."
   ]
  },
  {
   "cell_type": "code",
   "execution_count": null,
   "metadata": {},
   "outputs": [],
   "source": []
  }
 ],
 "metadata": {
  "kernelspec": {
   "display_name": "Julia 1.2.0-rc1",
   "language": "julia",
   "name": "julia-1.2"
  },
  "language_info": {
   "file_extension": ".jl",
   "mimetype": "application/julia",
   "name": "julia",
   "version": "1.2.0"
  }
 },
 "nbformat": 4,
 "nbformat_minor": 2
}
