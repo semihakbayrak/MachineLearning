{
 "cells": [
  {
   "cell_type": "code",
   "execution_count": 1,
   "metadata": {},
   "outputs": [
    {
     "name": "stderr",
     "output_type": "stream",
     "text": [
      "┌ Info: Recompiling stale cache file /Users/semihakbayrak/.julia/compiled/v1.2/Plots/ld3vC.ji for Plots [91a5bcdd-55d7-5caf-9e0b-520d859cae80]\n",
      "└ @ Base loading.jl:1240\n"
     ]
    }
   ],
   "source": [
    "using LinearAlgebra, Plots, ForwardDiff"
   ]
  },
  {
   "cell_type": "markdown",
   "metadata": {},
   "source": [
    "We are interested in maximizing or minimizing a function $f:\\mathbb{R}^n \\rightarrow \\mathbb{R}$ without any constrained defined on the input $\\mathbf{x}$."
   ]
  },
  {
   "cell_type": "markdown",
   "metadata": {},
   "source": [
    "Note that by Taylor series expansion around a local optimum point $\\mathbf{x}^*$, we can approximate the function as\n",
    "$$\n",
    "f(\\mathbf{x}) \\approx f(\\mathbf{x}^*) + \\nabla f(\\mathbf{x}^*)\\cdot(\\mathbf{x}-\\mathbf{x}^*) + \\frac{1}{2} (\\mathbf{x}-\\mathbf{x}^*)^T \\cdot H_f (\\mathbf{x}-\\mathbf{x}^*)\n",
    "$$\n",
    "where $H_f$ is the jacobian of $f$ evaluated at $\\mathbf{x}^*$. Since $\\mathbf{x}^*$ is an optimum point, $\\nabla f(\\mathbf{x}^*)$ is zero and the above equation reduces to\n",
    "$$\n",
    "f(\\mathbf{x}) \\approx f(\\mathbf{x}^*) + \\frac{1}{2} (\\mathbf{x}-\\mathbf{x}^*)^T \\cdot H_f (\\mathbf{x}-\\mathbf{x}^*)\n",
    "$$\n",
    "Now, if we set $\\mathbf{x}$ to $\\mathbf{x}^* + \\Delta\\mathbf{x}$, $f(\\mathbf{x}+ \\Delta\\mathbf{x})$ becomes larger than $f(\\mathbf{x}^*)$ for positive definite $H_f$ and smaller for negative definite $H_f$. Therefore we can define the following rules\n",
    "\n",
    "- $\\mathbf{x}^*$ is local minimum if $H_f$ is positive definite (all eigenvalues > 0).\n",
    "\n",
    "- $\\mathbf{x}^*$ is local maximum if $H_f$ is negative definite (all eigenvalues < 0).\n",
    "\n",
    "- $\\mathbf{x}^*$ is saddle point if $H_f$ is indefinite (at least one eigenvalue > 0 and at least one eigenvalue < 0).\n",
    "\n",
    "- If $H_f$ is not invertable (semi-definite). Then we encounter an odd case."
   ]
  },
  {
   "cell_type": "markdown",
   "metadata": {},
   "source": [
    "__Definition:__ A function $f:\\mathbb{R}^n \\rightarrow \\mathbb{R}$ is convex iff $f(a \\cdot \\mathbf{x} + (1-a) \\cdot \\mathbf{y})\\leq a \\cdot f(\\mathbf{x}) + (1-a) \\cdot f(\\mathbf{y})$ for $a \\in (0,1)$. It is strictly convex iff we can replace $\\leq$ with $<$."
   ]
  },
  {
   "cell_type": "markdown",
   "metadata": {},
   "source": [
    "__Preposition:__ A local minimum of a convex function $f:\\mathbb{R}^n \\rightarrow \\mathbb{R}$ is necessarily a global minimum."
   ]
  },
  {
   "cell_type": "markdown",
   "metadata": {},
   "source": [
    "# One-Dimensional Strategies"
   ]
  },
  {
   "cell_type": "code",
   "execution_count": 16,
   "metadata": {},
   "outputs": [
    {
     "data": {
      "image/svg+xml": [
       "<?xml version=\"1.0\" encoding=\"utf-8\"?>\n",
       "<svg xmlns=\"http://www.w3.org/2000/svg\" xmlns:xlink=\"http://www.w3.org/1999/xlink\" width=\"600\" height=\"400\" viewBox=\"0 0 2400 1600\">\n",
       "<defs>\n",
       "  <clipPath id=\"clip7300\">\n",
       "    <rect x=\"0\" y=\"0\" width=\"2400\" height=\"1600\"/>\n",
       "  </clipPath>\n",
       "</defs>\n",
       "<path clip-path=\"url(#clip7300)\" d=\"\n",
       "M0 1600 L2400 1600 L2400 0 L0 0  Z\n",
       "  \" fill=\"#ffffff\" fill-rule=\"evenodd\" fill-opacity=\"1\"/>\n",
       "<defs>\n",
       "  <clipPath id=\"clip7301\">\n",
       "    <rect x=\"480\" y=\"0\" width=\"1681\" height=\"1600\"/>\n",
       "  </clipPath>\n",
       "</defs>\n",
       "<path clip-path=\"url(#clip7300)\" d=\"\n",
       "M141.865 1487.47 L2352.76 1487.47 L2352.76 47.2441 L141.865 47.2441  Z\n",
       "  \" fill=\"#ffffff\" fill-rule=\"evenodd\" fill-opacity=\"1\"/>\n",
       "<defs>\n",
       "  <clipPath id=\"clip7302\">\n",
       "    <rect x=\"141\" y=\"47\" width=\"2212\" height=\"1441\"/>\n",
       "  </clipPath>\n",
       "</defs>\n",
       "<polyline clip-path=\"url(#clip7302)\" style=\"stroke:#000000; stroke-width:2; stroke-opacity:0.1; fill:none\" points=\"\n",
       "  204.437,1487.47 204.437,47.2441 \n",
       "  \"/>\n",
       "<polyline clip-path=\"url(#clip7302)\" style=\"stroke:#000000; stroke-width:2; stroke-opacity:0.1; fill:none\" points=\"\n",
       "  725.874,1487.47 725.874,47.2441 \n",
       "  \"/>\n",
       "<polyline clip-path=\"url(#clip7302)\" style=\"stroke:#000000; stroke-width:2; stroke-opacity:0.1; fill:none\" points=\"\n",
       "  1247.31,1487.47 1247.31,47.2441 \n",
       "  \"/>\n",
       "<polyline clip-path=\"url(#clip7302)\" style=\"stroke:#000000; stroke-width:2; stroke-opacity:0.1; fill:none\" points=\"\n",
       "  1768.75,1487.47 1768.75,47.2441 \n",
       "  \"/>\n",
       "<polyline clip-path=\"url(#clip7302)\" style=\"stroke:#000000; stroke-width:2; stroke-opacity:0.1; fill:none\" points=\"\n",
       "  2290.18,1487.47 2290.18,47.2441 \n",
       "  \"/>\n",
       "<polyline clip-path=\"url(#clip7302)\" style=\"stroke:#000000; stroke-width:2; stroke-opacity:0.1; fill:none\" points=\"\n",
       "  141.865,1230.51 2352.76,1230.51 \n",
       "  \"/>\n",
       "<polyline clip-path=\"url(#clip7302)\" style=\"stroke:#000000; stroke-width:2; stroke-opacity:0.1; fill:none\" points=\"\n",
       "  141.865,944.883 2352.76,944.883 \n",
       "  \"/>\n",
       "<polyline clip-path=\"url(#clip7302)\" style=\"stroke:#000000; stroke-width:2; stroke-opacity:0.1; fill:none\" points=\"\n",
       "  141.865,659.257 2352.76,659.257 \n",
       "  \"/>\n",
       "<polyline clip-path=\"url(#clip7302)\" style=\"stroke:#000000; stroke-width:2; stroke-opacity:0.1; fill:none\" points=\"\n",
       "  141.865,373.631 2352.76,373.631 \n",
       "  \"/>\n",
       "<polyline clip-path=\"url(#clip7302)\" style=\"stroke:#000000; stroke-width:2; stroke-opacity:0.1; fill:none\" points=\"\n",
       "  141.865,88.0053 2352.76,88.0053 \n",
       "  \"/>\n",
       "<polyline clip-path=\"url(#clip7300)\" style=\"stroke:#000000; stroke-width:4; stroke-opacity:1; fill:none\" points=\"\n",
       "  141.865,1487.47 2352.76,1487.47 \n",
       "  \"/>\n",
       "<polyline clip-path=\"url(#clip7300)\" style=\"stroke:#000000; stroke-width:4; stroke-opacity:1; fill:none\" points=\"\n",
       "  141.865,1487.47 141.865,47.2441 \n",
       "  \"/>\n",
       "<polyline clip-path=\"url(#clip7300)\" style=\"stroke:#000000; stroke-width:4; stroke-opacity:1; fill:none\" points=\"\n",
       "  204.437,1487.47 204.437,1470.19 \n",
       "  \"/>\n",
       "<polyline clip-path=\"url(#clip7300)\" style=\"stroke:#000000; stroke-width:4; stroke-opacity:1; fill:none\" points=\"\n",
       "  725.874,1487.47 725.874,1470.19 \n",
       "  \"/>\n",
       "<polyline clip-path=\"url(#clip7300)\" style=\"stroke:#000000; stroke-width:4; stroke-opacity:1; fill:none\" points=\"\n",
       "  1247.31,1487.47 1247.31,1470.19 \n",
       "  \"/>\n",
       "<polyline clip-path=\"url(#clip7300)\" style=\"stroke:#000000; stroke-width:4; stroke-opacity:1; fill:none\" points=\"\n",
       "  1768.75,1487.47 1768.75,1470.19 \n",
       "  \"/>\n",
       "<polyline clip-path=\"url(#clip7300)\" style=\"stroke:#000000; stroke-width:4; stroke-opacity:1; fill:none\" points=\"\n",
       "  2290.18,1487.47 2290.18,1470.19 \n",
       "  \"/>\n",
       "<polyline clip-path=\"url(#clip7300)\" style=\"stroke:#000000; stroke-width:4; stroke-opacity:1; fill:none\" points=\"\n",
       "  141.865,1230.51 168.395,1230.51 \n",
       "  \"/>\n",
       "<polyline clip-path=\"url(#clip7300)\" style=\"stroke:#000000; stroke-width:4; stroke-opacity:1; fill:none\" points=\"\n",
       "  141.865,944.883 168.395,944.883 \n",
       "  \"/>\n",
       "<polyline clip-path=\"url(#clip7300)\" style=\"stroke:#000000; stroke-width:4; stroke-opacity:1; fill:none\" points=\"\n",
       "  141.865,659.257 168.395,659.257 \n",
       "  \"/>\n",
       "<polyline clip-path=\"url(#clip7300)\" style=\"stroke:#000000; stroke-width:4; stroke-opacity:1; fill:none\" points=\"\n",
       "  141.865,373.631 168.395,373.631 \n",
       "  \"/>\n",
       "<polyline clip-path=\"url(#clip7300)\" style=\"stroke:#000000; stroke-width:4; stroke-opacity:1; fill:none\" points=\"\n",
       "  141.865,88.0053 168.395,88.0053 \n",
       "  \"/>\n",
       "<g clip-path=\"url(#clip7300)\">\n",
       "<text style=\"fill:#000000; fill-opacity:1; font-family:Arial,Helvetica Neue,Helvetica,sans-serif; font-size:48px; text-anchor:middle;\" transform=\"rotate(0, 204.437, 1541.47)\" x=\"204.437\" y=\"1541.47\">-2</text>\n",
       "</g>\n",
       "<g clip-path=\"url(#clip7300)\">\n",
       "<text style=\"fill:#000000; fill-opacity:1; font-family:Arial,Helvetica Neue,Helvetica,sans-serif; font-size:48px; text-anchor:middle;\" transform=\"rotate(0, 725.874, 1541.47)\" x=\"725.874\" y=\"1541.47\">-1</text>\n",
       "</g>\n",
       "<g clip-path=\"url(#clip7300)\">\n",
       "<text style=\"fill:#000000; fill-opacity:1; font-family:Arial,Helvetica Neue,Helvetica,sans-serif; font-size:48px; text-anchor:middle;\" transform=\"rotate(0, 1247.31, 1541.47)\" x=\"1247.31\" y=\"1541.47\">0</text>\n",
       "</g>\n",
       "<g clip-path=\"url(#clip7300)\">\n",
       "<text style=\"fill:#000000; fill-opacity:1; font-family:Arial,Helvetica Neue,Helvetica,sans-serif; font-size:48px; text-anchor:middle;\" transform=\"rotate(0, 1768.75, 1541.47)\" x=\"1768.75\" y=\"1541.47\">1</text>\n",
       "</g>\n",
       "<g clip-path=\"url(#clip7300)\">\n",
       "<text style=\"fill:#000000; fill-opacity:1; font-family:Arial,Helvetica Neue,Helvetica,sans-serif; font-size:48px; text-anchor:middle;\" transform=\"rotate(0, 2290.18, 1541.47)\" x=\"2290.18\" y=\"1541.47\">2</text>\n",
       "</g>\n",
       "<g clip-path=\"url(#clip7300)\">\n",
       "<text style=\"fill:#000000; fill-opacity:1; font-family:Arial,Helvetica Neue,Helvetica,sans-serif; font-size:48px; text-anchor:end;\" transform=\"rotate(0, 117.865, 1248.01)\" x=\"117.865\" y=\"1248.01\">-6</text>\n",
       "</g>\n",
       "<g clip-path=\"url(#clip7300)\">\n",
       "<text style=\"fill:#000000; fill-opacity:1; font-family:Arial,Helvetica Neue,Helvetica,sans-serif; font-size:48px; text-anchor:end;\" transform=\"rotate(0, 117.865, 962.383)\" x=\"117.865\" y=\"962.383\">-4</text>\n",
       "</g>\n",
       "<g clip-path=\"url(#clip7300)\">\n",
       "<text style=\"fill:#000000; fill-opacity:1; font-family:Arial,Helvetica Neue,Helvetica,sans-serif; font-size:48px; text-anchor:end;\" transform=\"rotate(0, 117.865, 676.757)\" x=\"117.865\" y=\"676.757\">-2</text>\n",
       "</g>\n",
       "<g clip-path=\"url(#clip7300)\">\n",
       "<text style=\"fill:#000000; fill-opacity:1; font-family:Arial,Helvetica Neue,Helvetica,sans-serif; font-size:48px; text-anchor:end;\" transform=\"rotate(0, 117.865, 391.131)\" x=\"117.865\" y=\"391.131\">0</text>\n",
       "</g>\n",
       "<g clip-path=\"url(#clip7300)\">\n",
       "<text style=\"fill:#000000; fill-opacity:1; font-family:Arial,Helvetica Neue,Helvetica,sans-serif; font-size:48px; text-anchor:end;\" transform=\"rotate(0, 117.865, 105.505)\" x=\"117.865\" y=\"105.505\">2</text>\n",
       "</g>\n",
       "<polyline clip-path=\"url(#clip7302)\" style=\"stroke:#009af9; stroke-width:4; stroke-opacity:1; fill:none\" points=\"\n",
       "  204.437,659.257 256.581,901.739 308.724,1090.9 360.868,1233.07 413.012,1334.25 465.155,1400.1 517.299,1435.93 569.443,1446.71 621.586,1437.07 673.73,1411.3 \n",
       "  725.874,1373.32 778.017,1326.75 830.161,1274.84 882.305,1220.5 934.448,1166.3 986.592,1114.47 1038.74,1066.9 1090.88,1025.13 1143.02,990.355 1195.17,963.434 \n",
       "  1247.31,944.883 1299.45,934.872 1351.6,933.23 1403.74,939.442 1455.88,952.652 1508.03,971.66 1560.17,994.925 1612.32,1020.56 1664.46,1046.34 1716.6,1069.69 \n",
       "  1768.75,1087.7 1820.89,1097.11 1873.03,1094.32 1925.18,1075.4 1977.32,1036.05 2029.47,971.66 2081.61,877.247 2133.75,747.501 2185.9,576.768 2238.04,359.05 \n",
       "  2290.18,88.0053 \n",
       "  \"/>\n",
       "<path clip-path=\"url(#clip7300)\" d=\"\n",
       "M1989.93 251.724 L2280.76 251.724 L2280.76 130.764 L1989.93 130.764  Z\n",
       "  \" fill=\"#ffffff\" fill-rule=\"evenodd\" fill-opacity=\"1\"/>\n",
       "<polyline clip-path=\"url(#clip7300)\" style=\"stroke:#000000; stroke-width:4; stroke-opacity:1; fill:none\" points=\"\n",
       "  1989.93,251.724 2280.76,251.724 2280.76,130.764 1989.93,130.764 1989.93,251.724 \n",
       "  \"/>\n",
       "<polyline clip-path=\"url(#clip7300)\" style=\"stroke:#009af9; stroke-width:4; stroke-opacity:1; fill:none\" points=\"\n",
       "  2013.93,191.244 2157.93,191.244 \n",
       "  \"/>\n",
       "<g clip-path=\"url(#clip7300)\">\n",
       "<text style=\"fill:#000000; fill-opacity:1; font-family:Arial,Helvetica Neue,Helvetica,sans-serif; font-size:48px; text-anchor:start;\" transform=\"rotate(0, 2181.93, 208.744)\" x=\"2181.93\" y=\"208.744\">y1</text>\n",
       "</g>\n",
       "</svg>\n"
      ]
     },
     "execution_count": 16,
     "metadata": {},
     "output_type": "execute_result"
    }
   ],
   "source": [
    "f(x) = x^4 - 3*x^2 + x - 4 #non-convex function example\n",
    "x_vals = collect(-2:0.1:2)\n",
    "f_vals = f.(x_vals)\n",
    "plot(x_vals,f_vals)"
   ]
  },
  {
   "cell_type": "markdown",
   "metadata": {},
   "source": [
    "## Newton's Method"
   ]
  },
  {
   "cell_type": "markdown",
   "metadata": {},
   "source": [
    "$f(x_k+\\Delta) \\approx f(x_k) + \\Delta f^{'}(x_k) + \\frac{1}{2} \\Delta^2f^{''}(x_k)$\n",
    "\n",
    "$\\frac{d}{d\\Delta}f(x_k+\\Delta)=0$ => $f^{'}(x_k) + \\Delta f^{''}(x_k) = 0$ => $x_{k+1} = x_k - \\frac{f^{'}(x_k)}{f^{''}(x_k)}$"
   ]
  },
  {
   "cell_type": "markdown",
   "metadata": {},
   "source": [
    "Above formula refers to root finding for the derivative of $f$. In case function is quadratic, Newton's method find the optimum at one step."
   ]
  },
  {
   "cell_type": "code",
   "execution_count": 20,
   "metadata": {},
   "outputs": [
    {
     "data": {
      "text/plain": [
       "Newton (generic function with 1 method)"
      ]
     },
     "execution_count": 20,
     "metadata": {},
     "output_type": "execute_result"
    }
   ],
   "source": [
    "function Newton(f,x_init,eps)\n",
    "    df(x) = ForwardDiff.derivative(f,x)\n",
    "    ddf(x) = ForwardDiff.derivative(df,x)\n",
    "    x = x_init\n",
    "    x_old = x\n",
    "    cond = false\n",
    "    while cond == false\n",
    "        x = x - df(x)/ddf(x)\n",
    "        if abs(x-x_old)<eps\n",
    "            cond = true\n",
    "        else\n",
    "            x_old = x\n",
    "        end\n",
    "    end\n",
    "    status = \"a minima\"\n",
    "    if ddf(x)<0\n",
    "        status = \"a maxima\"\n",
    "    end\n",
    "    return x, status\n",
    "end"
   ]
  },
  {
   "cell_type": "code",
   "execution_count": 22,
   "metadata": {},
   "outputs": [],
   "source": [
    "g(x) = (x-4.2)^2 + 5;"
   ]
  },
  {
   "cell_type": "code",
   "execution_count": 23,
   "metadata": {},
   "outputs": [
    {
     "data": {
      "text/plain": [
       "(4.2, \"a minima\")"
      ]
     },
     "execution_count": 23,
     "metadata": {},
     "output_type": "execute_result"
    }
   ],
   "source": [
    "Newton(g,-2,0.001)"
   ]
  },
  {
   "cell_type": "code",
   "execution_count": 27,
   "metadata": {},
   "outputs": [
    {
     "data": {
      "image/svg+xml": [
       "<?xml version=\"1.0\" encoding=\"utf-8\"?>\n",
       "<svg xmlns=\"http://www.w3.org/2000/svg\" xmlns:xlink=\"http://www.w3.org/1999/xlink\" width=\"600\" height=\"400\" viewBox=\"0 0 2400 1600\">\n",
       "<defs>\n",
       "  <clipPath id=\"clip7700\">\n",
       "    <rect x=\"0\" y=\"0\" width=\"2400\" height=\"1600\"/>\n",
       "  </clipPath>\n",
       "</defs>\n",
       "<path clip-path=\"url(#clip7700)\" d=\"\n",
       "M0 1600 L2400 1600 L2400 0 L0 0  Z\n",
       "  \" fill=\"#ffffff\" fill-rule=\"evenodd\" fill-opacity=\"1\"/>\n",
       "<defs>\n",
       "  <clipPath id=\"clip7701\">\n",
       "    <rect x=\"480\" y=\"0\" width=\"1681\" height=\"1600\"/>\n",
       "  </clipPath>\n",
       "</defs>\n",
       "<path clip-path=\"url(#clip7700)\" d=\"\n",
       "M168.627 1487.47 L2352.76 1487.47 L2352.76 47.2441 L168.627 47.2441  Z\n",
       "  \" fill=\"#ffffff\" fill-rule=\"evenodd\" fill-opacity=\"1\"/>\n",
       "<defs>\n",
       "  <clipPath id=\"clip7702\">\n",
       "    <rect x=\"168\" y=\"47\" width=\"2185\" height=\"1441\"/>\n",
       "  </clipPath>\n",
       "</defs>\n",
       "<polyline clip-path=\"url(#clip7702)\" style=\"stroke:#000000; stroke-width:2; stroke-opacity:0.1; fill:none\" points=\"\n",
       "  230.442,1487.47 230.442,47.2441 \n",
       "  \"/>\n",
       "<polyline clip-path=\"url(#clip7702)\" style=\"stroke:#000000; stroke-width:2; stroke-opacity:0.1; fill:none\" points=\"\n",
       "  745.567,1487.47 745.567,47.2441 \n",
       "  \"/>\n",
       "<polyline clip-path=\"url(#clip7702)\" style=\"stroke:#000000; stroke-width:2; stroke-opacity:0.1; fill:none\" points=\"\n",
       "  1260.69,1487.47 1260.69,47.2441 \n",
       "  \"/>\n",
       "<polyline clip-path=\"url(#clip7702)\" style=\"stroke:#000000; stroke-width:2; stroke-opacity:0.1; fill:none\" points=\"\n",
       "  1775.82,1487.47 1775.82,47.2441 \n",
       "  \"/>\n",
       "<polyline clip-path=\"url(#clip7702)\" style=\"stroke:#000000; stroke-width:2; stroke-opacity:0.1; fill:none\" points=\"\n",
       "  2290.94,1487.47 2290.94,47.2441 \n",
       "  \"/>\n",
       "<polyline clip-path=\"url(#clip7702)\" style=\"stroke:#000000; stroke-width:2; stroke-opacity:0.1; fill:none\" points=\"\n",
       "  168.627,1480.68 2352.76,1480.68 \n",
       "  \"/>\n",
       "<polyline clip-path=\"url(#clip7702)\" style=\"stroke:#000000; stroke-width:2; stroke-opacity:0.1; fill:none\" points=\"\n",
       "  168.627,1141 2352.76,1141 \n",
       "  \"/>\n",
       "<polyline clip-path=\"url(#clip7702)\" style=\"stroke:#000000; stroke-width:2; stroke-opacity:0.1; fill:none\" points=\"\n",
       "  168.627,801.327 2352.76,801.327 \n",
       "  \"/>\n",
       "<polyline clip-path=\"url(#clip7702)\" style=\"stroke:#000000; stroke-width:2; stroke-opacity:0.1; fill:none\" points=\"\n",
       "  168.627,461.65 2352.76,461.65 \n",
       "  \"/>\n",
       "<polyline clip-path=\"url(#clip7702)\" style=\"stroke:#000000; stroke-width:2; stroke-opacity:0.1; fill:none\" points=\"\n",
       "  168.627,121.973 2352.76,121.973 \n",
       "  \"/>\n",
       "<polyline clip-path=\"url(#clip7700)\" style=\"stroke:#000000; stroke-width:4; stroke-opacity:1; fill:none\" points=\"\n",
       "  168.627,1487.47 2352.76,1487.47 \n",
       "  \"/>\n",
       "<polyline clip-path=\"url(#clip7700)\" style=\"stroke:#000000; stroke-width:4; stroke-opacity:1; fill:none\" points=\"\n",
       "  168.627,1487.47 168.627,47.2441 \n",
       "  \"/>\n",
       "<polyline clip-path=\"url(#clip7700)\" style=\"stroke:#000000; stroke-width:4; stroke-opacity:1; fill:none\" points=\"\n",
       "  230.442,1487.47 230.442,1470.19 \n",
       "  \"/>\n",
       "<polyline clip-path=\"url(#clip7700)\" style=\"stroke:#000000; stroke-width:4; stroke-opacity:1; fill:none\" points=\"\n",
       "  745.567,1487.47 745.567,1470.19 \n",
       "  \"/>\n",
       "<polyline clip-path=\"url(#clip7700)\" style=\"stroke:#000000; stroke-width:4; stroke-opacity:1; fill:none\" points=\"\n",
       "  1260.69,1487.47 1260.69,1470.19 \n",
       "  \"/>\n",
       "<polyline clip-path=\"url(#clip7700)\" style=\"stroke:#000000; stroke-width:4; stroke-opacity:1; fill:none\" points=\"\n",
       "  1775.82,1487.47 1775.82,1470.19 \n",
       "  \"/>\n",
       "<polyline clip-path=\"url(#clip7700)\" style=\"stroke:#000000; stroke-width:4; stroke-opacity:1; fill:none\" points=\"\n",
       "  2290.94,1487.47 2290.94,1470.19 \n",
       "  \"/>\n",
       "<polyline clip-path=\"url(#clip7700)\" style=\"stroke:#000000; stroke-width:4; stroke-opacity:1; fill:none\" points=\"\n",
       "  168.627,1480.68 194.836,1480.68 \n",
       "  \"/>\n",
       "<polyline clip-path=\"url(#clip7700)\" style=\"stroke:#000000; stroke-width:4; stroke-opacity:1; fill:none\" points=\"\n",
       "  168.627,1141 194.836,1141 \n",
       "  \"/>\n",
       "<polyline clip-path=\"url(#clip7700)\" style=\"stroke:#000000; stroke-width:4; stroke-opacity:1; fill:none\" points=\"\n",
       "  168.627,801.327 194.836,801.327 \n",
       "  \"/>\n",
       "<polyline clip-path=\"url(#clip7700)\" style=\"stroke:#000000; stroke-width:4; stroke-opacity:1; fill:none\" points=\"\n",
       "  168.627,461.65 194.836,461.65 \n",
       "  \"/>\n",
       "<polyline clip-path=\"url(#clip7700)\" style=\"stroke:#000000; stroke-width:4; stroke-opacity:1; fill:none\" points=\"\n",
       "  168.627,121.973 194.836,121.973 \n",
       "  \"/>\n",
       "<g clip-path=\"url(#clip7700)\">\n",
       "<text style=\"fill:#000000; fill-opacity:1; font-family:Arial,Helvetica Neue,Helvetica,sans-serif; font-size:48px; text-anchor:middle;\" transform=\"rotate(0, 230.442, 1541.47)\" x=\"230.442\" y=\"1541.47\">-2</text>\n",
       "</g>\n",
       "<g clip-path=\"url(#clip7700)\">\n",
       "<text style=\"fill:#000000; fill-opacity:1; font-family:Arial,Helvetica Neue,Helvetica,sans-serif; font-size:48px; text-anchor:middle;\" transform=\"rotate(0, 745.567, 1541.47)\" x=\"745.567\" y=\"1541.47\">-1</text>\n",
       "</g>\n",
       "<g clip-path=\"url(#clip7700)\">\n",
       "<text style=\"fill:#000000; fill-opacity:1; font-family:Arial,Helvetica Neue,Helvetica,sans-serif; font-size:48px; text-anchor:middle;\" transform=\"rotate(0, 1260.69, 1541.47)\" x=\"1260.69\" y=\"1541.47\">0</text>\n",
       "</g>\n",
       "<g clip-path=\"url(#clip7700)\">\n",
       "<text style=\"fill:#000000; fill-opacity:1; font-family:Arial,Helvetica Neue,Helvetica,sans-serif; font-size:48px; text-anchor:middle;\" transform=\"rotate(0, 1775.82, 1541.47)\" x=\"1775.82\" y=\"1541.47\">1</text>\n",
       "</g>\n",
       "<g clip-path=\"url(#clip7700)\">\n",
       "<text style=\"fill:#000000; fill-opacity:1; font-family:Arial,Helvetica Neue,Helvetica,sans-serif; font-size:48px; text-anchor:middle;\" transform=\"rotate(0, 2290.94, 1541.47)\" x=\"2290.94\" y=\"1541.47\">2</text>\n",
       "</g>\n",
       "<g clip-path=\"url(#clip7700)\">\n",
       "<text style=\"fill:#000000; fill-opacity:1; font-family:Arial,Helvetica Neue,Helvetica,sans-serif; font-size:48px; text-anchor:end;\" transform=\"rotate(0, 144.627, 1498.18)\" x=\"144.627\" y=\"1498.18\">-20</text>\n",
       "</g>\n",
       "<g clip-path=\"url(#clip7700)\">\n",
       "<text style=\"fill:#000000; fill-opacity:1; font-family:Arial,Helvetica Neue,Helvetica,sans-serif; font-size:48px; text-anchor:end;\" transform=\"rotate(0, 144.627, 1158.5)\" x=\"144.627\" y=\"1158.5\">-10</text>\n",
       "</g>\n",
       "<g clip-path=\"url(#clip7700)\">\n",
       "<text style=\"fill:#000000; fill-opacity:1; font-family:Arial,Helvetica Neue,Helvetica,sans-serif; font-size:48px; text-anchor:end;\" transform=\"rotate(0, 144.627, 818.827)\" x=\"144.627\" y=\"818.827\">0</text>\n",
       "</g>\n",
       "<g clip-path=\"url(#clip7700)\">\n",
       "<text style=\"fill:#000000; fill-opacity:1; font-family:Arial,Helvetica Neue,Helvetica,sans-serif; font-size:48px; text-anchor:end;\" transform=\"rotate(0, 144.627, 479.15)\" x=\"144.627\" y=\"479.15\">10</text>\n",
       "</g>\n",
       "<g clip-path=\"url(#clip7700)\">\n",
       "<text style=\"fill:#000000; fill-opacity:1; font-family:Arial,Helvetica Neue,Helvetica,sans-serif; font-size:48px; text-anchor:end;\" transform=\"rotate(0, 144.627, 139.473)\" x=\"144.627\" y=\"139.473\">20</text>\n",
       "</g>\n",
       "<polyline clip-path=\"url(#clip7702)\" style=\"stroke:#009af9; stroke-width:4; stroke-opacity:1; fill:none\" points=\"\n",
       "  230.442,1446.71 281.954,1312.07 333.467,1192.91 384.979,1088.42 436.492,997.796 488.004,920.214 539.517,854.86 591.029,800.92 642.542,757.577 694.054,724.017 \n",
       "  745.567,699.424 797.079,682.984 848.592,673.88 900.104,671.299 951.617,674.424 1003.13,682.44 1054.64,694.533 1106.15,709.886 1157.67,727.685 1209.18,747.115 \n",
       "  1260.69,767.359 1312.2,787.604 1363.72,807.034 1415.23,824.833 1466.74,840.186 1518.25,852.279 1569.77,860.295 1621.28,863.42 1672.79,860.839 1724.3,851.735 \n",
       "  1775.82,835.295 1827.33,810.702 1878.84,777.142 1930.35,733.799 1981.87,679.859 2033.38,614.505 2084.89,536.923 2136.4,446.297 2187.92,341.812 2239.43,222.653 \n",
       "  2290.94,88.0053 \n",
       "  \"/>\n",
       "<path clip-path=\"url(#clip7700)\" d=\"\n",
       "M1989.93 251.724 L2280.76 251.724 L2280.76 130.764 L1989.93 130.764  Z\n",
       "  \" fill=\"#ffffff\" fill-rule=\"evenodd\" fill-opacity=\"1\"/>\n",
       "<polyline clip-path=\"url(#clip7700)\" style=\"stroke:#000000; stroke-width:4; stroke-opacity:1; fill:none\" points=\"\n",
       "  1989.93,251.724 2280.76,251.724 2280.76,130.764 1989.93,130.764 1989.93,251.724 \n",
       "  \"/>\n",
       "<polyline clip-path=\"url(#clip7700)\" style=\"stroke:#009af9; stroke-width:4; stroke-opacity:1; fill:none\" points=\"\n",
       "  2013.93,191.244 2157.93,191.244 \n",
       "  \"/>\n",
       "<g clip-path=\"url(#clip7700)\">\n",
       "<text style=\"fill:#000000; fill-opacity:1; font-family:Arial,Helvetica Neue,Helvetica,sans-serif; font-size:48px; text-anchor:start;\" transform=\"rotate(0, 2181.93, 208.744)\" x=\"2181.93\" y=\"208.744\">y1</text>\n",
       "</g>\n",
       "</svg>\n"
      ]
     },
     "execution_count": 27,
     "metadata": {},
     "output_type": "execute_result"
    }
   ],
   "source": [
    "df(x) = ForwardDiff.derivative(f,x)\n",
    "x_vals = collect(-2:0.1:2)\n",
    "df_vals = df.(x_vals)\n",
    "plot(x_vals,df_vals)"
   ]
  },
  {
   "cell_type": "code",
   "execution_count": 24,
   "metadata": {},
   "outputs": [
    {
     "data": {
      "text/plain": [
       "(-1.3008395659742267, \"a minima\")"
      ]
     },
     "execution_count": 24,
     "metadata": {},
     "output_type": "execute_result"
    }
   ],
   "source": [
    "Newton(f,-2,0.001)"
   ]
  },
  {
   "cell_type": "code",
   "execution_count": 25,
   "metadata": {},
   "outputs": [
    {
     "data": {
      "text/plain": [
       "(-1.300839565943423, \"a minima\")"
      ]
     },
     "execution_count": 25,
     "metadata": {},
     "output_type": "execute_result"
    }
   ],
   "source": [
    "Newton(f,-1,0.001)"
   ]
  },
  {
   "cell_type": "code",
   "execution_count": 26,
   "metadata": {},
   "outputs": [
    {
     "data": {
      "text/plain": [
       "(0.16993844331135663, \"a maxima\")"
      ]
     },
     "execution_count": 26,
     "metadata": {},
     "output_type": "execute_result"
    }
   ],
   "source": [
    "Newton(f,-0.1,0.001)"
   ]
  },
  {
   "cell_type": "code",
   "execution_count": 28,
   "metadata": {},
   "outputs": [
    {
     "data": {
      "text/plain": [
       "(0.16993844330637503, \"a maxima\")"
      ]
     },
     "execution_count": 28,
     "metadata": {},
     "output_type": "execute_result"
    }
   ],
   "source": [
    "Newton(f,0.5,0.001)"
   ]
  },
  {
   "cell_type": "code",
   "execution_count": 29,
   "metadata": {},
   "outputs": [
    {
     "data": {
      "text/plain": [
       "(-1.3008395667905284, \"a minima\")"
      ]
     },
     "execution_count": 29,
     "metadata": {},
     "output_type": "execute_result"
    }
   ],
   "source": [
    "Newton(f,0.7,0.001)"
   ]
  },
  {
   "cell_type": "code",
   "execution_count": 30,
   "metadata": {},
   "outputs": [
    {
     "data": {
      "text/plain": [
       "(1.1309011226360324, \"a minima\")"
      ]
     },
     "execution_count": 30,
     "metadata": {},
     "output_type": "execute_result"
    }
   ],
   "source": [
    "Newton(f,0.9,0.001)"
   ]
  },
  {
   "cell_type": "code",
   "execution_count": 31,
   "metadata": {},
   "outputs": [
    {
     "data": {
      "text/plain": [
       "(1.1309011264327247, \"a minima\")"
      ]
     },
     "execution_count": 31,
     "metadata": {},
     "output_type": "execute_result"
    }
   ],
   "source": [
    "Newton(f,1.2,0.001)"
   ]
  },
  {
   "cell_type": "code",
   "execution_count": 32,
   "metadata": {},
   "outputs": [
    {
     "data": {
      "text/plain": [
       "(1.1309011439707095, \"a minima\")"
      ]
     },
     "execution_count": 32,
     "metadata": {},
     "output_type": "execute_result"
    }
   ],
   "source": [
    "Newton(f,2.7,0.001)"
   ]
  },
  {
   "cell_type": "markdown",
   "metadata": {},
   "source": [
    "Notice that the optima Newton's method converges havily depends on the initial point."
   ]
  },
  {
   "cell_type": "markdown",
   "metadata": {},
   "source": [
    "## Golden Section Search"
   ]
  },
  {
   "cell_type": "markdown",
   "metadata": {},
   "source": [
    "A decent alternative for non-differentiable $f$."
   ]
  },
  {
   "cell_type": "markdown",
   "metadata": {},
   "source": [
    "# Multivariable Strategies"
   ]
  },
  {
   "cell_type": "code",
   "execution_count": 80,
   "metadata": {},
   "outputs": [
    {
     "data": {
      "text/plain": [
       "f (generic function with 2 methods)"
      ]
     },
     "execution_count": 80,
     "metadata": {},
     "output_type": "execute_result"
    }
   ],
   "source": [
    "f(x) = x'*(x.^3 .- 1.5) - 3*x'*x + 4"
   ]
  },
  {
   "cell_type": "code",
   "execution_count": 81,
   "metadata": {},
   "outputs": [
    {
     "data": {
      "image/svg+xml": [
       "<?xml version=\"1.0\" encoding=\"utf-8\"?>\n",
       "<svg xmlns=\"http://www.w3.org/2000/svg\" xmlns:xlink=\"http://www.w3.org/1999/xlink\" width=\"600\" height=\"400\" viewBox=\"0 0 2400 1600\">\n",
       "<defs>\n",
       "  <clipPath id=\"clip7700\">\n",
       "    <rect x=\"0\" y=\"0\" width=\"2400\" height=\"1600\"/>\n",
       "  </clipPath>\n",
       "</defs>\n",
       "<path clip-path=\"url(#clip7700)\" d=\"\n",
       "M0 1600 L2400 1600 L2400 0 L0 0  Z\n",
       "  \" fill=\"#ffffff\" fill-rule=\"evenodd\" fill-opacity=\"1\"/>\n",
       "<defs>\n",
       "  <clipPath id=\"clip7701\">\n",
       "    <rect x=\"480\" y=\"0\" width=\"1681\" height=\"1600\"/>\n",
       "  </clipPath>\n",
       "</defs>\n",
       "<path clip-path=\"url(#clip7700)\" d=\"\n",
       "M141.865 1487.47 L2112.76 1487.47 L2112.76 47.2441 L141.865 47.2441  Z\n",
       "  \" fill=\"#ffffff\" fill-rule=\"evenodd\" fill-opacity=\"1\"/>\n",
       "<defs>\n",
       "  <clipPath id=\"clip7702\">\n",
       "    <rect x=\"141\" y=\"47\" width=\"1972\" height=\"1441\"/>\n",
       "  </clipPath>\n",
       "</defs>\n",
       "<polyline clip-path=\"url(#clip7702)\" style=\"stroke:#000000; stroke-width:2; stroke-opacity:0.1; fill:none\" points=\"\n",
       "  141.865,1487.47 141.865,47.2441 \n",
       "  \"/>\n",
       "<polyline clip-path=\"url(#clip7702)\" style=\"stroke:#000000; stroke-width:2; stroke-opacity:0.1; fill:none\" points=\"\n",
       "  470.346,1487.47 470.346,47.2441 \n",
       "  \"/>\n",
       "<polyline clip-path=\"url(#clip7702)\" style=\"stroke:#000000; stroke-width:2; stroke-opacity:0.1; fill:none\" points=\"\n",
       "  798.828,1487.47 798.828,47.2441 \n",
       "  \"/>\n",
       "<polyline clip-path=\"url(#clip7702)\" style=\"stroke:#000000; stroke-width:2; stroke-opacity:0.1; fill:none\" points=\"\n",
       "  1127.31,1487.47 1127.31,47.2441 \n",
       "  \"/>\n",
       "<polyline clip-path=\"url(#clip7702)\" style=\"stroke:#000000; stroke-width:2; stroke-opacity:0.1; fill:none\" points=\"\n",
       "  1455.79,1487.47 1455.79,47.2441 \n",
       "  \"/>\n",
       "<polyline clip-path=\"url(#clip7702)\" style=\"stroke:#000000; stroke-width:2; stroke-opacity:0.1; fill:none\" points=\"\n",
       "  1784.27,1487.47 1784.27,47.2441 \n",
       "  \"/>\n",
       "<polyline clip-path=\"url(#clip7702)\" style=\"stroke:#000000; stroke-width:2; stroke-opacity:0.1; fill:none\" points=\"\n",
       "  2112.76,1487.47 2112.76,47.2441 \n",
       "  \"/>\n",
       "<polyline clip-path=\"url(#clip7702)\" style=\"stroke:#000000; stroke-width:2; stroke-opacity:0.1; fill:none\" points=\"\n",
       "  141.865,1487.47 2112.76,1487.47 \n",
       "  \"/>\n",
       "<polyline clip-path=\"url(#clip7702)\" style=\"stroke:#000000; stroke-width:2; stroke-opacity:0.1; fill:none\" points=\"\n",
       "  141.865,1247.44 2112.76,1247.44 \n",
       "  \"/>\n",
       "<polyline clip-path=\"url(#clip7702)\" style=\"stroke:#000000; stroke-width:2; stroke-opacity:0.1; fill:none\" points=\"\n",
       "  141.865,1007.4 2112.76,1007.4 \n",
       "  \"/>\n",
       "<polyline clip-path=\"url(#clip7702)\" style=\"stroke:#000000; stroke-width:2; stroke-opacity:0.1; fill:none\" points=\"\n",
       "  141.865,767.359 2112.76,767.359 \n",
       "  \"/>\n",
       "<polyline clip-path=\"url(#clip7702)\" style=\"stroke:#000000; stroke-width:2; stroke-opacity:0.1; fill:none\" points=\"\n",
       "  141.865,527.321 2112.76,527.321 \n",
       "  \"/>\n",
       "<polyline clip-path=\"url(#clip7702)\" style=\"stroke:#000000; stroke-width:2; stroke-opacity:0.1; fill:none\" points=\"\n",
       "  141.865,287.283 2112.76,287.283 \n",
       "  \"/>\n",
       "<polyline clip-path=\"url(#clip7702)\" style=\"stroke:#000000; stroke-width:2; stroke-opacity:0.1; fill:none\" points=\"\n",
       "  141.865,47.2441 2112.76,47.2441 \n",
       "  \"/>\n",
       "<polyline clip-path=\"url(#clip7700)\" style=\"stroke:#000000; stroke-width:4; stroke-opacity:1; fill:none\" points=\"\n",
       "  141.865,1487.47 2112.76,1487.47 \n",
       "  \"/>\n",
       "<polyline clip-path=\"url(#clip7700)\" style=\"stroke:#000000; stroke-width:4; stroke-opacity:1; fill:none\" points=\"\n",
       "  141.865,1487.47 141.865,47.2441 \n",
       "  \"/>\n",
       "<polyline clip-path=\"url(#clip7700)\" style=\"stroke:#000000; stroke-width:4; stroke-opacity:1; fill:none\" points=\"\n",
       "  141.865,1487.47 141.865,1470.19 \n",
       "  \"/>\n",
       "<polyline clip-path=\"url(#clip7700)\" style=\"stroke:#000000; stroke-width:4; stroke-opacity:1; fill:none\" points=\"\n",
       "  470.346,1487.47 470.346,1470.19 \n",
       "  \"/>\n",
       "<polyline clip-path=\"url(#clip7700)\" style=\"stroke:#000000; stroke-width:4; stroke-opacity:1; fill:none\" points=\"\n",
       "  798.828,1487.47 798.828,1470.19 \n",
       "  \"/>\n",
       "<polyline clip-path=\"url(#clip7700)\" style=\"stroke:#000000; stroke-width:4; stroke-opacity:1; fill:none\" points=\"\n",
       "  1127.31,1487.47 1127.31,1470.19 \n",
       "  \"/>\n",
       "<polyline clip-path=\"url(#clip7700)\" style=\"stroke:#000000; stroke-width:4; stroke-opacity:1; fill:none\" points=\"\n",
       "  1455.79,1487.47 1455.79,1470.19 \n",
       "  \"/>\n",
       "<polyline clip-path=\"url(#clip7700)\" style=\"stroke:#000000; stroke-width:4; stroke-opacity:1; fill:none\" points=\"\n",
       "  1784.27,1487.47 1784.27,1470.19 \n",
       "  \"/>\n",
       "<polyline clip-path=\"url(#clip7700)\" style=\"stroke:#000000; stroke-width:4; stroke-opacity:1; fill:none\" points=\"\n",
       "  2112.76,1487.47 2112.76,1470.19 \n",
       "  \"/>\n",
       "<polyline clip-path=\"url(#clip7700)\" style=\"stroke:#000000; stroke-width:4; stroke-opacity:1; fill:none\" points=\"\n",
       "  141.865,1487.47 165.515,1487.47 \n",
       "  \"/>\n",
       "<polyline clip-path=\"url(#clip7700)\" style=\"stroke:#000000; stroke-width:4; stroke-opacity:1; fill:none\" points=\"\n",
       "  141.865,1247.44 165.515,1247.44 \n",
       "  \"/>\n",
       "<polyline clip-path=\"url(#clip7700)\" style=\"stroke:#000000; stroke-width:4; stroke-opacity:1; fill:none\" points=\"\n",
       "  141.865,1007.4 165.515,1007.4 \n",
       "  \"/>\n",
       "<polyline clip-path=\"url(#clip7700)\" style=\"stroke:#000000; stroke-width:4; stroke-opacity:1; fill:none\" points=\"\n",
       "  141.865,767.359 165.515,767.359 \n",
       "  \"/>\n",
       "<polyline clip-path=\"url(#clip7700)\" style=\"stroke:#000000; stroke-width:4; stroke-opacity:1; fill:none\" points=\"\n",
       "  141.865,527.321 165.515,527.321 \n",
       "  \"/>\n",
       "<polyline clip-path=\"url(#clip7700)\" style=\"stroke:#000000; stroke-width:4; stroke-opacity:1; fill:none\" points=\"\n",
       "  141.865,287.283 165.515,287.283 \n",
       "  \"/>\n",
       "<polyline clip-path=\"url(#clip7700)\" style=\"stroke:#000000; stroke-width:4; stroke-opacity:1; fill:none\" points=\"\n",
       "  141.865,47.2441 165.515,47.2441 \n",
       "  \"/>\n",
       "<g clip-path=\"url(#clip7700)\">\n",
       "<text style=\"fill:#000000; fill-opacity:1; font-family:Arial,Helvetica Neue,Helvetica,sans-serif; font-size:48px; text-anchor:middle;\" transform=\"rotate(0, 141.865, 1541.47)\" x=\"141.865\" y=\"1541.47\">-3</text>\n",
       "</g>\n",
       "<g clip-path=\"url(#clip7700)\">\n",
       "<text style=\"fill:#000000; fill-opacity:1; font-family:Arial,Helvetica Neue,Helvetica,sans-serif; font-size:48px; text-anchor:middle;\" transform=\"rotate(0, 470.346, 1541.47)\" x=\"470.346\" y=\"1541.47\">-2</text>\n",
       "</g>\n",
       "<g clip-path=\"url(#clip7700)\">\n",
       "<text style=\"fill:#000000; fill-opacity:1; font-family:Arial,Helvetica Neue,Helvetica,sans-serif; font-size:48px; text-anchor:middle;\" transform=\"rotate(0, 798.828, 1541.47)\" x=\"798.828\" y=\"1541.47\">-1</text>\n",
       "</g>\n",
       "<g clip-path=\"url(#clip7700)\">\n",
       "<text style=\"fill:#000000; fill-opacity:1; font-family:Arial,Helvetica Neue,Helvetica,sans-serif; font-size:48px; text-anchor:middle;\" transform=\"rotate(0, 1127.31, 1541.47)\" x=\"1127.31\" y=\"1541.47\">0</text>\n",
       "</g>\n",
       "<g clip-path=\"url(#clip7700)\">\n",
       "<text style=\"fill:#000000; fill-opacity:1; font-family:Arial,Helvetica Neue,Helvetica,sans-serif; font-size:48px; text-anchor:middle;\" transform=\"rotate(0, 1455.79, 1541.47)\" x=\"1455.79\" y=\"1541.47\">1</text>\n",
       "</g>\n",
       "<g clip-path=\"url(#clip7700)\">\n",
       "<text style=\"fill:#000000; fill-opacity:1; font-family:Arial,Helvetica Neue,Helvetica,sans-serif; font-size:48px; text-anchor:middle;\" transform=\"rotate(0, 1784.27, 1541.47)\" x=\"1784.27\" y=\"1541.47\">2</text>\n",
       "</g>\n",
       "<g clip-path=\"url(#clip7700)\">\n",
       "<text style=\"fill:#000000; fill-opacity:1; font-family:Arial,Helvetica Neue,Helvetica,sans-serif; font-size:48px; text-anchor:middle;\" transform=\"rotate(0, 2112.76, 1541.47)\" x=\"2112.76\" y=\"1541.47\">3</text>\n",
       "</g>\n",
       "<g clip-path=\"url(#clip7700)\">\n",
       "<text style=\"fill:#000000; fill-opacity:1; font-family:Arial,Helvetica Neue,Helvetica,sans-serif; font-size:48px; text-anchor:end;\" transform=\"rotate(0, 117.865, 1504.97)\" x=\"117.865\" y=\"1504.97\">-3</text>\n",
       "</g>\n",
       "<g clip-path=\"url(#clip7700)\">\n",
       "<text style=\"fill:#000000; fill-opacity:1; font-family:Arial,Helvetica Neue,Helvetica,sans-serif; font-size:48px; text-anchor:end;\" transform=\"rotate(0, 117.865, 1264.94)\" x=\"117.865\" y=\"1264.94\">-2</text>\n",
       "</g>\n",
       "<g clip-path=\"url(#clip7700)\">\n",
       "<text style=\"fill:#000000; fill-opacity:1; font-family:Arial,Helvetica Neue,Helvetica,sans-serif; font-size:48px; text-anchor:end;\" transform=\"rotate(0, 117.865, 1024.9)\" x=\"117.865\" y=\"1024.9\">-1</text>\n",
       "</g>\n",
       "<g clip-path=\"url(#clip7700)\">\n",
       "<text style=\"fill:#000000; fill-opacity:1; font-family:Arial,Helvetica Neue,Helvetica,sans-serif; font-size:48px; text-anchor:end;\" transform=\"rotate(0, 117.865, 784.859)\" x=\"117.865\" y=\"784.859\">0</text>\n",
       "</g>\n",
       "<g clip-path=\"url(#clip7700)\">\n",
       "<text style=\"fill:#000000; fill-opacity:1; font-family:Arial,Helvetica Neue,Helvetica,sans-serif; font-size:48px; text-anchor:end;\" transform=\"rotate(0, 117.865, 544.821)\" x=\"117.865\" y=\"544.821\">1</text>\n",
       "</g>\n",
       "<g clip-path=\"url(#clip7700)\">\n",
       "<text style=\"fill:#000000; fill-opacity:1; font-family:Arial,Helvetica Neue,Helvetica,sans-serif; font-size:48px; text-anchor:end;\" transform=\"rotate(0, 117.865, 304.783)\" x=\"117.865\" y=\"304.783\">2</text>\n",
       "</g>\n",
       "<g clip-path=\"url(#clip7700)\">\n",
       "<text style=\"fill:#000000; fill-opacity:1; font-family:Arial,Helvetica Neue,Helvetica,sans-serif; font-size:48px; text-anchor:end;\" transform=\"rotate(0, 117.865, 64.7441)\" x=\"117.865\" y=\"64.7441\">3</text>\n",
       "</g>\n",
       "<polyline clip-path=\"url(#clip7702)\" style=\"stroke:#f2e763; stroke-width:4; stroke-opacity:1; fill:none\" points=\"\n",
       "  171.604,1487.47 141.865,1465.74 \n",
       "  \"/>\n",
       "<polyline clip-path=\"url(#clip7702)\" style=\"stroke:#f8c933; stroke-width:4; stroke-opacity:1; fill:none\" points=\"\n",
       "  204.625,1487.47 174.713,1468.01 168.494,1463.47 141.865,1441.61 \n",
       "  \"/>\n",
       "<polyline clip-path=\"url(#clip7702)\" style=\"stroke:#fbaa0f; stroke-width:4; stroke-opacity:1; fill:none\" points=\"\n",
       "  141.865,1414.17 143.091,1415.46 168.99,1439.47 174.713,1444.16 201.133,1463.47 207.561,1467.65 240.409,1486.58 242.176,1487.47 \n",
       "  \"/>\n",
       "<polyline clip-path=\"url(#clip7702)\" style=\"stroke:#f88c0a; stroke-width:4; stroke-opacity:1; fill:none\" points=\"\n",
       "  286.694,1487.47 273.257,1481.51 240.409,1464.85 238.021,1463.47 207.561,1443.76 201.689,1439.47 174.713,1417.21 172.83,1415.46 150.026,1391.46 141.865,1381.64 \n",
       "  \n",
       "  \"/>\n",
       "<polyline clip-path=\"url(#clip7702)\" style=\"stroke:#f0711e; stroke-width:4; stroke-opacity:1; fill:none\" points=\"\n",
       "  141.865,1342.46 142.482,1343.45 159.813,1367.46 174.713,1385.38 180.387,1391.46 206.003,1415.46 207.561,1416.75 238.65,1439.47 240.409,1440.61 273.257,1459.32 \n",
       "  281.575,1463.47 306.105,1474.36 338.954,1487.02 340.311,1487.47 \n",
       "  \"/>\n",
       "<polyline clip-path=\"url(#clip7702)\" style=\"stroke:#e25832; stroke-width:4; stroke-opacity:1; fill:none\" points=\"\n",
       "  412.794,1487.47 404.65,1485.52 371.802,1476.21 338.954,1465.29 334.231,1463.47 306.105,1451.29 282.39,1439.47 273.257,1434.33 243.943,1415.46 240.409,1412.88 \n",
       "  214.597,1391.46 207.561,1384.79 191.381,1367.46 174.713,1346.9 172.221,1343.45 157.287,1319.45 144.536,1295.44 141.865,1289.49 \n",
       "  \"/>\n",
       "<polyline clip-path=\"url(#clip7702)\" style=\"stroke:#d04544; stroke-width:4; stroke-opacity:1; fill:none\" points=\"\n",
       "  141.865,1202.35 147.115,1223.43 154.511,1247.44 163.502,1271.44 174.275,1295.44 174.713,1296.27 188.543,1319.45 205.318,1343.45 207.561,1346.22 227.01,1367.46 \n",
       "  240.409,1380.17 253.931,1391.46 273.257,1405.58 288.713,1415.46 306.105,1425.25 335.169,1439.47 338.954,1441.11 371.802,1453.36 403.522,1463.47 404.65,1463.79 \n",
       "  437.498,1471.66 470.346,1478.23 503.195,1483.64 532.048,1487.47 \n",
       "  \"/>\n",
       "<polyline clip-path=\"url(#clip7702)\" style=\"stroke:#ba3655; stroke-width:4; stroke-opacity:1; fill:none\" points=\"\n",
       "  1554.34,1487.47 1521.49,1487.15 1488.64,1486.51 1455.79,1485.63 1422.94,1484.59 1390.1,1483.44 1357.25,1482.25 1324.4,1481.06 1291.55,1479.91 1258.7,1478.85 \n",
       "  1225.85,1477.9 1193.01,1477.08 1160.16,1476.42 1127.31,1475.92 1094.46,1475.59 1061.61,1475.42 1028.77,1475.4 995.917,1475.52 963.069,1475.75 930.221,1476.06 \n",
       "  897.373,1476.42 864.525,1476.78 831.677,1477.1 798.828,1477.31 765.98,1477.35 733.132,1477.16 700.284,1476.65 667.436,1475.75 634.587,1474.36 601.739,1472.39 \n",
       "  568.891,1469.73 536.043,1466.27 514.963,1463.47 503.195,1461.71 470.346,1455.64 437.498,1448.26 404.825,1439.47 404.65,1439.41 371.802,1427.6 343.009,1415.46 \n",
       "  338.954,1413.52 306.105,1395.28 300.13,1391.46 273.257,1371.82 268.029,1367.46 243.065,1343.45 240.409,1340.49 223.806,1319.45 207.634,1295.44 207.561,1295.32 \n",
       "  195.524,1271.44 185.425,1247.44 177.118,1223.43 174.713,1214.83 170.877,1199.43 166.148,1175.42 162.509,1151.42 159.809,1127.42 157.907,1103.41 156.671,1079.41 \n",
       "  155.979,1055.41 155.715,1031.4 155.775,1007.4 156.064,983.394 156.495,959.39 156.99,935.386 157.482,911.382 157.911,887.379 158.226,863.375 158.388,839.371 \n",
       "  158.363,815.367 158.129,791.363 157.673,767.359 156.99,743.356 156.085,719.352 154.971,695.348 153.67,671.344 152.216,647.34 150.648,623.336 149.017,599.333 \n",
       "  147.383,575.329 145.813,551.325 144.385,527.321 143.186,503.317 142.311,479.313 141.865,455.309 \n",
       "  \"/>\n",
       "<polyline clip-path=\"url(#clip7702)\" style=\"stroke:#ba3655; stroke-width:4; stroke-opacity:1; fill:none\" points=\"\n",
       "  141.865,455.309 141.961,431.306 142.724,407.302 144.285,383.298 146.785,359.294 150.375,335.29 155.214,311.286 161.47,287.283 169.322,263.279 174.713,249.847 \n",
       "  179.479,239.275 192.522,215.271 207.561,191.975 208.077,191.267 228.614,167.263 240.409,155.397 254.112,143.259 273.257,128.533 287.044,119.256 306.105,108.031 \n",
       "  331.089,95.2518 338.954,91.7079 371.802,78.9528 395.042,71.2479 404.65,68.4245 437.498,60.2693 470.346,53.4633 503.195,47.8649 507.701,47.2441 \n",
       "  \"/>\n",
       "<polyline clip-path=\"url(#clip7702)\" style=\"stroke:#d04544; stroke-width:4; stroke-opacity:1; fill:none\" points=\"\n",
       "  400.117,47.2441 371.802,55.5645 338.954,66.8696 327.992,71.2479 306.105,81.1106 278.846,95.2518 273.257,98.5428 242.482,119.256 240.409,120.85 214.756,143.259 \n",
       "  207.561,150.497 192.801,167.263 174.713,191.136 174.624,191.267 160.829,215.271 149.217,239.275 141.865,257.594 \n",
       "  \"/>\n",
       "<polyline clip-path=\"url(#clip7702)\" style=\"stroke:#e25832; stroke-width:4; stroke-opacity:1; fill:none\" points=\"\n",
       "  141.865,196.523 144.885,191.267 161.077,167.263 174.713,149.865 180.528,143.259 204.864,119.256 207.561,116.928 235.919,95.2518 240.409,92.2284 273.257,72.7513 \n",
       "  276.155,71.2479 306.105,57.477 331.726,47.2441 \n",
       "  \"/>\n",
       "<polyline clip-path=\"url(#clip7702)\" style=\"stroke:#f0711e; stroke-width:4; stroke-opacity:1; fill:none\" points=\"\n",
       "  279.399,47.2441 273.257,50.068 240.409,67.331 233.846,71.2479 207.561,88.9485 199.271,95.2518 174.713,116.448 171.816,119.256 150.151,143.259 141.865,153.832 \n",
       "  \n",
       "  \"/>\n",
       "<polyline clip-path=\"url(#clip7702)\" style=\"stroke:#f88c0a; stroke-width:4; stroke-opacity:1; fill:none\" points=\"\n",
       "  141.865,119.491 142.077,119.256 166.837,95.2518 174.713,88.5254 197.435,71.2479 207.561,64.4239 236.345,47.2441 \n",
       "  \"/>\n",
       "<polyline clip-path=\"url(#clip7702)\" style=\"stroke:#fbaa0f; stroke-width:4; stroke-opacity:1; fill:none\" points=\"\n",
       "  199.648,47.2441 174.713,64.0489 165.203,71.2479 141.865,91.1808 \n",
       "  \"/>\n",
       "<polyline clip-path=\"url(#clip7702)\" style=\"stroke:#f8c933; stroke-width:4; stroke-opacity:1; fill:none\" points=\"\n",
       "  141.865,66.4025 167.173,47.2441 \n",
       "  \"/>\n",
       "<polyline clip-path=\"url(#clip7702)\" style=\"stroke:#a12b61; stroke-width:4; stroke-opacity:1; fill:none\" points=\"\n",
       "  1412.85,47.2441 1390.1,48.0675 1357.25,49.3048 1324.4,50.5392 1291.55,51.7259 1258.7,52.8269 1225.85,53.8113 1193.01,54.6548 1160.16,55.3403 1127.31,55.8573 \n",
       "  1094.46,56.2025 1061.61,56.3793 1028.77,56.3979 995.917,56.2758 963.069,56.037 930.221,55.7125 897.373,55.3403 864.525,54.9652 831.677,54.639 798.828,54.4203 \n",
       "  765.98,54.3746 733.132,54.5743 700.284,55.0989 667.436,56.0344 634.587,57.474 601.739,59.5177 568.891,62.2725 536.043,65.8521 503.195,70.3774 498.087,71.2479 \n",
       "  470.346,76.5821 437.498,84.261 404.65,93.4621 399.252,95.2518 371.802,105.582 340.779,119.256 338.954,120.175 306.105,139.377 300.336,143.259 273.257,164.245 \n",
       "  269.85,167.263 246.526,191.267 240.409,198.657 228.299,215.271 213.571,239.275 207.561,251.081 202.062,263.279 193.242,287.283 186.215,311.286 180.78,335.29 \n",
       "  176.747,359.294 174.713,376.685 174.024,383.298 172.463,407.302 171.7,431.306 171.604,455.309 172.05,479.313 172.925,503.317 174.124,527.321 174.713,537.214 \n",
       "  175.656,551.325 177.419,575.329 179.255,599.333 181.087,623.336 182.847,647.34 184.481,671.344 185.942,695.348 187.194,719.352 188.211,743.356 188.978,767.359 \n",
       "  189.49,791.363 189.752,815.367 189.78,839.371 189.599,863.375 189.244,887.379 188.763,911.382 188.211,935.386 187.654,959.39 187.17,983.394 186.846,1007.4 \n",
       "  186.778,1031.4 187.074,1055.41 187.852,1079.41 189.241,1103.41 191.377,1127.42 194.409,1151.42 198.497,1175.42 203.808,1199.43 207.561,1212.84 210.906,1223.43 \n",
       "  220.286,1247.44 231.689,1271.44 240.409,1286.76 246.023,1295.44 264.39,1319.45 273.257,1329.34 287.71,1343.45 306.105,1358.93 317.776,1367.46 338.954,1380.9 \n",
       "  358.262,1391.46 371.802,1397.94 404.65,1411.36 416.534,1415.46 437.498,1421.84 470.346,1430.17 503.195,1437.02 517.686,1439.47 536.043,1442.21 568.891,1446.09 \n",
       "  601.739,1449.08 634.587,1451.29 667.436,1452.85 700.284,1453.87 733.132,1454.44 765.98,1454.65 798.828,1454.6 831.677,1454.37 864.525,1454.01 897.373,1453.61 \n",
       "  930.221,1453.2 963.069,1452.85 995.917,1452.59 1028.77,1452.46 1061.61,1452.48 1094.46,1452.67 1127.31,1453.05 1160.16,1453.61 1193.01,1454.35 1225.85,1455.27 \n",
       "  1258.7,1456.33 1291.55,1457.53 1324.4,1458.81 1357.25,1460.15 1390.1,1461.49 1422.94,1462.78 1442.25,1463.47 1455.79,1463.9 1488.64,1464.78 1521.49,1465.42 \n",
       "  1554.34,1465.74 1587.18,1465.67 1620.03,1465.11 1652.88,1463.97 1661.93,1463.47 1685.73,1461.98 1718.58,1459.04 1751.43,1455.07 1784.27,1449.93 1817.12,1443.49 \n",
       "  1833.81,1439.47 1849.97,1435.08 1882.82,1424.31 1905.55,1415.46 1915.67,1410.99 1948.51,1393.95 1952.65,1391.46 1981.36,1371.67 1986.68,1367.46 2012.95,1343.45 \n",
       "  2014.21,1342.12 2032.92,1319.45 2047.06,1299.39 2049.51,1295.44 2062.1,1271.44 2072.61,1247.44 2079.91,1227.17 2081.1,1223.43 2087.29,1199.43 2092.19,1175.42 \n",
       "  2095.96,1151.42 2098.76,1127.42 2100.73,1103.41 2102.01,1079.41 2102.72,1055.41 2103,1031.4 2102.94,1007.4 2102.64,983.394 2102.19,959.39 2101.68,935.386 \n",
       "  2101.17,911.382 2100.72,887.379 2100.4,863.375 2100.23,839.371 2100.25,815.367 2100.5,791.363 2100.97,767.359 2101.68,743.356 2102.61,719.352 2103.77,695.348 \n",
       "  2105.12,671.344 2106.62,647.34 2108.25,623.336 2109.94,599.333 2111.63,575.329 2112.76,558.698 \n",
       "  \"/>\n",
       "<polyline clip-path=\"url(#clip7702)\" style=\"stroke:#a12b61; stroke-width:4; stroke-opacity:1; fill:none\" points=\"\n",
       "  2112.76,363.996 2112.25,359.294 2108.53,335.29 2103.52,311.286 2097.04,287.283 2088.9,263.279 2079.91,241.645 2078.8,239.275 2065.22,215.271 2049.1,191.267 \n",
       "  2047.06,188.679 2027.89,167.263 2014.21,154.104 2001.33,143.259 1981.36,128.672 1966.52,119.256 1948.51,109.257 1919.21,95.2518 1915.67,93.7604 1882.82,81.9782 \n",
       "  1849.97,72.0605 1846.73,71.2479 1817.12,64.6752 1784.27,58.7314 1751.43,53.9952 1718.58,50.3322 1685.73,47.6148 1679.3,47.2441 \n",
       "  \"/>\n",
       "<polyline clip-path=\"url(#clip7702)\" style=\"stroke:#ba3655; stroke-width:4; stroke-opacity:1; fill:none\" points=\"\n",
       "  1840.01,47.2441 1849.97,49.4557 1882.82,58.246 1915.67,68.6889 1922.52,71.2479 1948.51,82.1903 1975.22,95.2518 1981.36,98.6642 2013.57,119.256 2014.21,119.727 \n",
       "  2042.39,143.259 2047.06,147.751 2064.93,167.263 2079.91,186.256 2083.41,191.267 2097.7,215.271 2109.73,239.275 2112.76,246.554 \n",
       "  \"/>\n",
       "<polyline clip-path=\"url(#clip7702)\" style=\"stroke:#d04544; stroke-width:4; stroke-opacity:1; fill:none\" points=\"\n",
       "  2112.76,189.176 2097.44,167.263 2079.91,145.665 2077.7,143.259 2052.38,119.256 2047.06,114.841 2020.25,95.2518 2014.21,91.3626 1981.36,72.8583 1978.07,71.2479 \n",
       "  1948.51,58.434 1918.53,47.2441 \n",
       "  \"/>\n",
       "<polyline clip-path=\"url(#clip7702)\" style=\"stroke:#e25832; stroke-width:4; stroke-opacity:1; fill:none\" points=\"\n",
       "  1974.63,47.2441 1981.36,50.1628 2014.21,66.5636 2022.42,71.2479 2047.06,87.1099 2058.2,95.2518 2079.91,113.257 2086.32,119.256 2108.76,143.259 2112.76,148.179 \n",
       "  \n",
       "  \"/>\n",
       "<polyline clip-path=\"url(#clip7702)\" style=\"stroke:#f0711e; stroke-width:4; stroke-opacity:1; fill:none\" points=\"\n",
       "  2112.76,115.166 2091.48,95.2518 2079.91,85.7139 2060.11,71.2479 2047.06,62.7943 2019.81,47.2441 \n",
       "  \"/>\n",
       "<polyline clip-path=\"url(#clip7702)\" style=\"stroke:#f88c0a; stroke-width:4; stroke-opacity:1; fill:none\" points=\"\n",
       "  2057.81,47.2441 2079.91,61.557 2093.17,71.2479 2112.76,87.3966 \n",
       "  \"/>\n",
       "<polyline clip-path=\"url(#clip7702)\" style=\"stroke:#fbaa0f; stroke-width:4; stroke-opacity:1; fill:none\" points=\"\n",
       "  2112.76,63.0484 2091.13,47.2441 \n",
       "  \"/>\n",
       "<polyline clip-path=\"url(#clip7702)\" style=\"stroke:#ba3655; stroke-width:4; stroke-opacity:1; fill:none\" points=\"\n",
       "  2112.76,1220.14 2111.91,1223.43 2104.25,1247.44 2094.93,1271.44 2083.77,1295.44 2079.91,1302.47 2069.36,1319.45 2051.91,1343.45 2047.06,1349.2 2029.57,1367.46 \n",
       "  2014.21,1381.38 2001.52,1391.46 1981.36,1405.45 1964.75,1415.46 1948.51,1424.08 1915.67,1439.09 1914.7,1439.47 1882.82,1450.46 1849.97,1459.99 1835.5,1463.47 \n",
       "  1817.12,1467.41 1784.27,1473.15 1751.43,1477.72 1718.58,1481.26 1685.73,1483.88 1652.88,1485.71 1620.03,1486.85 1587.18,1487.4 1554.34,1487.47 \n",
       "  \"/>\n",
       "<polyline clip-path=\"url(#clip7702)\" style=\"stroke:#d04544; stroke-width:4; stroke-opacity:1; fill:none\" points=\"\n",
       "  1824.9,1487.47 1849.97,1482.1 1882.82,1473.62 1915.67,1463.54 1915.85,1463.47 1948.51,1450.25 1971.46,1439.47 1981.36,1434.21 2012.03,1415.46 2014.21,1413.95 \n",
       "  2042.56,1391.46 2047.06,1387.38 2066.41,1367.46 2079.91,1351.46 2085.9,1343.45 2101.37,1319.45 2112.76,1298.76 \n",
       "  \"/>\n",
       "<polyline clip-path=\"url(#clip7702)\" style=\"stroke:#e25832; stroke-width:4; stroke-opacity:1; fill:none\" points=\"\n",
       "  2112.76,1348.73 2098.75,1367.46 2079.91,1389.34 2077.85,1391.46 2051.2,1415.46 2047.06,1418.74 2017.4,1439.47 2014.21,1441.44 1981.36,1459.22 1972.32,1463.47 \n",
       "  1948.51,1473.44 1915.67,1485.27 1908.47,1487.47 \n",
       "  \"/>\n",
       "<polyline clip-path=\"url(#clip7702)\" style=\"stroke:#f0711e; stroke-width:4; stroke-opacity:1; fill:none\" points=\"\n",
       "  1966.89,1487.47 1981.36,1481.42 2014.21,1465.59 2018.05,1463.47 2047.06,1445.52 2055.69,1439.47 2079.91,1420.26 2085.27,1415.46 2108.89,1391.46 2112.76,1386.97 \n",
       "  \n",
       "  \"/>\n",
       "<polyline clip-path=\"url(#clip7702)\" style=\"stroke:#f88c0a; stroke-width:4; stroke-opacity:1; fill:none\" points=\"\n",
       "  2112.76,1418.43 2089.25,1439.47 2079.91,1446.87 2056.26,1463.47 2047.06,1469.23 2014.21,1487.32 2013.89,1487.47 \n",
       "  \"/>\n",
       "<polyline clip-path=\"url(#clip7702)\" style=\"stroke:#fbaa0f; stroke-width:4; stroke-opacity:1; fill:none\" points=\"\n",
       "  2052.63,1487.47 2079.91,1470.42 2089.76,1463.47 2112.76,1445.25 \n",
       "  \"/>\n",
       "<polyline clip-path=\"url(#clip7702)\" style=\"stroke:#f8c933; stroke-width:4; stroke-opacity:1; fill:none\" points=\"\n",
       "  2086.54,1487.47 2112.76,1468.98 \n",
       "  \"/>\n",
       "<polyline clip-path=\"url(#clip7702)\" style=\"stroke:#88216a; stroke-width:4; stroke-opacity:1; fill:none\" points=\"\n",
       "  1948.51,1357.18 1933.46,1367.46 1915.67,1378.01 1889.04,1391.46 1882.82,1394.21 1849.97,1406.43 1820.72,1415.46 1817.12,1416.44 1784.27,1423.72 1751.43,1429.52 \n",
       "  1718.58,1434 1685.73,1437.33 1655.42,1439.47 1652.88,1439.63 1620.03,1440.91 1587.18,1441.53 1554.34,1441.61 1521.49,1441.25 1488.64,1440.53 1455.79,1439.54 \n",
       "  1453.65,1439.47 1422.94,1438.23 1390.1,1436.77 1357.25,1435.26 1324.4,1433.75 1291.55,1432.3 1258.7,1430.95 1225.85,1429.74 1193.01,1428.71 1160.16,1427.87 \n",
       "  1127.31,1427.24 1094.46,1426.81 1061.61,1426.6 1028.77,1426.58 995.917,1426.73 963.069,1427.02 930.221,1427.41 897.373,1427.87 864.525,1428.33 831.677,1428.73 \n",
       "  798.828,1429 765.98,1429.05 733.132,1428.81 700.284,1428.17 667.436,1427.02 634.587,1425.26 601.739,1422.76 568.891,1419.38 539.513,1415.46 536.043,1414.94 \n",
       "  503.195,1408.65 470.346,1400.86 437.714,1391.46 437.498,1391.39 404.65,1378.43 381.157,1367.46 371.802,1362.43 341.668,1343.45 338.954,1341.47 312.988,1319.45 \n",
       "  306.105,1312.61 291.091,1295.44 273.355,1271.44 273.257,1271.28 260.392,1247.44 249.739,1223.43 241.129,1199.43 240.409,1196.89 235.045,1175.42 230.43,1151.42 \n",
       "  227.005,1127.42 224.593,1103.41 223.026,1079.41 222.147,1055.41 221.812,1031.4 221.889,1007.4 222.255,983.394 222.802,959.39 223.43,935.386 224.054,911.382 \n",
       "  224.598,887.379 224.998,863.375 225.202,839.371 225.171,815.367 224.875,791.363 224.297,767.359 223.43,743.356 222.282,719.352 220.869,695.348 219.219,671.344 \n",
       "  217.375,647.34 215.386,623.336 213.318,599.333 211.245,575.329 209.254,551.325 207.561,528.886 207.456,527.321 206.109,503.317 205.126,479.313 204.625,455.309 \n",
       "  204.734,431.306 205.591,407.302 207.344,383.298 207.561,381.442 210.487,359.294 215.04,335.29 221.177,311.286 229.112,287.283 239.071,263.279 240.409,260.65 \n",
       "  252.766,239.275 269.492,215.271 273.257,210.723 291.666,191.267 306.105,178.266 320.172,167.263 338.954,154.62 358.537,143.259 371.802,136.578 404.65,122.451 \n",
       "  413.443,119.256 437.498,111.607 470.346,102.891 503.195,95.7214 505.856,95.2518 536.043,90.5599 568.891,86.5211 601.739,83.413 634.587,81.1072 667.436,79.4829 \n",
       "  700.284,78.4274 733.132,77.8357 765.98,77.6103 798.828,77.6619 831.677,77.9086 864.525,78.2767 897.373,78.6998 930.221,79.1198 963.069,79.4859 995.917,79.7553 \n",
       "  1028.77,79.8931 1061.61,79.8721 1094.46,79.6726 1127.31,79.2832 1160.16,78.6998 1193.01,77.9265 1225.85,76.9747 1258.7,75.8641 1291.55,74.6219 1324.4,73.283 \n",
       "  1357.25,71.8902 1372.36,71.2479 1390.1,70.5799 1422.94,69.3915 1455.79,68.3106 1488.64,67.4027 1521.49,66.7402 1554.34,66.4025 1587.18,66.4758 1620.03,67.0532 \n",
       "  1652.88,68.2347 1685.73,70.1273 1699.28,71.2479 1718.58,73.0495 1751.43,77.1823 1784.27,82.5259 1817.12,89.232 1841.15,95.2518 1849.97,97.7586 1882.82,109.016 \n",
       "  1907.97,119.256 1915.67,122.838 1948.51,140.778 1952.43,143.259 1981.36,164.405 1984.76,167.263 2009.31,191.267 2014.21,196.893 2028.22,215.271 2043.63,239.275 \n",
       "  2047.06,245.718 2055.3,263.279 2064.47,287.283 2071.79,311.286 2077.44,335.29 2079.91,349.395 2081.44,359.294 2084.03,383.298 2085.65,407.302 2086.44,431.306 \n",
       "  2086.54,455.309 2086.08,479.313 2085.17,503.317 2083.93,527.321 2082.45,551.325 2080.82,575.329 2079.91,588.288 2079.03,599.333 2077.12,623.336 2075.29,647.34 \n",
       "  2073.59,671.344 2072.07,695.348 2070.77,719.352 2069.71,743.356 2068.91,767.359 2068.38,791.363 2068.11,815.367 2068.08,839.371 2068.27,863.375 2068.63,887.379 \n",
       "  2069.14,911.382 2069.71,935.386 2070.29,959.39 2070.79,983.394 2071.13,1007.4 2071.2,1031.4 2070.89,1055.41 2070.08,1079.41 2068.64,1103.41 2066.42,1127.42 \n",
       "  2063.26,1151.42 2059.01,1175.42 2053.48,1199.43 2047.06,1221.49 2046.42,1223.43 2036.61,1247.44 2024.68,1271.44 2014.21,1289.02 2009.84,1295.44 1990.51,1319.45 \n",
       "  1981.36,1329.14 1965.82,1343.45 1948.51,1357.18 \n",
       "  \"/>\n",
       "<polyline clip-path=\"url(#clip7702)\" style=\"stroke:#6e186e; stroke-width:4; stroke-opacity:1; fill:none\" points=\"\n",
       "  1915.67,1337.61 1907.01,1343.45 1882.82,1357.52 1862.53,1367.46 1849.97,1372.8 1817.12,1384.39 1792.53,1391.46 1784.27,1393.54 1751.43,1400.12 1718.58,1405.21 \n",
       "  1685.73,1408.99 1652.88,1411.62 1620.03,1413.27 1587.18,1414.07 1554.34,1414.17 1521.49,1413.7 1488.64,1412.78 1455.79,1411.52 1422.94,1410.02 1390.1,1408.36 \n",
       "  1357.25,1406.64 1324.4,1404.93 1291.55,1403.28 1258.7,1401.75 1225.85,1400.38 1193.01,1399.2 1160.16,1398.25 1127.31,1397.53 1094.46,1397.05 1061.61,1396.81 \n",
       "  1028.77,1396.78 995.917,1396.95 963.069,1397.28 930.221,1397.73 897.373,1398.25 864.525,1398.77 831.677,1399.23 798.828,1399.53 765.98,1399.59 733.132,1399.32 \n",
       "  700.284,1398.59 667.436,1397.29 634.587,1395.28 601.739,1392.44 593.311,1391.46 568.891,1388.2 536.043,1382.52 503.195,1375.32 474.147,1367.46 470.346,1366.27 \n",
       "  437.498,1353.82 414.676,1343.45 404.65,1338.17 374.649,1319.45 371.802,1317.37 346.186,1295.44 338.954,1288.12 324.768,1271.44 307.727,1247.44 306.105,1244.66 \n",
       "  295.338,1223.43 285.497,1199.43 277.711,1175.42 273.257,1157.58 271.912,1151.42 268.023,1127.42 265.284,1103.41 263.504,1079.41 262.506,1055.41 262.126,1031.4 \n",
       "  262.213,1007.4 262.629,983.394 263.25,959.39 263.963,935.386 264.672,911.382 265.289,887.379 265.744,863.375 265.976,839.371 265.94,815.367 265.604,791.363 \n",
       "  264.947,767.359 263.963,743.356 262.659,719.352 261.054,695.348 259.181,671.344 257.086,647.34 254.828,623.336 252.479,599.333 250.125,575.329 247.863,551.325 \n",
       "  245.807,527.321 244.079,503.317 242.818,479.313 242.176,455.309 242.315,431.306 243.414,407.302 245.662,383.298 249.263,359.294 254.434,335.29 261.404,311.286 \n",
       "  270.416,287.283 273.257,281.252 282.937,263.279 298.798,239.275 306.105,230.1 319.702,215.271 338.954,197.596 346.954,191.267 371.802,174.521 384.414,167.263 \n",
       "  404.65,157.24 437.498,143.495 438.172,143.259 470.346,133.503 503.195,125.309 533.217,119.256 536.043,118.757 568.891,114.173 601.739,110.645 634.587,108.027 \n",
       "  667.436,106.184 700.284,104.986 733.132,104.314 765.98,104.058 798.828,104.117 831.677,104.397 864.525,104.815 897.373,105.295 930.221,105.772 963.069,106.187 \n",
       "  995.917,106.493 1028.77,106.649 1061.61,106.625 1094.46,106.399 1127.31,105.957 1160.16,105.295 1193.01,104.417 1225.85,103.337 1258.7,102.076 1291.55,100.666 \n",
       "  1324.4,99.1462 1357.25,97.5653 1390.1,95.9808 1405.83,95.2518 1422.94,94.5532 1455.79,93.3336 1488.64,92.3093 1521.49,91.5618 1554.34,91.1808 1587.18,91.2635 \n",
       "  1620.03,91.915 1652.88,93.248 1683.71,95.2518 1685.73,95.4011 1718.58,98.8812 1751.43,103.572 1784.27,109.638 1817.12,117.25 1824.18,119.256 1849.97,127.637 \n",
       "  1882.82,140.502 1888.74,143.259 1915.67,157.686 1930.89,167.263 1948.51,180.14 1961.62,191.267 1981.36,210.941 1985.14,215.271 2002.74,239.275 2014.21,258.124 \n",
       "  2016.96,263.279 2027.37,287.283 2035.67,311.286 2042.09,335.29 2046.86,359.294 2047.06,360.773 2049.8,383.298 2051.63,407.302 2052.52,431.306 2052.63,455.309 \n",
       "  2052.11,479.313 2051.09,503.317 2049.68,527.321 2048.02,551.325 2047.06,563.831 2046.06,575.329 2043.89,599.333 2041.73,623.336 2039.65,647.34 2037.72,671.344 \n",
       "  2036,695.348 2034.52,719.352 2033.32,743.356 2032.41,767.359 2031.8,791.363 2031.5,815.367 2031.46,839.371 2031.68,863.375 2032.1,887.379 2032.66,911.382 \n",
       "  2033.32,935.386 2033.97,959.39 2034.55,983.394 2034.93,1007.4 2035.01,1031.4 2034.66,1055.41 2033.74,1079.41 2032.1,1103.41 2029.58,1127.42 2025.99,1151.42 \n",
       "  2021.17,1175.42 2014.89,1199.43 2014.21,1201.49 2005.93,1223.43 1994.72,1247.44 1981.36,1270.95 1981.04,1271.44 1962.23,1295.44 1948.51,1310.23 1938.58,1319.45 \n",
       "  1915.67,1337.61 \n",
       "  \"/>\n",
       "<polyline clip-path=\"url(#clip7702)\" style=\"stroke:#550f6d; stroke-width:4; stroke-opacity:1; fill:none\" points=\"\n",
       "  1882.82,1310.7 1869.67,1319.45 1849.97,1330.64 1822.8,1343.45 1817.12,1345.76 1784.27,1356.63 1751.43,1365.3 1740.85,1367.46 1718.58,1371.4 1685.73,1375.72 \n",
       "  1652.88,1378.73 1620.03,1380.61 1587.18,1381.52 1554.34,1381.64 1521.49,1381.1 1488.64,1380.05 1455.79,1378.61 1422.94,1376.89 1390.1,1375 1357.25,1373.04 \n",
       "  1324.4,1371.07 1291.55,1369.19 1259.04,1367.46 1258.7,1367.43 1225.85,1365.63 1193.01,1364.09 1160.16,1362.84 1127.31,1361.89 1094.46,1361.26 1061.61,1360.94 \n",
       "  1028.77,1360.9 995.917,1361.12 963.069,1361.56 930.221,1362.16 897.373,1362.84 864.525,1363.52 831.677,1364.12 798.828,1364.52 765.98,1364.6 733.132,1364.24 \n",
       "  700.284,1363.28 667.436,1361.57 634.587,1358.93 601.739,1355.19 568.891,1350.15 536.043,1343.6 535.439,1343.45 503.195,1334.02 470.346,1322.13 464.242,1319.45 \n",
       "  437.498,1305.67 420.939,1295.44 404.65,1283.54 390.659,1271.44 371.802,1251.9 368.127,1247.44 351.86,1223.43 338.954,1199.87 338.745,1199.43 329.783,1175.42 \n",
       "  322.886,1151.42 317.769,1127.42 314.164,1103.41 311.822,1079.41 310.509,1055.41 310.009,1031.4 310.123,1007.4 310.671,983.394 311.488,959.39 312.427,935.386 \n",
       "  313.359,911.382 314.171,887.379 314.769,863.375 315.075,839.371 315.028,815.367 314.585,791.363 313.721,767.359 312.427,743.356 310.71,719.352 308.598,695.348 \n",
       "  306.134,671.344 306.105,671.097 303.736,647.34 301.155,623.336 298.47,599.333 295.779,575.329 293.194,551.325 290.843,527.321 288.869,503.317 287.428,479.313 \n",
       "  286.694,455.309 286.853,431.306 288.109,407.302 290.678,383.298 294.794,359.294 300.705,335.29 306.105,319.017 309.059,311.286 320.917,287.283 335.799,263.279 \n",
       "  338.954,259.131 356.483,239.275 371.802,224.878 383.774,215.271 404.65,201.17 422.004,191.267 437.498,183.734 470.346,170.406 479.762,167.263 503.195,160.532 \n",
       "  536.043,152.905 568.891,146.871 594.441,143.259 601.739,142.364 634.587,139.373 667.436,137.266 700.284,135.896 733.132,135.129 765.98,134.836 798.828,134.903 \n",
       "  831.677,135.223 864.525,135.701 897.373,136.25 930.221,136.794 963.069,137.269 995.917,137.619 1028.77,137.798 1061.61,137.77 1094.46,137.512 1127.31,137.006 \n",
       "  1160.16,136.25 1193.01,135.246 1225.85,134.012 1258.7,132.571 1291.55,130.96 1324.4,129.223 1357.25,127.416 1390.1,125.605 1422.94,123.866 1455.79,122.284 \n",
       "  1488.64,120.955 1521.49,119.986 1554.34,119.491 1587.18,119.599 1620.03,120.444 1652.88,122.173 1685.73,124.943 1718.58,128.92 1751.43,134.281 1784.27,141.213 \n",
       "  1792,143.259 1817.12,150.921 1849.97,163.213 1858.95,167.263 1882.82,179.772 1901.28,191.267 1915.67,201.778 1931.4,215.271 1948.51,232.713 1954.06,239.275 \n",
       "  1970.88,263.279 1981.36,281.635 1984.16,287.283 1993.65,311.286 2000.99,335.29 2006.43,359.294 2010.22,383.298 2012.59,407.302 2013.74,431.306 2013.89,455.309 \n",
       "  2013.21,479.313 2011.89,503.317 2010.07,527.321 2007.9,551.325 2005.52,575.329 2003.04,599.333 2000.57,623.336 1998.19,647.34 1995.99,671.344 1994.02,695.348 \n",
       "  1992.33,719.352 1990.96,743.356 1989.92,767.359 1989.23,791.363 1988.87,815.367 1988.84,839.371 1989.08,863.375 1989.56,887.379 1990.21,911.382 1990.96,935.386 \n",
       "  1991.71,959.39 1992.36,983.394 1992.8,1007.4 1992.89,1031.4 1992.49,1055.41 1991.44,1079.41 1989.57,1103.41 1986.68,1127.42 1982.59,1151.42 1981.36,1156.75 \n",
       "  1976.42,1175.42 1968.16,1199.43 1957.73,1223.43 1948.51,1240.56 1944.21,1247.44 1925.98,1271.44 1915.67,1282.76 1902.11,1295.44 1882.82,1310.7 \n",
       "  \"/>\n",
       "<polyline clip-path=\"url(#clip7702)\" style=\"stroke:#3b0963; stroke-width:4; stroke-opacity:1; fill:none\" points=\"\n",
       "  1849.97,1273.11 1817.12,1294.58 1815.49,1295.44 1784.27,1309.49 1756.51,1319.45 1751.43,1321 1718.58,1328.78 1685.73,1334.55 1652.88,1338.57 1620.03,1341.08 \n",
       "  1587.18,1342.3 1554.34,1342.46 1521.49,1341.74 1488.64,1340.34 1455.79,1338.41 1422.94,1336.11 1390.1,1333.59 1357.25,1330.96 1324.4,1328.34 1291.55,1325.82 \n",
       "  1258.7,1323.48 1225.85,1321.39 1193.01,1319.6 1189.5,1319.45 1160.16,1317.93 1127.31,1316.64 1094.46,1315.78 1061.61,1315.34 1028.77,1315.3 995.917,1315.6 \n",
       "  963.069,1316.19 930.221,1317 897.373,1317.93 864.525,1318.86 840.637,1319.45 831.677,1319.64 798.828,1320.1 765.98,1320.2 733.132,1319.77 723.509,1319.45 \n",
       "  700.284,1318.53 667.436,1316.2 634.587,1312.62 601.739,1307.54 568.891,1300.69 549.547,1295.44 536.043,1291.11 503.195,1277.79 490.531,1271.44 470.346,1259.31 \n",
       "  454.101,1247.44 437.498,1232.69 428.805,1223.43 410.578,1199.43 404.65,1189.56 397.476,1175.42 388.102,1151.42 381.147,1127.42 376.248,1103.41 373.064,1079.41 \n",
       "  371.802,1062.44 371.355,1055.41 370.775,1031.4 370.908,1007.4 371.543,983.394 371.802,976.846 372.609,959.39 373.886,935.386 375.152,911.382 376.256,887.379 \n",
       "  377.069,863.375 377.485,839.371 377.421,815.367 376.82,791.363 375.645,767.359 373.886,743.356 371.802,721.914 371.589,719.352 369.138,695.348 366.278,671.344 \n",
       "  363.079,647.34 359.631,623.336 356.044,599.333 352.449,575.329 348.996,551.325 345.855,527.321 343.217,503.317 341.292,479.313 340.311,455.309 340.524,431.306 \n",
       "  342.202,407.302 345.635,383.298 351.134,359.294 359.03,335.29 369.673,311.286 371.802,307.573 385.426,287.283 404.65,264.469 405.837,263.279 435.212,239.275 \n",
       "  437.498,237.725 470.346,219.14 478.659,215.271 503.195,205.659 536.043,195.258 551.973,191.267 568.891,187.657 601.739,182.262 634.587,178.26 667.436,175.441 \n",
       "  700.284,173.609 733.132,172.582 765.98,172.19 798.828,172.28 831.677,172.708 864.525,173.347 897.373,174.082 930.221,174.81 963.069,175.446 995.917,175.914 \n",
       "  1028.77,176.153 1061.61,176.116 1094.46,175.77 1127.31,175.094 1160.16,174.082 1193.01,172.739 1225.85,171.087 1258.7,169.16 1287.59,167.263 1291.55,167.04 \n",
       "  1324.4,165.039 1357.25,162.959 1390.1,160.873 1422.94,158.87 1455.79,157.048 1488.64,155.518 1521.49,154.401 1554.34,153.832 1587.18,153.956 1620.03,154.929 \n",
       "  1652.88,156.92 1685.73,160.11 1718.58,164.691 1732.26,167.263 1751.43,171.448 1784.27,180.722 1814.03,191.267 1817.12,192.552 1849.97,209.316 1859.65,215.271 \n",
       "  1882.82,232.2 1890.97,239.275 1913.91,263.279 1915.67,265.537 1930.1,287.283 1942.79,311.286 1948.51,325.288 1952.04,335.29 1958.3,359.294 1962.67,383.298 \n",
       "  1965.39,407.302 1966.73,431.306 1966.89,455.309 1966.12,479.313 1964.59,503.317 1962.49,527.321 1960,551.325 1957.26,575.329 1954.41,599.333 1951.56,623.336 \n",
       "  1948.82,647.34 1948.51,650.233 1945.92,671.344 1943.28,695.348 1941.02,719.352 1939.18,743.356 1937.8,767.359 1936.87,791.363 1936.4,815.367 1936.35,839.371 \n",
       "  1936.68,863.375 1937.32,887.379 1938.19,911.382 1939.18,935.386 1940.19,959.39 1941.06,983.394 1941.65,1007.4 1941.77,1031.4 1941.24,1055.41 1939.83,1079.41 \n",
       "  1937.32,1103.41 1933.47,1127.42 1927.99,1151.42 1920.61,1175.42 1915.67,1187.79 1910.21,1199.43 1895.97,1223.43 1882.82,1241.36 1877.52,1247.44 1852.09,1271.44 \n",
       "  1849.97,1273.11 \n",
       "  \"/>\n",
       "<polyline clip-path=\"url(#clip7702)\" style=\"stroke:#1f0b46; stroke-width:4; stroke-opacity:1; fill:none\" points=\"\n",
       "  1784.27,1239.28 1771.08,1247.44 1751.43,1257.43 1718.58,1270.35 1714.84,1271.44 1685.73,1278.53 1652.88,1284.1 1620.03,1287.58 1587.18,1289.28 1554.34,1289.49 \n",
       "  1521.49,1288.5 1488.64,1286.55 1455.79,1283.88 1422.94,1280.69 1390.1,1277.2 1357.25,1273.55 1338.13,1271.44 1324.4,1269.62 1291.55,1265.44 1258.7,1261.55 \n",
       "  1225.85,1258.08 1193.01,1255.11 1160.16,1252.69 1127.31,1250.86 1094.46,1249.65 1061.61,1249.02 1028.77,1248.96 995.917,1249.39 963.069,1250.23 930.221,1251.38 \n",
       "  897.373,1252.69 864.525,1254.01 831.677,1255.16 798.828,1255.93 765.98,1256.09 733.132,1255.39 700.284,1253.54 667.436,1250.24 649.298,1247.44 634.587,1244.67 \n",
       "  601.739,1235.91 568.891,1224.1 567.468,1223.43 536.043,1205.27 528.053,1199.43 503.195,1176.46 502.284,1175.42 486.121,1151.42 474.129,1127.42 470.346,1116.67 \n",
       "  466.51,1103.41 461.995,1079.41 459.464,1055.41 458.499,1031.4 458.72,1007.4 459.776,983.394 461.35,959.39 463.16,935.386 464.956,911.382 466.523,887.379 \n",
       "  467.675,863.375 468.265,839.371 468.175,815.367 467.321,791.363 465.656,767.359 463.16,743.356 459.852,719.352 455.781,695.348 451.03,671.344 445.716,647.34 \n",
       "  439.988,623.336 437.498,613.303 434.604,599.333 429.621,575.329 424.834,551.325 420.48,527.321 416.823,503.317 414.155,479.313 412.794,455.309 413.09,431.306 \n",
       "  415.415,407.302 420.174,383.298 427.797,359.294 437.498,338.02 438.99,335.29 456.668,311.286 470.346,296.923 481.507,287.283 503.195,272.355 519.51,263.279 \n",
       "  536.043,255.782 568.891,244 586.01,239.275 601.739,235.673 634.587,230.092 667.436,226.161 700.284,223.606 733.132,222.174 765.98,221.628 798.828,221.753 \n",
       "  831.677,222.35 864.525,223.241 897.373,224.265 930.221,225.282 963.069,226.168 995.917,226.82 1028.77,227.153 1061.61,227.102 1094.46,226.62 1127.31,225.677 \n",
       "  1160.16,224.265 1193.01,222.393 1225.85,220.09 1258.7,217.402 1281.98,215.271 1291.55,214.534 1324.4,211.806 1357.25,208.969 1390.1,206.125 1422.94,203.393 \n",
       "  1455.79,200.908 1488.64,198.822 1521.49,197.299 1554.34,196.523 1587.18,196.691 1620.03,198.018 1652.88,200.734 1685.73,205.084 1718.58,211.331 1733.95,215.271 \n",
       "  1751.43,220.592 1784.27,233.525 1795.91,239.275 1817.12,251.908 1832.68,263.279 1849.97,278.78 1857.84,287.283 1875.54,311.286 1882.82,324.056 1888.21,335.29 \n",
       "  1896.76,359.294 1902.71,383.298 1906.43,407.302 1908.24,431.306 1908.47,455.309 1907.41,479.313 1905.33,503.317 1902.47,527.321 1899.07,551.325 1895.33,575.329 \n",
       "  1891.44,599.333 1887.56,623.336 1883.83,647.34 1882.82,654.331 1879.9,671.344 1876.22,695.348 1873.07,719.352 1870.51,743.356 1868.58,767.359 1867.29,791.363 \n",
       "  1866.63,815.367 1866.56,839.371 1867.01,863.375 1867.91,887.379 1869.12,911.382 1870.51,935.386 1871.91,959.39 1873.13,983.394 1873.95,1007.4 1874.12,1031.4 \n",
       "  1873.37,1055.41 1871.41,1079.41 1867.92,1103.41 1862.54,1127.42 1854.9,1151.42 1849.97,1162.92 1843.5,1175.42 1827.38,1199.43 1817.12,1211.51 1804.7,1223.43 \n",
       "  1784.27,1239.28 \n",
       "  \"/>\n",
       "<polyline clip-path=\"url(#clip7702)\" style=\"stroke:#0a0622; stroke-width:4; stroke-opacity:1; fill:none\" points=\"\n",
       "  1718.58,1155.28 1690.63,1175.42 1685.73,1178.14 1652.88,1190.83 1620.03,1198.76 1614.32,1199.43 1587.18,1201.96 1554.34,1202.35 1521.49,1200.56 1510.94,1199.43 \n",
       "  1488.64,1196.41 1455.79,1190.32 1422.94,1183.08 1391.41,1175.42 1390.1,1175.01 1357.25,1164.23 1324.4,1153.47 1317.88,1151.42 1291.55,1140.25 1258.95,1127.42 \n",
       "  1258.7,1127.28 1225.85,1110.86 1208.45,1103.41 1193.01,1093.24 1167.18,1079.41 1160.16,1072.7 1136.15,1055.41 1127.31,1038.68 1121.54,1031.4 1125.89,1007.4 \n",
       "  1127.31,1005.76 1140.26,983.394 1160.16,960.344 1160.78,959.39 1178.75,935.386 1193.01,916.204 1195.92,911.382 1208.55,887.379 1217.85,863.375 1222.61,839.371 \n",
       "  1221.88,815.367 1215,791.363 1201.56,767.359 1193.01,757.164 1178.75,743.356 1160.16,729.767 1141.26,719.352 1127.31,713.102 1094.46,703.28 1061.61,698.25 \n",
       "  1028.77,697.719 995.917,701.194 963.069,707.991 930.221,717.224 923.623,719.352 897.373,729.767 864.525,742.901 863.219,743.356 831.677,757.898 801.067,767.359 \n",
       "  798.828,768.396 765.98,771.574 756.013,767.359 733.132,760.9 709.466,743.356 700.284,738.221 681.363,719.352 667.436,708.064 657.239,695.348 634.778,671.344 \n",
       "  634.587,671.162 617.025,647.34 601.739,628.103 598.929,623.336 584.21,599.333 569.457,575.329 568.891,574.37 558.421,551.325 548.502,527.321 540.171,503.317 \n",
       "  536.043,487.018 534.499,479.313 532.048,455.309 532.58,431.306 536.043,411.473 536.964,407.302 547.806,383.298 565.173,359.294 568.891,355.715 596.462,335.29 \n",
       "  601.739,332.39 634.587,318.997 661.436,311.286 667.436,309.954 700.284,305.212 733.132,302.554 765.98,301.542 798.828,301.773 831.677,302.882 864.525,304.535 \n",
       "  897.373,306.436 930.221,308.322 963.069,309.967 995.917,311.177 1001.7,311.286 1028.77,311.946 1061.61,311.823 1076.84,311.286 1094.46,310.806 1127.31,309.056 \n",
       "  1160.16,306.436 1193.01,302.962 1225.85,298.687 1258.7,293.698 1291.55,288.117 1296.11,287.283 1324.4,283.155 1357.25,278.17 1390.1,273.174 1422.94,268.374 \n",
       "  1455.79,264.009 1462.33,263.279 1488.64,260.886 1521.49,258.705 1554.34,257.594 1587.18,257.835 1620.03,259.735 1649.96,263.279 1652.88,263.702 1685.73,271.346 \n",
       "  1718.58,282.32 1729.6,287.283 1751.43,299.619 1767.39,311.286 1784.27,327.237 1791.07,335.29 1806.08,359.294 1816.54,383.298 1817.12,385.43 1821.97,407.302 \n",
       "  1824.57,431.306 1824.9,455.309 1823.38,479.313 1820.4,503.317 1817.12,522.541 1816.12,527.321 1810.15,551.325 1803.58,575.329 1796.74,599.333 1789.92,623.336 \n",
       "  1784.27,644.008 1783.13,647.34 1775.5,671.344 1768.67,695.348 1762.82,719.352 1758.06,743.356 1754.48,767.359 1752.08,791.363 1751.43,804.238 1750.69,815.367 \n",
       "  1750.52,839.371 1751.43,859.146 1751.58,863.375 1753.23,887.379 1755.48,911.382 1758.06,935.386 1760.66,959.39 1762.93,983.394 1764.44,1007.4 1764.76,1031.4 \n",
       "  1763.38,1055.41 1759.74,1079.41 1753.25,1103.41 1751.43,1107.8 1740.87,1127.42 1722.55,1151.42 1718.58,1155.28 \n",
       "  \"/>\n",
       "<polyline clip-path=\"url(#clip7702)\" style=\"stroke:#0a0622; stroke-width:4; stroke-opacity:1; fill:none\" points=\"\n",
       "  946.394,1007.4 951.02,1031.4 930.799,1055.41 930.221,1055.67 897.373,1072.7 884.533,1079.41 864.525,1085.27 831.677,1093.64 798.828,1099.25 765.98,1100.43 \n",
       "  733.132,1095.3 700.284,1081.84 696.955,1079.41 678.538,1055.41 671.524,1031.4 673.129,1007.4 680.808,983.394 692.262,959.39 700.284,944.769 709.466,935.386 \n",
       "  732.774,911.382 733.132,910.96 765.98,896.183 798.828,899.564 822.822,911.382 831.677,915.185 863.219,935.386 864.525,936.216 896.237,959.39 897.373,960.344 \n",
       "  925.018,983.394 930.221,989.864 946.394,1007.4 \n",
       "  \"/>\n",
       "<defs>\n",
       "  <clipPath id=\"clip7703\">\n",
       "    <rect x=\"2160\" y=\"47\" width=\"73\" height=\"1441\"/>\n",
       "  </clipPath>\n",
       "</defs>\n",
       "<polyline clip-path=\"url(#clip7703)\" style=\"stroke:#0b0724; stroke-width:4; stroke-opacity:1; fill:none\" points=\"\n",
       "  2160.76,1397.46 2232.76,1397.46 \n",
       "  \"/>\n",
       "<polyline clip-path=\"url(#clip7703)\" style=\"stroke:#200b49; stroke-width:4; stroke-opacity:1; fill:none\" points=\"\n",
       "  2160.76,1307.45 2232.76,1307.45 \n",
       "  \"/>\n",
       "<polyline clip-path=\"url(#clip7703)\" style=\"stroke:#3c0964; stroke-width:4; stroke-opacity:1; fill:none\" points=\"\n",
       "  2160.76,1217.43 2232.76,1217.43 \n",
       "  \"/>\n",
       "<polyline clip-path=\"url(#clip7703)\" style=\"stroke:#57106d; stroke-width:4; stroke-opacity:1; fill:none\" points=\"\n",
       "  2160.76,1127.42 2232.76,1127.42 \n",
       "  \"/>\n",
       "<polyline clip-path=\"url(#clip7703)\" style=\"stroke:#70196e; stroke-width:4; stroke-opacity:1; fill:none\" points=\"\n",
       "  2160.76,1037.4 2232.76,1037.4 \n",
       "  \"/>\n",
       "<polyline clip-path=\"url(#clip7703)\" style=\"stroke:#8a2269; stroke-width:4; stroke-opacity:1; fill:none\" points=\"\n",
       "  2160.76,947.388 2232.76,947.388 \n",
       "  \"/>\n",
       "<polyline clip-path=\"url(#clip7703)\" style=\"stroke:#a32b61; stroke-width:4; stroke-opacity:1; fill:none\" points=\"\n",
       "  2160.76,857.374 2232.76,857.374 \n",
       "  \"/>\n",
       "<polyline clip-path=\"url(#clip7703)\" style=\"stroke:#bb3754; stroke-width:4; stroke-opacity:1; fill:none\" points=\"\n",
       "  2160.76,767.359 2232.76,767.359 \n",
       "  \"/>\n",
       "<polyline clip-path=\"url(#clip7703)\" style=\"stroke:#d04544; stroke-width:4; stroke-opacity:1; fill:none\" points=\"\n",
       "  2160.76,677.345 2232.76,677.345 \n",
       "  \"/>\n",
       "<polyline clip-path=\"url(#clip7703)\" style=\"stroke:#e25832; stroke-width:4; stroke-opacity:1; fill:none\" points=\"\n",
       "  2160.76,587.331 2232.76,587.331 \n",
       "  \"/>\n",
       "<polyline clip-path=\"url(#clip7703)\" style=\"stroke:#f0711e; stroke-width:4; stroke-opacity:1; fill:none\" points=\"\n",
       "  2160.76,497.316 2232.76,497.316 \n",
       "  \"/>\n",
       "<polyline clip-path=\"url(#clip7703)\" style=\"stroke:#f88c0a; stroke-width:4; stroke-opacity:1; fill:none\" points=\"\n",
       "  2160.76,407.302 2232.76,407.302 \n",
       "  \"/>\n",
       "<polyline clip-path=\"url(#clip7703)\" style=\"stroke:#fbaa0f; stroke-width:4; stroke-opacity:1; fill:none\" points=\"\n",
       "  2160.76,317.287 2232.76,317.287 \n",
       "  \"/>\n",
       "<polyline clip-path=\"url(#clip7703)\" style=\"stroke:#f8c933; stroke-width:4; stroke-opacity:1; fill:none\" points=\"\n",
       "  2160.76,227.273 2232.76,227.273 \n",
       "  \"/>\n",
       "<polyline clip-path=\"url(#clip7703)\" style=\"stroke:#f2e763; stroke-width:4; stroke-opacity:1; fill:none\" points=\"\n",
       "  2160.76,137.259 2232.76,137.259 \n",
       "  \"/>\n",
       "<g clip-path=\"url(#clip7700)\">\n",
       "<text style=\"fill:#000000; fill-opacity:1; font-family:Arial,Helvetica Neue,Helvetica,sans-serif; font-size:48px; text-anchor:start;\" transform=\"rotate(0, 2268.76, 1451.39)\" x=\"2268.76\" y=\"1451.39\">0</text>\n",
       "</g>\n",
       "<g clip-path=\"url(#clip7700)\">\n",
       "<text style=\"fill:#000000; fill-opacity:1; font-family:Arial,Helvetica Neue,Helvetica,sans-serif; font-size:48px; text-anchor:start;\" transform=\"rotate(0, 2268.76, 1164.1)\" x=\"2268.76\" y=\"1164.1\">25</text>\n",
       "</g>\n",
       "<g clip-path=\"url(#clip7700)\">\n",
       "<text style=\"fill:#000000; fill-opacity:1; font-family:Arial,Helvetica Neue,Helvetica,sans-serif; font-size:48px; text-anchor:start;\" transform=\"rotate(0, 2268.76, 876.807)\" x=\"2268.76\" y=\"876.807\">50</text>\n",
       "</g>\n",
       "<g clip-path=\"url(#clip7700)\">\n",
       "<text style=\"fill:#000000; fill-opacity:1; font-family:Arial,Helvetica Neue,Helvetica,sans-serif; font-size:48px; text-anchor:start;\" transform=\"rotate(0, 2268.76, 589.514)\" x=\"2268.76\" y=\"589.514\">75</text>\n",
       "</g>\n",
       "<g clip-path=\"url(#clip7700)\">\n",
       "<text style=\"fill:#000000; fill-opacity:1; font-family:Arial,Helvetica Neue,Helvetica,sans-serif; font-size:48px; text-anchor:start;\" transform=\"rotate(0, 2268.76, 302.221)\" x=\"2268.76\" y=\"302.221\">100</text>\n",
       "</g>\n",
       "<polyline clip-path=\"url(#clip7700)\" style=\"stroke:#000000; stroke-width:4; stroke-opacity:1; fill:none\" points=\"\n",
       "  2232.76,1487.47 2232.76,1437.74 2256.76,1437.74 2232.76,1437.74 2232.76,1150.45 2256.76,1150.45 2232.76,1150.45 2232.76,863.155 2256.76,863.155 2232.76,863.155 \n",
       "  2232.76,575.863 2256.76,575.863 2232.76,575.863 2232.76,288.57 2256.76,288.57 2232.76,288.57 2232.76,47.2441 \n",
       "  \"/>\n",
       "</svg>\n"
      ]
     },
     "execution_count": 81,
     "metadata": {},
     "output_type": "execute_result"
    }
   ],
   "source": [
    "x = -3:0.1:3\n",
    "y = -3:0.1:3\n",
    "f(a, b) = begin\n",
    "        x = [a,b]\n",
    "        x'*(x.^3 .- 1.5) - 3*x'*x + 4\n",
    "        #x'*([x[1]^3,abs(x[2])^2] .- 1.5) - 2*x'*x + 4\n",
    "    end\n",
    "X = repeat(reshape(x, 1, :), length(y), 1)\n",
    "Y = repeat(y, 1, length(x))\n",
    "Z = map(f, X, Y)\n",
    "p2 = contour(x, y, Z)\n",
    "plot(p2)"
   ]
  },
  {
   "cell_type": "markdown",
   "metadata": {},
   "source": [
    "# Gradient Descent"
   ]
  },
  {
   "cell_type": "markdown",
   "metadata": {},
   "source": [
    "$\\mathbf{x}_{k+1} = \\mathbf{x}_{k+1} - \\eta \\nabla f(\\mathbf{x}_{k})$"
   ]
  },
  {
   "cell_type": "code",
   "execution_count": 82,
   "metadata": {},
   "outputs": [
    {
     "data": {
      "text/plain": [
       "GradientDescent (generic function with 1 method)"
      ]
     },
     "execution_count": 82,
     "metadata": {},
     "output_type": "execute_result"
    }
   ],
   "source": [
    "#without line search\n",
    "function GradientDescent(f,x_init,eps,step_size)\n",
    "    df(x) = ForwardDiff.gradient(f,x)\n",
    "    x = x_init\n",
    "    x_old = x\n",
    "    cond = false\n",
    "    while cond == false\n",
    "        x = x - step_size .* df(x)\n",
    "        if sum(abs.(x-x_old))<eps\n",
    "            cond = true\n",
    "        else\n",
    "            x_old = x\n",
    "        end\n",
    "    end\n",
    "    return x\n",
    "end"
   ]
  },
  {
   "cell_type": "code",
   "execution_count": 87,
   "metadata": {},
   "outputs": [
    {
     "data": {
      "text/plain": [
       "2-element Array{Float64,1}:\n",
       " -1.0731267288543154\n",
       " -1.0732364559586636"
      ]
     },
     "execution_count": 87,
     "metadata": {},
     "output_type": "execute_result"
    }
   ],
   "source": [
    "GradientDescent(f,[-2,-3],0.00001,0.001)"
   ]
  },
  {
   "cell_type": "code",
   "execution_count": 88,
   "metadata": {},
   "outputs": [
    {
     "data": {
      "text/plain": [
       "2-element Array{Float64,1}:\n",
       " 1.3348580221193111\n",
       " 1.3348580221193111"
      ]
     },
     "execution_count": 88,
     "metadata": {},
     "output_type": "execute_result"
    }
   ],
   "source": [
    "GradientDescent(f,[4,4],0.00001,0.001)"
   ]
  },
  {
   "cell_type": "markdown",
   "metadata": {},
   "source": [
    "# Newton's Method"
   ]
  },
  {
   "cell_type": "markdown",
   "metadata": {},
   "source": [
    "$\\mathbf{x}_{k+1} = \\mathbf{x}_{k+1} - [H_f(\\mathbf{x}_{k})]^{-1} \\nabla f(\\mathbf{x}_{k})$"
   ]
  },
  {
   "cell_type": "markdown",
   "metadata": {},
   "source": [
    "If $H_f(\\mathbf{x}_{k})$ is nearly singular, step sizes become very large to converge. One way to address this issue is to use small step sizes:\n",
    "\n",
    "$\\mathbf{x}_{k+1} = \\mathbf{x}_{k+1} - \\eta[H_f(\\mathbf{x}_{k})]^{-1} \\nabla f(\\mathbf{x}_{k})$"
   ]
  },
  {
   "cell_type": "markdown",
   "metadata": {},
   "source": [
    "In order for Newton's method to converge to a local minima, Hessian must be positive definite. A hybrid approach would be to check positive definiteness of the Hessian at each time step and go with Newton's method if this condition is satisfied, otherwise we can use gradient descent."
   ]
  },
  {
   "cell_type": "code",
   "execution_count": 92,
   "metadata": {},
   "outputs": [
    {
     "data": {
      "text/plain": [
       "NewtonM (generic function with 1 method)"
      ]
     },
     "execution_count": 92,
     "metadata": {},
     "output_type": "execute_result"
    }
   ],
   "source": [
    "function NewtonM(f,x_init,eps)\n",
    "    df(x) = ForwardDiff.gradient(f,x)\n",
    "    ddf(x) = ForwardDiff.jacobian(df,x)\n",
    "    x = x_init\n",
    "    x_old = x\n",
    "    cond = false\n",
    "    while cond == false\n",
    "        x = x - inv(ddf(x))*df(x)\n",
    "        if sum(abs.(x-x_old))<eps\n",
    "            cond = true\n",
    "        else\n",
    "            x_old = x\n",
    "        end\n",
    "    end\n",
    "    return x\n",
    "end"
   ]
  },
  {
   "cell_type": "code",
   "execution_count": 93,
   "metadata": {},
   "outputs": [
    {
     "data": {
      "text/plain": [
       "2-element Array{Float64,1}:\n",
       " -1.0725513456002111\n",
       " -1.072551345623567 "
      ]
     },
     "execution_count": 93,
     "metadata": {},
     "output_type": "execute_result"
    }
   ],
   "source": [
    "NewtonM(f,[-2,-3],0.00001)"
   ]
  },
  {
   "cell_type": "code",
   "execution_count": 94,
   "metadata": {},
   "outputs": [
    {
     "data": {
      "text/plain": [
       "2-element Array{Float64,1}:\n",
       " 1.334539544144846\n",
       " 1.334539544144846"
      ]
     },
     "execution_count": 94,
     "metadata": {},
     "output_type": "execute_result"
    }
   ],
   "source": [
    "NewtonM(f,[4,4],0.00001)"
   ]
  },
  {
   "cell_type": "markdown",
   "metadata": {},
   "source": [
    "# BFGS"
   ]
  },
  {
   "cell_type": "markdown",
   "metadata": {},
   "source": [
    "BFGS is a quasi-Newton method that avoids exact calculation of the Hessian, which can be costly in certain applications. Instead, it provides an iterative Hessian estimation procedure which converges while the function is minimized."
   ]
  },
  {
   "cell_type": "code",
   "execution_count": null,
   "metadata": {},
   "outputs": [],
   "source": []
  }
 ],
 "metadata": {
  "kernelspec": {
   "display_name": "Julia 1.2.0-rc1",
   "language": "julia",
   "name": "julia-1.2"
  },
  "language_info": {
   "file_extension": ".jl",
   "mimetype": "application/julia",
   "name": "julia",
   "version": "1.2.0"
  }
 },
 "nbformat": 4,
 "nbformat_minor": 2
}
